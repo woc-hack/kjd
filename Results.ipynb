{
 "cells": [
  {
   "cell_type": "markdown",
   "id": "fff2fdcf",
   "metadata": {},
   "source": [
    "Reading in data and data preparations:"
   ]
  },
  {
   "cell_type": "code",
   "execution_count": 1,
   "id": "d5608e44",
   "metadata": {},
   "outputs": [
    {
     "name": "stderr",
     "output_type": "stream",
     "text": [
      "/var/folders/6w/7bbpdns15f3_lz9dcrprnwm80000gn/T/ipykernel_9054/678992568.py:3: DtypeWarning: Columns (6,22,24) have mixed types. Specify dtype option on import or set low_memory=False.\n",
      "  df = pd.read_csv(\"final_report_values.csv\")\n"
     ]
    }
   ],
   "source": [
    "import pandas as pd\n",
    "\n",
    "df = pd.read_csv(\"final_report_values.csv\")"
   ]
  },
  {
   "cell_type": "code",
   "execution_count": 5,
   "id": "c7e4b16f",
   "metadata": {},
   "outputs": [],
   "source": [
    "cvefixes = pd.read_csv('data/cvefixes_new.csv', sep= \";\", names=['cve', 'commit', 'repo', 'file', 'date1', 'date2'])"
   ]
  },
  {
   "cell_type": "code",
   "execution_count": 3,
   "id": "1544b7a2",
   "metadata": {},
   "outputs": [],
   "source": [
    "df.columns = df.columns.str.strip()"
   ]
  },
  {
   "cell_type": "code",
   "execution_count": 14,
   "id": "5123899f",
   "metadata": {},
   "outputs": [
    {
     "data": {
      "text/plain": [
       "Index(['CVE', 'ProjectUrl', 'Project', 'Path', 'status', 'FirstBadBlob',\n",
       "       'FirstBadTime', 'FirstGoodBlob', 'FirstGoodTime', 'TimeSinceFix',\n",
       "       'TimeSinceFixF', 'TimeSincePub', 'TimeSincePubF', 'TimeVulnRemained',\n",
       "       'TimeVulnRemainedF', 'NumAuthors', 'EarliestCommitDate',\n",
       "       'LatestCommitDate', 'ValidDates', 'NumActiveMon', 'NumStars', 'NumCore',\n",
       "       'CommunitySize', 'NumCommits', 'NumForks', 'FileInfo', 'GHStars',\n",
       "       'GHCommits', 'SECURITY.md', 'Corp'],\n",
       "      dtype='object')"
      ]
     },
     "execution_count": 14,
     "metadata": {},
     "output_type": "execute_result"
    }
   ],
   "source": [
    "df.columns"
   ]
  },
  {
   "cell_type": "code",
   "execution_count": 2,
   "id": "b435eb92",
   "metadata": {},
   "outputs": [
    {
     "data": {
      "text/html": [
       "<div>\n",
       "<style scoped>\n",
       "    .dataframe tbody tr th:only-of-type {\n",
       "        vertical-align: middle;\n",
       "    }\n",
       "\n",
       "    .dataframe tbody tr th {\n",
       "        vertical-align: top;\n",
       "    }\n",
       "\n",
       "    .dataframe thead th {\n",
       "        text-align: right;\n",
       "    }\n",
       "</style>\n",
       "<table border=\"1\" class=\"dataframe\">\n",
       "  <thead>\n",
       "    <tr style=\"text-align: right;\">\n",
       "      <th></th>\n",
       "      <th>CVE</th>\n",
       "      <th>ProjectUrl</th>\n",
       "      <th>Project</th>\n",
       "      <th>Path</th>\n",
       "      <th>status</th>\n",
       "      <th>FirstBadBlob</th>\n",
       "      <th>FirstBadTime</th>\n",
       "      <th>FirstGoodBlob</th>\n",
       "      <th>FirstGoodTime</th>\n",
       "      <th>TimeSinceFix</th>\n",
       "      <th>...</th>\n",
       "      <th>NumStars</th>\n",
       "      <th>NumCore</th>\n",
       "      <th>CommunitySize</th>\n",
       "      <th>NumCommits</th>\n",
       "      <th>NumForks</th>\n",
       "      <th>FileInfo</th>\n",
       "      <th>GHStars</th>\n",
       "      <th>GHCommits</th>\n",
       "      <th>SECURITY.md</th>\n",
       "      <th>Corp</th>\n",
       "    </tr>\n",
       "  </thead>\n",
       "  <tbody>\n",
       "    <tr>\n",
       "      <th>0</th>\n",
       "      <td>CVE-2010-2809</td>\n",
       "      <td>github.com/uzbl/uzbl</td>\n",
       "      <td>uzbl_uzbl</td>\n",
       "      <td></td>\n",
       "      <td>fixed</td>\n",
       "      <td>9dd1370d0b7cd876f004f7a822b0357039252184</td>\n",
       "      <td>1262459475</td>\n",
       "      <td>9cc39cb5c9396be013b5dc2ba7e4b3eaa647e975</td>\n",
       "      <td>1281006747</td>\n",
       "      <td>0</td>\n",
       "      <td>...</td>\n",
       "      <td>988</td>\n",
       "      <td>9</td>\n",
       "      <td>230</td>\n",
       "      <td>7375</td>\n",
       "      <td>221</td>\n",
       "      <td>Lisp</td>\n",
       "      <td>971</td>\n",
       "      <td>4565</td>\n",
       "      <td>No</td>\n",
       "      <td>No</td>\n",
       "    </tr>\n",
       "    <tr>\n",
       "      <th>1</th>\n",
       "      <td>CVE-2010-3260</td>\n",
       "      <td>github.com/Dariucc07/Predicting-Vulnerable-Code</td>\n",
       "      <td>Dariucc07_Predicting-Vulnerable-Code</td>\n",
       "      <td>Dataset2/mining_results/RepositoryMining12/59...</td>\n",
       "      <td>notfixed</td>\n",
       "      <td>2e7f17890a24122e43a86e1185a16a2dbedf986f</td>\n",
       "      <td>1590856260</td>\n",
       "      <td></td>\n",
       "      <td></td>\n",
       "      <td></td>\n",
       "      <td>...</td>\n",
       "      <td>2</td>\n",
       "      <td>2</td>\n",
       "      <td>1</td>\n",
       "      <td>47</td>\n",
       "      <td>0</td>\n",
       "      <td>Java</td>\n",
       "      <td>1</td>\n",
       "      <td>47</td>\n",
       "      <td>No</td>\n",
       "      <td>No</td>\n",
       "    </tr>\n",
       "    <tr>\n",
       "      <th>2</th>\n",
       "      <td>CVE-2010-1630</td>\n",
       "      <td>github.com/phpbb/phpbb</td>\n",
       "      <td>phpbb_phpbb</td>\n",
       "      <td></td>\n",
       "      <td>fixed</td>\n",
       "      <td>33520bbf5bd80414f0cad5b7644a60ef05e20e43</td>\n",
       "      <td>982399052</td>\n",
       "      <td>1758aa38b21f5960ab1b1a241546b34a203051b6</td>\n",
       "      <td>1241079332</td>\n",
       "      <td>0</td>\n",
       "      <td>...</td>\n",
       "      <td>2341</td>\n",
       "      <td>31</td>\n",
       "      <td>1301</td>\n",
       "      <td>113558</td>\n",
       "      <td>1420</td>\n",
       "      <td>PHP</td>\n",
       "      <td>1584</td>\n",
       "      <td>36455</td>\n",
       "      <td>No</td>\n",
       "      <td>No</td>\n",
       "    </tr>\n",
       "    <tr>\n",
       "      <th>3</th>\n",
       "      <td>CVE-2010-1630</td>\n",
       "      <td>github.com/steveh/phpbb</td>\n",
       "      <td>steveh_phpbb</td>\n",
       "      <td></td>\n",
       "      <td>fixed</td>\n",
       "      <td>a07aa9fb69439b7306dc2803695ca1a693cfe492</td>\n",
       "      <td>982399052</td>\n",
       "      <td>77e524e1bdcdf76d141c23ee7682ea3304022282</td>\n",
       "      <td>1241079332</td>\n",
       "      <td>0</td>\n",
       "      <td>...</td>\n",
       "      <td></td>\n",
       "      <td>7</td>\n",
       "      <td>2</td>\n",
       "      <td>18255</td>\n",
       "      <td>0</td>\n",
       "      <td>PHP</td>\n",
       "      <td></td>\n",
       "      <td></td>\n",
       "      <td>No</td>\n",
       "      <td>No</td>\n",
       "    </tr>\n",
       "    <tr>\n",
       "      <th>4</th>\n",
       "      <td>CVE-2011-1588</td>\n",
       "      <td>github.com/simula67/Thunar-1.3.0</td>\n",
       "      <td>simula67_Thunar-1.3.0</td>\n",
       "      <td>thunar/thunar-transfer-job.c</td>\n",
       "      <td>notfixed</td>\n",
       "      <td>699184df2d3fdc86c365af02ae652f3898e931a3</td>\n",
       "      <td>1348235432</td>\n",
       "      <td></td>\n",
       "      <td></td>\n",
       "      <td></td>\n",
       "      <td>...</td>\n",
       "      <td></td>\n",
       "      <td>1</td>\n",
       "      <td>1</td>\n",
       "      <td>2</td>\n",
       "      <td>0</td>\n",
       "      <td>C/C++</td>\n",
       "      <td>0</td>\n",
       "      <td>2</td>\n",
       "      <td>No</td>\n",
       "      <td>No</td>\n",
       "    </tr>\n",
       "  </tbody>\n",
       "</table>\n",
       "<p>5 rows × 30 columns</p>\n",
       "</div>"
      ],
      "text/plain": [
       "             CVE                                        ProjectUrl  \\\n",
       "0  CVE-2010-2809                              github.com/uzbl/uzbl   \n",
       "1  CVE-2010-3260   github.com/Dariucc07/Predicting-Vulnerable-Code   \n",
       "2  CVE-2010-1630                            github.com/phpbb/phpbb   \n",
       "3  CVE-2010-1630                           github.com/steveh/phpbb   \n",
       "4  CVE-2011-1588                  github.com/simula67/Thunar-1.3.0   \n",
       "\n",
       "                                 Project  \\\n",
       "0                              uzbl_uzbl   \n",
       "1   Dariucc07_Predicting-Vulnerable-Code   \n",
       "2                            phpbb_phpbb   \n",
       "3                           steveh_phpbb   \n",
       "4                  simula67_Thunar-1.3.0   \n",
       "\n",
       "                                                Path     status  \\\n",
       "0                                                         fixed   \n",
       "1   Dataset2/mining_results/RepositoryMining12/59...   notfixed   \n",
       "2                                                         fixed   \n",
       "3                                                         fixed   \n",
       "4                       thunar/thunar-transfer-job.c   notfixed   \n",
       "\n",
       "                                FirstBadBlob  FirstBadTime  \\\n",
       "0   9dd1370d0b7cd876f004f7a822b0357039252184    1262459475   \n",
       "1   2e7f17890a24122e43a86e1185a16a2dbedf986f    1590856260   \n",
       "2   33520bbf5bd80414f0cad5b7644a60ef05e20e43     982399052   \n",
       "3   a07aa9fb69439b7306dc2803695ca1a693cfe492     982399052   \n",
       "4   699184df2d3fdc86c365af02ae652f3898e931a3    1348235432   \n",
       "\n",
       "                               FirstGoodBlob  FirstGoodTime  TimeSinceFix  \\\n",
       "0   9cc39cb5c9396be013b5dc2ba7e4b3eaa647e975     1281006747             0   \n",
       "1                                                                           \n",
       "2   1758aa38b21f5960ab1b1a241546b34a203051b6     1241079332             0   \n",
       "3   77e524e1bdcdf76d141c23ee7682ea3304022282     1241079332             0   \n",
       "4                                                                           \n",
       "\n",
       "   ...  NumStars  NumCore  CommunitySize  NumCommits  NumForks  FileInfo  \\\n",
       "0  ...       988        9            230        7375       221      Lisp   \n",
       "1  ...         2        2              1          47         0      Java   \n",
       "2  ...      2341       31           1301      113558      1420       PHP   \n",
       "3  ...                  7              2       18255         0       PHP   \n",
       "4  ...                  1              1           2         0     C/C++   \n",
       "\n",
       "    GHStars   GHCommits  SECURITY.md   Corp  \n",
       "0       971        4565           No     No  \n",
       "1         1          47           No     No  \n",
       "2      1584       36455           No     No  \n",
       "3                                 No     No  \n",
       "4         0           2           No     No  \n",
       "\n",
       "[5 rows x 30 columns]"
      ]
     },
     "execution_count": 2,
     "metadata": {},
     "output_type": "execute_result"
    }
   ],
   "source": [
    "df.head()"
   ]
  },
  {
   "cell_type": "markdown",
   "id": "d5d1c1bd",
   "metadata": {},
   "source": [
    "## RQ1: How prevalent are cloned files with vulnerabilities?\n",
    "\n",
    "Subquestions: \n",
    "\n",
    "- How many vulnerabilities are cloned in total? \n",
    "- What percentage of vulnerabilities in CVEFixes dataset have been cloned? \n",
    "- How many projects are there with cloned vulnerabilities?\n",
    "- How many clones of vulnerabilities are there in total? "
   ]
  },
  {
   "cell_type": "code",
   "execution_count": 4,
   "id": "998dc30f",
   "metadata": {},
   "outputs": [
    {
     "data": {
      "text/plain": [
       "3093"
      ]
     },
     "execution_count": 4,
     "metadata": {},
     "output_type": "execute_result"
    }
   ],
   "source": [
    "# How many vulnerabilities are cloned in total? \n",
    "\n",
    "df['CVE'].nunique()"
   ]
  },
  {
   "cell_type": "code",
   "execution_count": 10,
   "id": "30245234",
   "metadata": {},
   "outputs": [
    {
     "data": {
      "text/plain": [
       "85.56016597510373"
      ]
     },
     "execution_count": 10,
     "metadata": {},
     "output_type": "execute_result"
    }
   ],
   "source": [
    "# What percentage of vulnerabilities in CVEFixes dataset have been cloned?\n",
    "\n",
    "df['CVE'].nunique() / cvefixes['cve'].nunique() * 100.0"
   ]
  },
  {
   "cell_type": "code",
   "execution_count": 17,
   "id": "b15b5832",
   "metadata": {},
   "outputs": [
    {
     "data": {
      "text/plain": [
       "499101"
      ]
     },
     "execution_count": 17,
     "metadata": {},
     "output_type": "execute_result"
    }
   ],
   "source": [
    "# How many projects are there with cloned vulnerabilities?\n",
    "\n",
    "df['Project'].nunique()"
   ]
  },
  {
   "cell_type": "code",
   "execution_count": 13,
   "id": "d2a1c2cf",
   "metadata": {},
   "outputs": [
    {
     "data": {
      "text/plain": [
       "2686265"
      ]
     },
     "execution_count": 13,
     "metadata": {},
     "output_type": "execute_result"
    }
   ],
   "source": [
    "df['CVE'].count()"
   ]
  },
  {
   "cell_type": "markdown",
   "id": "062ad1be",
   "metadata": {},
   "source": [
    "## RQ2: What are the characteristics of projects that have cloned vulnerabilities?\n",
    "\n",
    "Subquestions: \n",
    "- Number of commits? \n",
    "- Number of contributors? \n",
    "- Number of stars? \n",
    "- Language of the project? \n",
    "- File ending of the vulnerable file? \n",
    "- Security.md file?"
   ]
  },
  {
   "cell_type": "code",
   "execution_count": null,
   "id": "f5b41f40",
   "metadata": {},
   "outputs": [],
   "source": [
    "df['file_ending'] = df.Path.str.split('.').str[-1]"
   ]
  },
  {
   "cell_type": "code",
   "execution_count": null,
   "id": "b6fbcfbb",
   "metadata": {},
   "outputs": [],
   "source": []
  },
  {
   "cell_type": "markdown",
   "id": "4133e670",
   "metadata": {},
   "source": [
    "## RQ3: What percentage of cloned vulnerabilities are fixed?\n",
    "\n",
    "Subquestions: \n",
    "- How many vulnerabilities are fixed/not fixed/unknown"
   ]
  },
  {
   "cell_type": "code",
   "execution_count": null,
   "id": "db193974",
   "metadata": {},
   "outputs": [],
   "source": []
  },
  {
   "cell_type": "markdown",
   "id": "8f5d32b6",
   "metadata": {},
   "source": [
    "## RQ4: How do different characteristics of a project affect the percentage of fixed vulnerabilities? \n",
    "_(would it be ok to modify the question like this?)_\n",
    "\n",
    "Subquestions: \n",
    "- Number of commits? \n",
    "- Number of contributions? \n",
    "- Number of stars? \n",
    "- Language of the project? \n",
    "- File ending of the vulnerable file? \n",
    "- Security.md file?"
   ]
  },
  {
   "cell_type": "markdown",
   "id": "a459e428",
   "metadata": {},
   "source": [
    "## RQ5: How long does it take to fix a cloned vulnerability?\n",
    "\n",
    "Subquestions: \n",
    "- Time distribution overall\n",
    "- Time distribution for projects with many commits, stars, Security.md file? "
   ]
  },
  {
   "cell_type": "code",
   "execution_count": null,
   "id": "e7ddee20",
   "metadata": {},
   "outputs": [],
   "source": []
  }
 ],
 "metadata": {
  "kernelspec": {
   "display_name": "Python 3 (ipykernel)",
   "language": "python",
   "name": "python3"
  },
  "language_info": {
   "codemirror_mode": {
    "name": "ipython",
    "version": 3
   },
   "file_extension": ".py",
   "mimetype": "text/x-python",
   "name": "python",
   "nbconvert_exporter": "python",
   "pygments_lexer": "ipython3",
   "version": "3.10.8"
  }
 },
 "nbformat": 4,
 "nbformat_minor": 5
}
