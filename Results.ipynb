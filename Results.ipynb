{
 "cells": [
  {
   "cell_type": "markdown",
   "id": "fff2fdcf",
   "metadata": {},
   "source": [
    "Reading in data and data preparations:"
   ]
  },
  {
   "cell_type": "code",
   "execution_count": 2,
   "id": "d5608e44",
   "metadata": {},
   "outputs": [
    {
     "name": "stderr",
     "output_type": "stream",
     "text": [
      "/var/folders/6w/7bbpdns15f3_lz9dcrprnwm80000gn/T/ipykernel_1229/678992568.py:3: DtypeWarning: Columns (6,22,24) have mixed types. Specify dtype option on import or set low_memory=False.\n",
      "  df = pd.read_csv(\"final_report_values.csv\")\n"
     ]
    }
   ],
   "source": [
    "import pandas as pd\n",
    "\n",
    "df = pd.read_csv(\"final_report_values.csv\")"
   ]
  },
  {
   "cell_type": "code",
   "execution_count": 3,
   "id": "c7e4b16f",
   "metadata": {},
   "outputs": [],
   "source": [
    "cvefixes = pd.read_csv('data/cvefixes_new.csv', sep= \";\", names=['cve', 'commit', 'repo', 'file', 'date1', 'date2'])"
   ]
  },
  {
   "cell_type": "code",
   "execution_count": 4,
   "id": "1544b7a2",
   "metadata": {},
   "outputs": [],
   "source": [
    "df.columns = df.columns.str.strip()"
   ]
  },
  {
   "cell_type": "code",
   "execution_count": 5,
   "id": "5123899f",
   "metadata": {},
   "outputs": [
    {
     "data": {
      "text/plain": [
       "Index(['CVE', 'ProjectUrl', 'Project', 'Path', 'status', 'FirstBadBlob',\n",
       "       'FirstBadTime', 'FirstGoodBlob', 'FirstGoodTime', 'TimeSinceFix',\n",
       "       'TimeSinceFixF', 'TimeSincePub', 'TimeSincePubF', 'TimeVulnRemained',\n",
       "       'TimeVulnRemainedF', 'NumAuthors', 'EarliestCommitDate',\n",
       "       'LatestCommitDate', 'ValidDates', 'NumActiveMon', 'NumStars', 'NumCore',\n",
       "       'CommunitySize', 'NumCommits', 'NumForks', 'FileInfo', 'GHStars',\n",
       "       'GHCommits', 'SECURITY.md', 'Corp'],\n",
       "      dtype='object')"
      ]
     },
     "execution_count": 5,
     "metadata": {},
     "output_type": "execute_result"
    }
   ],
   "source": [
    "df.columns"
   ]
  },
  {
   "cell_type": "code",
   "execution_count": 6,
   "id": "b435eb92",
   "metadata": {},
   "outputs": [
    {
     "data": {
      "text/html": [
       "<div>\n",
       "<style scoped>\n",
       "    .dataframe tbody tr th:only-of-type {\n",
       "        vertical-align: middle;\n",
       "    }\n",
       "\n",
       "    .dataframe tbody tr th {\n",
       "        vertical-align: top;\n",
       "    }\n",
       "\n",
       "    .dataframe thead th {\n",
       "        text-align: right;\n",
       "    }\n",
       "</style>\n",
       "<table border=\"1\" class=\"dataframe\">\n",
       "  <thead>\n",
       "    <tr style=\"text-align: right;\">\n",
       "      <th></th>\n",
       "      <th>CVE</th>\n",
       "      <th>ProjectUrl</th>\n",
       "      <th>Project</th>\n",
       "      <th>Path</th>\n",
       "      <th>status</th>\n",
       "      <th>FirstBadBlob</th>\n",
       "      <th>FirstBadTime</th>\n",
       "      <th>FirstGoodBlob</th>\n",
       "      <th>FirstGoodTime</th>\n",
       "      <th>TimeSinceFix</th>\n",
       "      <th>...</th>\n",
       "      <th>NumStars</th>\n",
       "      <th>NumCore</th>\n",
       "      <th>CommunitySize</th>\n",
       "      <th>NumCommits</th>\n",
       "      <th>NumForks</th>\n",
       "      <th>FileInfo</th>\n",
       "      <th>GHStars</th>\n",
       "      <th>GHCommits</th>\n",
       "      <th>SECURITY.md</th>\n",
       "      <th>Corp</th>\n",
       "    </tr>\n",
       "  </thead>\n",
       "  <tbody>\n",
       "    <tr>\n",
       "      <th>0</th>\n",
       "      <td>CVE-2010-2809</td>\n",
       "      <td>github.com/uzbl/uzbl</td>\n",
       "      <td>uzbl_uzbl</td>\n",
       "      <td></td>\n",
       "      <td>fixed</td>\n",
       "      <td>9dd1370d0b7cd876f004f7a822b0357039252184</td>\n",
       "      <td>1262459475</td>\n",
       "      <td>9cc39cb5c9396be013b5dc2ba7e4b3eaa647e975</td>\n",
       "      <td>1281006747</td>\n",
       "      <td>0</td>\n",
       "      <td>...</td>\n",
       "      <td>988</td>\n",
       "      <td>9</td>\n",
       "      <td>230</td>\n",
       "      <td>7375</td>\n",
       "      <td>221</td>\n",
       "      <td>Lisp</td>\n",
       "      <td>971</td>\n",
       "      <td>4565</td>\n",
       "      <td>No</td>\n",
       "      <td>No</td>\n",
       "    </tr>\n",
       "    <tr>\n",
       "      <th>1</th>\n",
       "      <td>CVE-2010-3260</td>\n",
       "      <td>github.com/Dariucc07/Predicting-Vulnerable-Code</td>\n",
       "      <td>Dariucc07_Predicting-Vulnerable-Code</td>\n",
       "      <td>Dataset2/mining_results/RepositoryMining12/59...</td>\n",
       "      <td>notfixed</td>\n",
       "      <td>2e7f17890a24122e43a86e1185a16a2dbedf986f</td>\n",
       "      <td>1590856260</td>\n",
       "      <td></td>\n",
       "      <td></td>\n",
       "      <td></td>\n",
       "      <td>...</td>\n",
       "      <td>2</td>\n",
       "      <td>2</td>\n",
       "      <td>1</td>\n",
       "      <td>47</td>\n",
       "      <td>0</td>\n",
       "      <td>Java</td>\n",
       "      <td>1</td>\n",
       "      <td>47</td>\n",
       "      <td>No</td>\n",
       "      <td>No</td>\n",
       "    </tr>\n",
       "    <tr>\n",
       "      <th>2</th>\n",
       "      <td>CVE-2010-1630</td>\n",
       "      <td>github.com/phpbb/phpbb</td>\n",
       "      <td>phpbb_phpbb</td>\n",
       "      <td></td>\n",
       "      <td>fixed</td>\n",
       "      <td>33520bbf5bd80414f0cad5b7644a60ef05e20e43</td>\n",
       "      <td>982399052</td>\n",
       "      <td>1758aa38b21f5960ab1b1a241546b34a203051b6</td>\n",
       "      <td>1241079332</td>\n",
       "      <td>0</td>\n",
       "      <td>...</td>\n",
       "      <td>2341</td>\n",
       "      <td>31</td>\n",
       "      <td>1301</td>\n",
       "      <td>113558</td>\n",
       "      <td>1420</td>\n",
       "      <td>PHP</td>\n",
       "      <td>1584</td>\n",
       "      <td>36455</td>\n",
       "      <td>No</td>\n",
       "      <td>No</td>\n",
       "    </tr>\n",
       "    <tr>\n",
       "      <th>3</th>\n",
       "      <td>CVE-2010-1630</td>\n",
       "      <td>github.com/steveh/phpbb</td>\n",
       "      <td>steveh_phpbb</td>\n",
       "      <td></td>\n",
       "      <td>fixed</td>\n",
       "      <td>a07aa9fb69439b7306dc2803695ca1a693cfe492</td>\n",
       "      <td>982399052</td>\n",
       "      <td>77e524e1bdcdf76d141c23ee7682ea3304022282</td>\n",
       "      <td>1241079332</td>\n",
       "      <td>0</td>\n",
       "      <td>...</td>\n",
       "      <td></td>\n",
       "      <td>7</td>\n",
       "      <td>2</td>\n",
       "      <td>18255</td>\n",
       "      <td>0</td>\n",
       "      <td>PHP</td>\n",
       "      <td></td>\n",
       "      <td></td>\n",
       "      <td>No</td>\n",
       "      <td>No</td>\n",
       "    </tr>\n",
       "    <tr>\n",
       "      <th>4</th>\n",
       "      <td>CVE-2011-1588</td>\n",
       "      <td>github.com/simula67/Thunar-1.3.0</td>\n",
       "      <td>simula67_Thunar-1.3.0</td>\n",
       "      <td>thunar/thunar-transfer-job.c</td>\n",
       "      <td>notfixed</td>\n",
       "      <td>699184df2d3fdc86c365af02ae652f3898e931a3</td>\n",
       "      <td>1348235432</td>\n",
       "      <td></td>\n",
       "      <td></td>\n",
       "      <td></td>\n",
       "      <td>...</td>\n",
       "      <td></td>\n",
       "      <td>1</td>\n",
       "      <td>1</td>\n",
       "      <td>2</td>\n",
       "      <td>0</td>\n",
       "      <td>C/C++</td>\n",
       "      <td>0</td>\n",
       "      <td>2</td>\n",
       "      <td>No</td>\n",
       "      <td>No</td>\n",
       "    </tr>\n",
       "  </tbody>\n",
       "</table>\n",
       "<p>5 rows × 30 columns</p>\n",
       "</div>"
      ],
      "text/plain": [
       "             CVE                                        ProjectUrl  \\\n",
       "0  CVE-2010-2809                              github.com/uzbl/uzbl   \n",
       "1  CVE-2010-3260   github.com/Dariucc07/Predicting-Vulnerable-Code   \n",
       "2  CVE-2010-1630                            github.com/phpbb/phpbb   \n",
       "3  CVE-2010-1630                           github.com/steveh/phpbb   \n",
       "4  CVE-2011-1588                  github.com/simula67/Thunar-1.3.0   \n",
       "\n",
       "                                 Project  \\\n",
       "0                              uzbl_uzbl   \n",
       "1   Dariucc07_Predicting-Vulnerable-Code   \n",
       "2                            phpbb_phpbb   \n",
       "3                           steveh_phpbb   \n",
       "4                  simula67_Thunar-1.3.0   \n",
       "\n",
       "                                                Path     status  \\\n",
       "0                                                         fixed   \n",
       "1   Dataset2/mining_results/RepositoryMining12/59...   notfixed   \n",
       "2                                                         fixed   \n",
       "3                                                         fixed   \n",
       "4                       thunar/thunar-transfer-job.c   notfixed   \n",
       "\n",
       "                                FirstBadBlob FirstBadTime  \\\n",
       "0   9dd1370d0b7cd876f004f7a822b0357039252184   1262459475   \n",
       "1   2e7f17890a24122e43a86e1185a16a2dbedf986f   1590856260   \n",
       "2   33520bbf5bd80414f0cad5b7644a60ef05e20e43    982399052   \n",
       "3   a07aa9fb69439b7306dc2803695ca1a693cfe492    982399052   \n",
       "4   699184df2d3fdc86c365af02ae652f3898e931a3   1348235432   \n",
       "\n",
       "                               FirstGoodBlob FirstGoodTime TimeSinceFix  ...  \\\n",
       "0   9cc39cb5c9396be013b5dc2ba7e4b3eaa647e975    1281006747            0  ...   \n",
       "1                                                                        ...   \n",
       "2   1758aa38b21f5960ab1b1a241546b34a203051b6    1241079332            0  ...   \n",
       "3   77e524e1bdcdf76d141c23ee7682ea3304022282    1241079332            0  ...   \n",
       "4                                                                        ...   \n",
       "\n",
       "  NumStars NumCore CommunitySize NumCommits NumForks FileInfo  GHStars  \\\n",
       "0      988       9           230       7375      221     Lisp      971   \n",
       "1        2       2             1         47        0     Java        1   \n",
       "2     2341      31          1301     113558     1420      PHP     1584   \n",
       "3                7             2      18255        0      PHP            \n",
       "4                1             1          2        0    C/C++        0   \n",
       "\n",
       "   GHCommits SECURITY.md  Corp  \n",
       "0       4565          No    No  \n",
       "1         47          No    No  \n",
       "2      36455          No    No  \n",
       "3                     No    No  \n",
       "4          2          No    No  \n",
       "\n",
       "[5 rows x 30 columns]"
      ]
     },
     "execution_count": 6,
     "metadata": {},
     "output_type": "execute_result"
    }
   ],
   "source": [
    "df.head()"
   ]
  },
  {
   "cell_type": "markdown",
   "id": "d5d1c1bd",
   "metadata": {},
   "source": [
    "## RQ1: How prevalent are cloned files with vulnerabilities?\n",
    "\n",
    "Subquestions: \n",
    "\n",
    "- How many vulnerabilities are cloned in total? \n",
    "- What percentage of vulnerabilities in CVEFixes dataset have been cloned? \n",
    "- How many projects are there with cloned vulnerabilities?\n",
    "- How many clones of vulnerabilities are there in total? "
   ]
  },
  {
   "cell_type": "code",
   "execution_count": 7,
   "id": "998dc30f",
   "metadata": {},
   "outputs": [
    {
     "data": {
      "text/plain": [
       "3093"
      ]
     },
     "execution_count": 7,
     "metadata": {},
     "output_type": "execute_result"
    }
   ],
   "source": [
    "# How many vulnerabilities are cloned in total? \n",
    "\n",
    "df['CVE'].nunique()"
   ]
  },
  {
   "cell_type": "code",
   "execution_count": 8,
   "id": "30245234",
   "metadata": {},
   "outputs": [
    {
     "data": {
      "text/plain": [
       "85.56016597510373"
      ]
     },
     "execution_count": 8,
     "metadata": {},
     "output_type": "execute_result"
    }
   ],
   "source": [
    "# What percentage of vulnerabilities in CVEFixes dataset have been cloned?\n",
    "\n",
    "df['CVE'].nunique() / cvefixes['cve'].nunique() * 100.0"
   ]
  },
  {
   "cell_type": "code",
   "execution_count": 9,
   "id": "b15b5832",
   "metadata": {},
   "outputs": [
    {
     "data": {
      "text/plain": [
       "499101"
      ]
     },
     "execution_count": 9,
     "metadata": {},
     "output_type": "execute_result"
    }
   ],
   "source": [
    "# How many projects are there with cloned vulnerabilities?\n",
    "\n",
    "df['Project'].nunique()"
   ]
  },
  {
   "cell_type": "code",
   "execution_count": 10,
   "id": "d2a1c2cf",
   "metadata": {},
   "outputs": [
    {
     "data": {
      "text/plain": [
       "2686265"
      ]
     },
     "execution_count": 10,
     "metadata": {},
     "output_type": "execute_result"
    }
   ],
   "source": [
    "df['CVE'].count()"
   ]
  },
  {
   "cell_type": "markdown",
   "id": "062ad1be",
   "metadata": {},
   "source": [
    "## RQ2: What are the characteristics of projects that have cloned vulnerabilities?\n",
    "\n",
    "Subquestions: \n",
    "- Number of commits? \n",
    "- Number of contributors? \n",
    "- Number of stars? \n",
    "- Language of the project? \n",
    "- File ending of the vulnerable file? \n",
    "- Security.md file?"
   ]
  },
  {
   "cell_type": "code",
   "execution_count": 11,
   "id": "f5b41f40",
   "metadata": {},
   "outputs": [],
   "source": [
    "df['file_ending'] = df.Path.str.split('.').str[-1]"
   ]
  },
  {
   "cell_type": "code",
   "execution_count": 12,
   "id": "b6fbcfbb",
   "metadata": {},
   "outputs": [
    {
     "data": {
      "text/plain": [
       "c                        1956517\n",
       "js                        397028\n",
       "php                       199412\n",
       "cc                         34839\n",
       "h                          29370\n",
       "py                         17726\n",
       "rb                         15733\n",
       "json                       13996\n",
       "cpp                         4025\n",
       "svn-base                    3489\n",
       " drivers/char/Kconfig       1797\n",
       "go                          1791\n",
       "pm                          1294\n",
       "zsh                         1250\n",
       "htm                         1196\n",
       "java                         987\n",
       "S                            776\n",
       "cs                           375\n",
       "swift                        351\n",
       "lua                          236\n",
       "Name: file_ending, dtype: int64"
      ]
     },
     "execution_count": 12,
     "metadata": {},
     "output_type": "execute_result"
    }
   ],
   "source": [
    "# number of copies for each file_ending\n",
    "\n",
    "df['file_ending'].value_counts().sort_values(ascending=False)[0:20]"
   ]
  },
  {
   "cell_type": "code",
   "execution_count": 13,
   "id": "fd9846c4",
   "metadata": {},
   "outputs": [
    {
     "data": {
      "text/plain": [
       "file_ending\n",
       "js                       280797\n",
       "php                      116912\n",
       "c                         71756\n",
       "h                         15670\n",
       "py                        13548\n",
       "json                      13010\n",
       "rb                        11771\n",
       "cpp                        2858\n",
       " drivers/char/Kconfig      1797\n",
       "go                         1331\n",
       "pm                         1271\n",
       "zsh                        1250\n",
       "htm                        1040\n",
       "svn-base                    834\n",
       "java                        817\n",
       "cc                          608\n",
       "S                           464\n",
       "cs                          370\n",
       "swift                       202\n",
       "lua                         190\n",
       "Name: Project, dtype: int64"
      ]
     },
     "execution_count": 13,
     "metadata": {},
     "output_type": "execute_result"
    }
   ],
   "source": [
    "# number of projects that have copied at least one vulnerability for each file ending\n",
    "\n",
    "df.groupby(['file_ending'])[\"Project\"].nunique().sort_values(ascending=False)[0:20] "
   ]
  },
  {
   "cell_type": "code",
   "execution_count": 14,
   "id": "50a2b8b8",
   "metadata": {},
   "outputs": [
    {
     "data": {
      "text/plain": [
       "Index(['CVE', 'ProjectUrl', 'Project', 'Path', 'status', 'FirstBadBlob',\n",
       "       'FirstBadTime', 'FirstGoodBlob', 'FirstGoodTime', 'TimeSinceFix',\n",
       "       'TimeSinceFixF', 'TimeSincePub', 'TimeSincePubF', 'TimeVulnRemained',\n",
       "       'TimeVulnRemainedF', 'NumAuthors', 'EarliestCommitDate',\n",
       "       'LatestCommitDate', 'ValidDates', 'NumActiveMon', 'NumStars', 'NumCore',\n",
       "       'CommunitySize', 'NumCommits', 'NumForks', 'FileInfo', 'GHStars',\n",
       "       'GHCommits', 'SECURITY.md', 'Corp', 'file_ending'],\n",
       "      dtype='object')"
      ]
     },
     "execution_count": 14,
     "metadata": {},
     "output_type": "execute_result"
    }
   ],
   "source": [
    "df.columns"
   ]
  },
  {
   "cell_type": "code",
   "execution_count": 15,
   "id": "6f3c92e8",
   "metadata": {},
   "outputs": [
    {
     "data": {
      "text/plain": [
       " C/C++         2002188\n",
       " JavaScript     449970\n",
       " PHP            181175\n",
       " Python          22982\n",
       " Ruby            15886\n",
       "                  4338\n",
       " Java             3598\n",
       " Go               2132\n",
       " Perl             1330\n",
       " Swift            1170\n",
       " Sql               472\n",
       " TypeScript        249\n",
       " Lua               204\n",
       " Rust              197\n",
       " Fortran           138\n",
       " Lisp              107\n",
       " Kotlin             41\n",
       " fml                28\n",
       " Scala              15\n",
       " Basic              11\n",
       "Name: FileInfo, dtype: int64"
      ]
     },
     "execution_count": 15,
     "metadata": {},
     "output_type": "execute_result"
    }
   ],
   "source": [
    "# number of copies for each project language\n",
    "\n",
    "df['FileInfo'].value_counts().sort_values(ascending=False)[0:20]"
   ]
  },
  {
   "cell_type": "code",
   "execution_count": 16,
   "id": "6eadb1f6",
   "metadata": {},
   "outputs": [
    {
     "data": {
      "text/plain": [
       "FileInfo\n",
       " JavaScript    293684\n",
       " PHP           107518\n",
       " C/C++          64429\n",
       " Python         15339\n",
       " Ruby           11481\n",
       " Java            1755\n",
       " Go              1430\n",
       " Perl            1058\n",
       "                  705\n",
       " Swift            585\n",
       " Sql              339\n",
       " TypeScript       193\n",
       " Lua              150\n",
       " Rust             142\n",
       " Fortran          115\n",
       " Lisp              95\n",
       " fml               23\n",
       " Kotlin            17\n",
       " R                  9\n",
       " Scala              9\n",
       " Erlang             6\n",
       " Basic              6\n",
       " Dart               5\n",
       " Julia              3\n",
       " Clojure            3\n",
       " Ada                2\n",
       "Name: Project, dtype: int64"
      ]
     },
     "execution_count": 16,
     "metadata": {},
     "output_type": "execute_result"
    }
   ],
   "source": [
    "# number of projects that have copied at least one vulnerability for each project language\n",
    "\n",
    "\n",
    "df.groupby(['FileInfo'])[\"Project\"].nunique().sort_values(ascending=False)"
   ]
  },
  {
   "cell_type": "code",
   "execution_count": 17,
   "id": "c6a79c09",
   "metadata": {},
   "outputs": [],
   "source": [
    "df['source'] = df.ProjectUrl.str.split('/').str[0]"
   ]
  },
  {
   "cell_type": "code",
   "execution_count": 18,
   "id": "4d13e708",
   "metadata": {},
   "outputs": [
    {
     "data": {
      "text/plain": [
       "source\n",
       " github.com    491873\n",
       " gitlab.com      7228\n",
       "Name: Project, dtype: int64"
      ]
     },
     "execution_count": 18,
     "metadata": {},
     "output_type": "execute_result"
    }
   ],
   "source": [
    "df.groupby('source')['Project'].nunique()"
   ]
  },
  {
   "cell_type": "code",
   "execution_count": 19,
   "id": "45419783",
   "metadata": {},
   "outputs": [
    {
     "data": {
      "text/plain": [
       "count    2685924.0\n",
       "mean          68.2\n",
       "std         2339.9\n",
       "min            1.0\n",
       "25%            1.0\n",
       "50%            1.0\n",
       "75%            2.0\n",
       "max       276770.0\n",
       "Name: CommunitySize, dtype: float64"
      ]
     },
     "execution_count": 19,
     "metadata": {},
     "output_type": "execute_result"
    }
   ],
   "source": [
    "pd.to_numeric(df[df['CommunitySize'] != \" \"]['CommunitySize']).describe().round(1)"
   ]
  },
  {
   "cell_type": "code",
   "execution_count": 20,
   "id": "f33e4a29",
   "metadata": {},
   "outputs": [
    {
     "data": {
      "text/plain": [
       "count     2671428.0\n",
       "mean        13495.6\n",
       "std        645622.2\n",
       "min             1.0\n",
       "25%             2.0\n",
       "50%             7.0\n",
       "75%            27.0\n",
       "max      36468389.0\n",
       "Name: NumCommits, dtype: float64"
      ]
     },
     "execution_count": 20,
     "metadata": {},
     "output_type": "execute_result"
    }
   ],
   "source": [
    "# number of commits --> most projects have very few commits, makes sense to filter out projects with f.ex. less than 100 commits\n",
    "\n",
    "pd.to_numeric(df[df['NumCommits'] != \" \"]['NumCommits']).describe().round(1)"
   ]
  },
  {
   "cell_type": "code",
   "execution_count": 21,
   "id": "b5254f43",
   "metadata": {},
   "outputs": [
    {
     "data": {
      "text/plain": [
       "count    2685924.0\n",
       "mean         105.5\n",
       "std         4332.1\n",
       "min            0.0\n",
       "25%            0.0\n",
       "50%            0.0\n",
       "75%            1.0\n",
       "max       345262.0\n",
       "Name: NumForks, dtype: float64"
      ]
     },
     "execution_count": 21,
     "metadata": {},
     "output_type": "execute_result"
    }
   ],
   "source": [
    "pd.to_numeric(df[df['NumForks'] != \" \"]['NumForks']).describe().round(1)"
   ]
  },
  {
   "cell_type": "code",
   "execution_count": 22,
   "id": "09202ac5",
   "metadata": {},
   "outputs": [
    {
     "data": {
      "text/plain": [
       "count    2590621.0\n",
       "mean          29.7\n",
       "std         1615.5\n",
       "min            0.0\n",
       "25%            0.0\n",
       "50%            0.0\n",
       "75%            0.0\n",
       "max       357521.0\n",
       "Name: GHStars, dtype: float64"
      ]
     },
     "execution_count": 22,
     "metadata": {},
     "output_type": "execute_result"
    }
   ],
   "source": [
    "# number of github stars --> most projects are probably toy projects. Most projects have no stars\n",
    "\n",
    "pd.to_numeric(df[df['GHStars'] != \" \"]['GHStars']).describe().round(1)"
   ]
  },
  {
   "cell_type": "code",
   "execution_count": 23,
   "id": "16382102",
   "metadata": {},
   "outputs": [
    {
     "data": {
      "text/plain": [
       "count     915352.0\n",
       "mean        2080.2\n",
       "std        33570.9\n",
       "min            1.0\n",
       "25%            2.0\n",
       "50%            5.0\n",
       "75%           22.0\n",
       "max      1196827.0\n",
       "Name: GHCommits, dtype: float64"
      ]
     },
     "execution_count": 23,
     "metadata": {},
     "output_type": "execute_result"
    }
   ],
   "source": [
    "# number of github commits --> most projects have few commits, makes sense to filter out projects with less than f.ex. 100 commits\n",
    "\n",
    "pd.to_numeric(df[df['GHCommits'] != \" \"]['GHCommits']).describe().round(1)"
   ]
  },
  {
   "cell_type": "code",
   "execution_count": 31,
   "id": "552a7cfe",
   "metadata": {},
   "outputs": [
    {
     "data": {
      "text/plain": [
       "False    0.905085\n",
       "True     0.094915\n",
       "Name: GHCommits, dtype: float64"
      ]
     },
     "execution_count": 31,
     "metadata": {},
     "output_type": "execute_result"
    }
   ],
   "source": [
    "# when we filter out all copies where projects have less than 100 commits, then 9.5% of rows remain\n",
    "\n",
    "(pd.to_numeric(df[df['GHCommits'] != \" \"]['GHCommits']) >= 100).value_counts(normalize = True)"
   ]
  },
  {
   "cell_type": "code",
   "execution_count": 33,
   "id": "9a2c0899",
   "metadata": {},
   "outputs": [
    {
     "data": {
      "text/plain": [
       " No     0.971766\n",
       " Yes    0.028234\n",
       "Name: SECURITY.md, dtype: float64"
      ]
     },
     "execution_count": 33,
     "metadata": {},
     "output_type": "execute_result"
    }
   ],
   "source": [
    "# most projects do not have a SECURITY.md file\n",
    "\n",
    "df['SECURITY.md'].value_counts(normalize = True)"
   ]
  },
  {
   "cell_type": "code",
   "execution_count": 34,
   "id": "5fc1c414",
   "metadata": {},
   "outputs": [
    {
     "data": {
      "text/plain": [
       " No    1.0\n",
       "Name: Corp, dtype: float64"
      ]
     },
     "execution_count": 34,
     "metadata": {},
     "output_type": "execute_result"
    }
   ],
   "source": [
    "# None of the projects belongs to a corporation\n",
    "\n",
    "df['Corp'].value_counts(normalize = True)"
   ]
  },
  {
   "cell_type": "markdown",
   "id": "4133e670",
   "metadata": {},
   "source": [
    "## RQ3: What percentage of cloned vulnerabilities are fixed?\n",
    "\n",
    "Subquestions: \n",
    "- How many vulnerabilities are fixed/not fixed/unknown"
   ]
  },
  {
   "cell_type": "code",
   "execution_count": null,
   "id": "db193974",
   "metadata": {},
   "outputs": [],
   "source": []
  },
  {
   "cell_type": "markdown",
   "id": "8f5d32b6",
   "metadata": {},
   "source": [
    "## RQ4: How do different characteristics of a project affect the percentage of fixed vulnerabilities? \n",
    "_(would it be ok to modify the question like this?)_\n",
    "\n",
    "Subquestions: \n",
    "- Number of commits? \n",
    "- Number of contributions? \n",
    "- Number of stars? \n",
    "- Language of the project? \n",
    "- File ending of the vulnerable file? \n",
    "- Security.md file?"
   ]
  },
  {
   "cell_type": "markdown",
   "id": "a459e428",
   "metadata": {},
   "source": [
    "## RQ5: How long does it take to fix a cloned vulnerability?\n",
    "\n",
    "Subquestions: \n",
    "- Time distribution overall\n",
    "- Time distribution for projects with many commits, stars, Security.md file? "
   ]
  },
  {
   "cell_type": "code",
   "execution_count": null,
   "id": "e7ddee20",
   "metadata": {},
   "outputs": [],
   "source": []
  }
 ],
 "metadata": {
  "kernelspec": {
   "display_name": "Python 3 (ipykernel)",
   "language": "python",
   "name": "python3"
  },
  "language_info": {
   "codemirror_mode": {
    "name": "ipython",
    "version": 3
   },
   "file_extension": ".py",
   "mimetype": "text/x-python",
   "name": "python",
   "nbconvert_exporter": "python",
   "pygments_lexer": "ipython3",
   "version": "3.10.8"
  }
 },
 "nbformat": 4,
 "nbformat_minor": 5
}
