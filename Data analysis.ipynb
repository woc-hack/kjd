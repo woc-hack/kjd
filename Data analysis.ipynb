{
 "cells": [
  {
   "cell_type": "code",
   "execution_count": 2,
   "id": "33ee8e52",
   "metadata": {},
   "outputs": [],
   "source": [
    "folder_with_results = \"../kjd-tmp/output.8-15/\""
   ]
  },
  {
   "cell_type": "code",
   "execution_count": 3,
   "id": "c4a240bb",
   "metadata": {},
   "outputs": [],
   "source": [
    "file_name = folder_with_results + \"out1/CVE-1999-0731/results.fixed.csv\""
   ]
  },
  {
   "cell_type": "code",
   "execution_count": 4,
   "id": "ce608910",
   "metadata": {},
   "outputs": [],
   "source": [
    "import pandas as pd\n",
    "\n",
    "df = pd.read_csv(file_name)"
   ]
  },
  {
   "cell_type": "code",
   "execution_count": null,
   "id": "db3976da",
   "metadata": {},
   "outputs": [],
   "source": []
  },
  {
   "cell_type": "code",
   "execution_count": 5,
   "id": "74e36bdb",
   "metadata": {},
   "outputs": [
    {
     "data": {
      "text/html": [
       "<div>\n",
       "<style scoped>\n",
       "    .dataframe tbody tr th:only-of-type {\n",
       "        vertical-align: middle;\n",
       "    }\n",
       "\n",
       "    .dataframe tbody tr th {\n",
       "        vertical-align: top;\n",
       "    }\n",
       "\n",
       "    .dataframe thead th {\n",
       "        text-align: right;\n",
       "    }\n",
       "</style>\n",
       "<table border=\"1\" class=\"dataframe\">\n",
       "  <thead>\n",
       "    <tr style=\"text-align: right;\">\n",
       "      <th></th>\n",
       "      <th>index</th>\n",
       "      <th>project</th>\n",
       "      <th>first bad blob commit</th>\n",
       "      <th>first bad commit time</th>\n",
       "      <th>formatted time</th>\n",
       "      <th>num commits</th>\n",
       "      <th>CVE</th>\n",
       "      <th>from_file</th>\n",
       "    </tr>\n",
       "  </thead>\n",
       "  <tbody>\n",
       "    <tr>\n",
       "      <th>0</th>\n",
       "      <td>0</td>\n",
       "      <td>Broadcom_stblinux-2.6.18</td>\n",
       "      <td>fa7fc3b9cc81eb1a186189157aa10dcf0936fc50</td>\n",
       "      <td>1171670293</td>\n",
       "      <td>2007-02-16:18:58:13</td>\n",
       "      <td>30</td>\n",
       "      <td>CVE-2006-5331</td>\n",
       "      <td>../kjd-tmp/output.8-15/out1/CVE-2006-5331/resu...</td>\n",
       "    </tr>\n",
       "    <tr>\n",
       "      <th>1</th>\n",
       "      <td>1</td>\n",
       "      <td>gitlab.com_untangle.com_ngfw_kernels</td>\n",
       "      <td>fe8eb448622e700a643828ca197b7235552963e4</td>\n",
       "      <td>1273159376</td>\n",
       "      <td>2010-05-06:11:22:56</td>\n",
       "      <td>unknown (gitlab)</td>\n",
       "      <td>CVE-2006-5331</td>\n",
       "      <td>../kjd-tmp/output.8-15/out1/CVE-2006-5331/resu...</td>\n",
       "    </tr>\n",
       "    <tr>\n",
       "      <th>2</th>\n",
       "      <td>0</td>\n",
       "      <td>791254467_u8500_kernel</td>\n",
       "      <td>3f8d98ce83e231ac462e865f06f8a3e75cd06a90</td>\n",
       "      <td>1388656090.0</td>\n",
       "      <td>2014-01-02:04:48:10</td>\n",
       "      <td>169</td>\n",
       "      <td>CVE-2012-6544</td>\n",
       "      <td>../kjd-tmp/output.8-15/out2/CVE-2012-6544/resu...</td>\n",
       "    </tr>\n",
       "    <tr>\n",
       "      <th>3</th>\n",
       "      <td>1</td>\n",
       "      <td>7zrcn_hwp6s-kernel</td>\n",
       "      <td>3f299fba0b32e919d7bc116c25bf86e926c67d4b</td>\n",
       "      <td>1425052154.0</td>\n",
       "      <td>2015-02-27:10:49:14</td>\n",
       "      <td>1484</td>\n",
       "      <td>CVE-2012-6544</td>\n",
       "      <td>../kjd-tmp/output.8-15/out2/CVE-2012-6544/resu...</td>\n",
       "    </tr>\n",
       "    <tr>\n",
       "      <th>4</th>\n",
       "      <td>2</td>\n",
       "      <td>Abhinav1997_kernel-diff</td>\n",
       "      <td>1a7a30143d8b5658436d2cfe0b32ae84a53ea0f6</td>\n",
       "      <td>1399582779.0</td>\n",
       "      <td>2014-05-08:16:59:39</td>\n",
       "      <td>19</td>\n",
       "      <td>CVE-2012-6544</td>\n",
       "      <td>../kjd-tmp/output.8-15/out2/CVE-2012-6544/resu...</td>\n",
       "    </tr>\n",
       "    <tr>\n",
       "      <th>...</th>\n",
       "      <td>...</td>\n",
       "      <td>...</td>\n",
       "      <td>...</td>\n",
       "      <td>...</td>\n",
       "      <td>...</td>\n",
       "      <td>...</td>\n",
       "      <td>...</td>\n",
       "      <td>...</td>\n",
       "    </tr>\n",
       "    <tr>\n",
       "      <th>940</th>\n",
       "      <td>58</td>\n",
       "      <td>n0thing2speak_macos</td>\n",
       "      <td>46f313a4a89f2118c03c2c96deb7e99ea7a43c5f</td>\n",
       "      <td>985392000.0</td>\n",
       "      <td>2001-03-23:19:00:00</td>\n",
       "      <td>107</td>\n",
       "      <td>CVE-2021-28041</td>\n",
       "      <td>../kjd-tmp/output.8-15/out16/CVE-2021-28041/re...</td>\n",
       "    </tr>\n",
       "    <tr>\n",
       "      <th>941</th>\n",
       "      <td>59</td>\n",
       "      <td>pexip_os-openssh</td>\n",
       "      <td>be8cc99f2cd92fdc8add27ba516a98a8c8df9342</td>\n",
       "      <td>1387933976.0</td>\n",
       "      <td>2013-12-24:20:12:56</td>\n",
       "      <td>112</td>\n",
       "      <td>CVE-2021-28041</td>\n",
       "      <td>../kjd-tmp/output.8-15/out16/CVE-2021-28041/re...</td>\n",
       "    </tr>\n",
       "    <tr>\n",
       "      <th>942</th>\n",
       "      <td>60</td>\n",
       "      <td>tizenorg_platform.upstream.openssh</td>\n",
       "      <td>a6bbcaaac6f8ad258bc174c3e5c5c18f617921b0</td>\n",
       "      <td>1352152557.0</td>\n",
       "      <td>2012-11-05:16:55:57</td>\n",
       "      <td>39</td>\n",
       "      <td>CVE-2021-28041</td>\n",
       "      <td>../kjd-tmp/output.8-15/out16/CVE-2021-28041/re...</td>\n",
       "    </tr>\n",
       "    <tr>\n",
       "      <th>943</th>\n",
       "      <td>61</td>\n",
       "      <td>unofficial-opensource-apple_OpenSSH</td>\n",
       "      <td>0d184af8bddc7fecfc53ede22593e705bcb61c40</td>\n",
       "      <td>1233864770.0</td>\n",
       "      <td>2009-02-05:15:12:50</td>\n",
       "      <td>25</td>\n",
       "      <td>CVE-2021-28041</td>\n",
       "      <td>../kjd-tmp/output.8-15/out16/CVE-2021-28041/re...</td>\n",
       "    </tr>\n",
       "    <tr>\n",
       "      <th>944</th>\n",
       "      <td>0</td>\n",
       "      <td>serghey-rodin_vesta</td>\n",
       "      <td>067a2c862a10057d478420395cc84227d4d9b0df</td>\n",
       "      <td>1432854475</td>\n",
       "      <td>2015-05-28:19:07:55</td>\n",
       "      <td>5123</td>\n",
       "      <td>CVE-2021-28379</td>\n",
       "      <td>../kjd-tmp/output.8-15/out16/CVE-2021-28379/re...</td>\n",
       "    </tr>\n",
       "  </tbody>\n",
       "</table>\n",
       "<p>945 rows × 8 columns</p>\n",
       "</div>"
      ],
      "text/plain": [
       "     index                               project  \\\n",
       "0        0              Broadcom_stblinux-2.6.18   \n",
       "1        1  gitlab.com_untangle.com_ngfw_kernels   \n",
       "2        0                791254467_u8500_kernel   \n",
       "3        1                    7zrcn_hwp6s-kernel   \n",
       "4        2               Abhinav1997_kernel-diff   \n",
       "..     ...                                   ...   \n",
       "940     58                   n0thing2speak_macos   \n",
       "941     59                      pexip_os-openssh   \n",
       "942     60    tizenorg_platform.upstream.openssh   \n",
       "943     61   unofficial-opensource-apple_OpenSSH   \n",
       "944      0                   serghey-rodin_vesta   \n",
       "\n",
       "                        first bad blob commit first bad commit time  \\\n",
       "0    fa7fc3b9cc81eb1a186189157aa10dcf0936fc50            1171670293   \n",
       "1    fe8eb448622e700a643828ca197b7235552963e4            1273159376   \n",
       "2    3f8d98ce83e231ac462e865f06f8a3e75cd06a90          1388656090.0   \n",
       "3    3f299fba0b32e919d7bc116c25bf86e926c67d4b          1425052154.0   \n",
       "4    1a7a30143d8b5658436d2cfe0b32ae84a53ea0f6          1399582779.0   \n",
       "..                                        ...                   ...   \n",
       "940  46f313a4a89f2118c03c2c96deb7e99ea7a43c5f           985392000.0   \n",
       "941  be8cc99f2cd92fdc8add27ba516a98a8c8df9342          1387933976.0   \n",
       "942  a6bbcaaac6f8ad258bc174c3e5c5c18f617921b0          1352152557.0   \n",
       "943  0d184af8bddc7fecfc53ede22593e705bcb61c40          1233864770.0   \n",
       "944  067a2c862a10057d478420395cc84227d4d9b0df            1432854475   \n",
       "\n",
       "          formatted time       num commits             CVE  \\\n",
       "0    2007-02-16:18:58:13                30   CVE-2006-5331   \n",
       "1    2010-05-06:11:22:56  unknown (gitlab)   CVE-2006-5331   \n",
       "2    2014-01-02:04:48:10               169   CVE-2012-6544   \n",
       "3    2015-02-27:10:49:14              1484   CVE-2012-6544   \n",
       "4    2014-05-08:16:59:39                19   CVE-2012-6544   \n",
       "..                   ...               ...             ...   \n",
       "940  2001-03-23:19:00:00               107  CVE-2021-28041   \n",
       "941  2013-12-24:20:12:56               112  CVE-2021-28041   \n",
       "942  2012-11-05:16:55:57                39  CVE-2021-28041   \n",
       "943  2009-02-05:15:12:50                25  CVE-2021-28041   \n",
       "944  2015-05-28:19:07:55              5123  CVE-2021-28379   \n",
       "\n",
       "                                             from_file  \n",
       "0    ../kjd-tmp/output.8-15/out1/CVE-2006-5331/resu...  \n",
       "1    ../kjd-tmp/output.8-15/out1/CVE-2006-5331/resu...  \n",
       "2    ../kjd-tmp/output.8-15/out2/CVE-2012-6544/resu...  \n",
       "3    ../kjd-tmp/output.8-15/out2/CVE-2012-6544/resu...  \n",
       "4    ../kjd-tmp/output.8-15/out2/CVE-2012-6544/resu...  \n",
       "..                                                 ...  \n",
       "940  ../kjd-tmp/output.8-15/out16/CVE-2021-28041/re...  \n",
       "941  ../kjd-tmp/output.8-15/out16/CVE-2021-28041/re...  \n",
       "942  ../kjd-tmp/output.8-15/out16/CVE-2021-28041/re...  \n",
       "943  ../kjd-tmp/output.8-15/out16/CVE-2021-28041/re...  \n",
       "944  ../kjd-tmp/output.8-15/out16/CVE-2021-28379/re...  \n",
       "\n",
       "[945 rows x 8 columns]"
      ]
     },
     "execution_count": 5,
     "metadata": {},
     "output_type": "execute_result"
    }
   ],
   "source": [
    "import os\n",
    "\n",
    "df_notfixed = pd.DataFrame()\n",
    "df_fixed = pd.DataFrame()\n",
    "df_unknown = pd.DataFrame()\n",
    "\n",
    "notfixed_file = \"/results.notfixed.csv\"\n",
    "fixed_file = \"/results.fixed.csv\"\n",
    "unknown_file = \"/results.unknown.csv\"\n",
    "\n",
    "for i in range(1,17):\n",
    "    subfolder = folder_with_results + \"out\" + str(i) + \"/\"\n",
    "    for f in os.scandir(subfolder):\n",
    "        if \"CVE\" in f.name:\n",
    "        \n",
    "            temp_notfixed_file = subfolder + f.name + notfixed_file\n",
    "            if (os.path.isfile(temp_notfixed_file)):\n",
    "                df_temp_notfixed = pd.read_csv(temp_notfixed_file, skipinitialspace=True)\n",
    "                df_temp_notfixed['CVE'] = f.name\n",
    "                df_temp_notfixed['from_file'] = temp_notfixed_file\n",
    "                df_notfixed = pd.concat([df_notfixed, df_temp_notfixed])\n",
    "            \n",
    "            temp_fixed_file = subfolder + f.name + fixed_file\n",
    "            if (os.path.isfile(temp_fixed_file)):\n",
    "                df_temp_fixed = pd.read_csv(temp_fixed_file, skipinitialspace=True)\n",
    "                df_temp_fixed['CVE'] = f.name\n",
    "                df_temp_fixed['from_file'] = temp_fixed_file\n",
    "                df_fixed = pd.concat([df_fixed, df_temp_fixed])\n",
    "            \n",
    "            temp_unknown_file = subfolder + f.name + unknown_file\n",
    "            if (os.path.isfile(temp_unknown_file)):\n",
    "                df_temp_unknown = pd.read_csv(temp_unknown_file, skipinitialspace=True)\n",
    "                df_temp_unknown['CVE'] = f.name\n",
    "                df_temp_unknown['from_file'] = temp_unknown_file\n",
    "                df_unknown = pd.concat([df_unknown, df_temp_unknown])\n",
    "        \n",
    "df_notfixed.reset_index()\n",
    "df_fixed.reset_index()\n",
    "df_unknown.reset_index()"
   ]
  },
  {
   "cell_type": "code",
   "execution_count": 6,
   "id": "c1225dc6",
   "metadata": {},
   "outputs": [
    {
     "name": "stdout",
     "output_type": "stream",
     "text": [
      "../kjd-tmp/output.8-15/out1/CVE-2006-5331/results.fixed.csv\n",
      "../kjd-tmp/output.8-15/out1/CVE-2006-5331/results.fixed.csv\n",
      "../kjd-tmp/output.8-15/out1/CVE-2006-5331/results.fixed.csv\n",
      "../kjd-tmp/output.8-15/out1/CVE-2006-5331/results.fixed.csv\n",
      "../kjd-tmp/output.8-15/out1/CVE-2006-5331/results.fixed.csv\n",
      "../kjd-tmp/output.8-15/out1/CVE-2006-5331/results.fixed.csv\n",
      "../kjd-tmp/output.8-15/out1/CVE-2006-5331/results.fixed.csv\n",
      "../kjd-tmp/output.8-15/out1/CVE-2006-5331/results.fixed.csv\n",
      "../kjd-tmp/output.8-15/out1/CVE-2006-5331/results.fixed.csv\n",
      "../kjd-tmp/output.8-15/out1/CVE-2006-5331/results.fixed.csv\n",
      "../kjd-tmp/output.8-15/out1/CVE-2006-5331/results.fixed.csv\n",
      "../kjd-tmp/output.8-15/out1/CVE-2006-5331/results.fixed.csv\n",
      "../kjd-tmp/output.8-15/out1/CVE-2006-5331/results.fixed.csv\n",
      "../kjd-tmp/output.8-15/out1/CVE-2006-5331/results.fixed.csv\n",
      "../kjd-tmp/output.8-15/out1/CVE-2006-5331/results.fixed.csv\n",
      "../kjd-tmp/output.8-15/out1/CVE-2007-6761/results.fixed.csv\n",
      "../kjd-tmp/output.8-15/out1/CVE-2007-6761/results.fixed.csv\n",
      "../kjd-tmp/output.8-15/out1/CVE-2007-6761/results.fixed.csv\n",
      "../kjd-tmp/output.8-15/out1/CVE-2007-6761/results.fixed.csv\n",
      "../kjd-tmp/output.8-15/out1/CVE-2007-6761/results.fixed.csv\n",
      "../kjd-tmp/output.8-15/out1/CVE-2007-6762/results.fixed.csv\n",
      "../kjd-tmp/output.8-15/out1/CVE-2007-6762/results.fixed.csv\n",
      "../kjd-tmp/output.8-15/out1/CVE-2007-6762/results.fixed.csv\n",
      "../kjd-tmp/output.8-15/out1/CVE-2007-6762/results.fixed.csv\n",
      "../kjd-tmp/output.8-15/out1/CVE-2007-6762/results.fixed.csv\n",
      "../kjd-tmp/output.8-15/out1/CVE-2007-6762/results.fixed.csv\n",
      "../kjd-tmp/output.8-15/out1/CVE-2007-6762/results.fixed.csv\n",
      "../kjd-tmp/output.8-15/out1/CVE-2007-6762/results.fixed.csv\n",
      "../kjd-tmp/output.8-15/out1/CVE-2007-6762/results.fixed.csv\n",
      "../kjd-tmp/output.8-15/out1/CVE-2007-6762/results.fixed.csv\n",
      "../kjd-tmp/output.8-15/out1/CVE-2007-6762/results.fixed.csv\n",
      "../kjd-tmp/output.8-15/out1/CVE-2007-6762/results.fixed.csv\n",
      "../kjd-tmp/output.8-15/out1/CVE-2007-6762/results.fixed.csv\n",
      "../kjd-tmp/output.8-15/out1/CVE-2007-6762/results.fixed.csv\n",
      "../kjd-tmp/output.8-15/out1/CVE-2002-2443/results.fixed.csv\n",
      "../kjd-tmp/output.8-15/out1/CVE-2002-2443/results.fixed.csv\n",
      "../kjd-tmp/output.8-15/out1/CVE-2002-2443/results.fixed.csv\n",
      "../kjd-tmp/output.8-15/out1/CVE-2002-2443/results.fixed.csv\n",
      "../kjd-tmp/output.8-15/out3/CVE-2013-7022/results.fixed.csv\n",
      "../kjd-tmp/output.8-15/out3/CVE-2013-7022/results.fixed.csv\n",
      "../kjd-tmp/output.8-15/out3/CVE-2013-7022/results.fixed.csv\n",
      "../kjd-tmp/output.8-15/out3/CVE-2013-7022/results.fixed.csv\n",
      "../kjd-tmp/output.8-15/out3/CVE-2013-7022/results.fixed.csv\n",
      "../kjd-tmp/output.8-15/out3/CVE-2013-7022/results.fixed.csv\n",
      "../kjd-tmp/output.8-15/out3/CVE-2013-7022/results.fixed.csv\n",
      "../kjd-tmp/output.8-15/out3/CVE-2013-7020/results.fixed.csv\n",
      "../kjd-tmp/output.8-15/out3/CVE-2013-7020/results.fixed.csv\n",
      "../kjd-tmp/output.8-15/out3/CVE-2013-7020/results.fixed.csv\n",
      "../kjd-tmp/output.8-15/out3/CVE-2013-7020/results.fixed.csv\n",
      "../kjd-tmp/output.8-15/out3/CVE-2013-7020/results.fixed.csv\n",
      "../kjd-tmp/output.8-15/out3/CVE-2013-7020/results.fixed.csv\n",
      "../kjd-tmp/output.8-15/out3/CVE-2013-7020/results.fixed.csv\n",
      "../kjd-tmp/output.8-15/out3/CVE-2013-7020/results.fixed.csv\n",
      "../kjd-tmp/output.8-15/out3/CVE-2013-7020/results.fixed.csv\n",
      "../kjd-tmp/output.8-15/out3/CVE-2013-7020/results.fixed.csv\n",
      "../kjd-tmp/output.8-15/out3/CVE-2013-7020/results.fixed.csv\n",
      "../kjd-tmp/output.8-15/out3/CVE-2013-7020/results.fixed.csv\n",
      "../kjd-tmp/output.8-15/out3/CVE-2013-7020/results.fixed.csv\n",
      "../kjd-tmp/output.8-15/out3/CVE-2013-7020/results.fixed.csv\n",
      "../kjd-tmp/output.8-15/out3/CVE-2013-7020/results.fixed.csv\n",
      "../kjd-tmp/output.8-15/out3/CVE-2013-7020/results.fixed.csv\n",
      "../kjd-tmp/output.8-15/out3/CVE-2013-7020/results.fixed.csv\n",
      "../kjd-tmp/output.8-15/out3/CVE-2013-7018/results.fixed.csv\n",
      "../kjd-tmp/output.8-15/out3/CVE-2013-7018/results.fixed.csv\n",
      "../kjd-tmp/output.8-15/out3/CVE-2013-7018/results.fixed.csv\n",
      "../kjd-tmp/output.8-15/out3/CVE-2013-7018/results.fixed.csv\n",
      "../kjd-tmp/output.8-15/out3/CVE-2013-7018/results.fixed.csv\n",
      "../kjd-tmp/output.8-15/out3/CVE-2013-7018/results.fixed.csv\n",
      "../kjd-tmp/output.8-15/out3/CVE-2013-7018/results.fixed.csv\n",
      "../kjd-tmp/output.8-15/out3/CVE-2013-7018/results.fixed.csv\n",
      "../kjd-tmp/output.8-15/out3/CVE-2013-7018/results.fixed.csv\n",
      "../kjd-tmp/output.8-15/out3/CVE-2013-7018/results.fixed.csv\n",
      "../kjd-tmp/output.8-15/out3/CVE-2013-7018/results.fixed.csv\n",
      "../kjd-tmp/output.8-15/out3/CVE-2013-7018/results.fixed.csv\n",
      "../kjd-tmp/output.8-15/out3/CVE-2013-7016/results.fixed.csv\n",
      "../kjd-tmp/output.8-15/out3/CVE-2013-7016/results.fixed.csv\n",
      "../kjd-tmp/output.8-15/out3/CVE-2013-7016/results.fixed.csv\n",
      "../kjd-tmp/output.8-15/out3/CVE-2013-7016/results.fixed.csv\n",
      "../kjd-tmp/output.8-15/out3/CVE-2013-7016/results.fixed.csv\n",
      "../kjd-tmp/output.8-15/out3/CVE-2013-7016/results.fixed.csv\n",
      "../kjd-tmp/output.8-15/out3/CVE-2013-7016/results.fixed.csv\n",
      "../kjd-tmp/output.8-15/out3/CVE-2013-7016/results.fixed.csv\n",
      "../kjd-tmp/output.8-15/out3/CVE-2013-7016/results.fixed.csv\n",
      "../kjd-tmp/output.8-15/out3/CVE-2013-7016/results.fixed.csv\n",
      "../kjd-tmp/output.8-15/out3/CVE-2013-7016/results.fixed.csv\n",
      "../kjd-tmp/output.8-15/out3/CVE-2013-7016/results.fixed.csv\n",
      "../kjd-tmp/output.8-15/out3/CVE-2013-7017/results.fixed.csv\n",
      "../kjd-tmp/output.8-15/out3/CVE-2013-7017/results.fixed.csv\n",
      "../kjd-tmp/output.8-15/out3/CVE-2013-7017/results.fixed.csv\n",
      "../kjd-tmp/output.8-15/out3/CVE-2013-7017/results.fixed.csv\n",
      "../kjd-tmp/output.8-15/out3/CVE-2013-7017/results.fixed.csv\n",
      "../kjd-tmp/output.8-15/out3/CVE-2013-7017/results.fixed.csv\n",
      "../kjd-tmp/output.8-15/out3/CVE-2013-7017/results.fixed.csv\n",
      "../kjd-tmp/output.8-15/out3/CVE-2013-7017/results.fixed.csv\n",
      "../kjd-tmp/output.8-15/out3/CVE-2013-7017/results.fixed.csv\n",
      "../kjd-tmp/output.8-15/out3/CVE-2013-7017/results.fixed.csv\n",
      "../kjd-tmp/output.8-15/out3/CVE-2013-7017/results.fixed.csv\n",
      "../kjd-tmp/output.8-15/out3/CVE-2013-7017/results.fixed.csv\n",
      "../kjd-tmp/output.8-15/out3/CVE-2013-7019/results.fixed.csv\n",
      "../kjd-tmp/output.8-15/out3/CVE-2013-7019/results.fixed.csv\n",
      "../kjd-tmp/output.8-15/out3/CVE-2013-7019/results.fixed.csv\n",
      "../kjd-tmp/output.8-15/out3/CVE-2013-7019/results.fixed.csv\n",
      "../kjd-tmp/output.8-15/out3/CVE-2013-7019/results.fixed.csv\n",
      "../kjd-tmp/output.8-15/out3/CVE-2013-7019/results.fixed.csv\n",
      "../kjd-tmp/output.8-15/out3/CVE-2013-7019/results.fixed.csv\n",
      "../kjd-tmp/output.8-15/out3/CVE-2013-7019/results.fixed.csv\n",
      "../kjd-tmp/output.8-15/out3/CVE-2013-7019/results.fixed.csv\n",
      "../kjd-tmp/output.8-15/out3/CVE-2013-7019/results.fixed.csv\n",
      "../kjd-tmp/output.8-15/out3/CVE-2013-7019/results.fixed.csv\n",
      "../kjd-tmp/output.8-15/out3/CVE-2013-7019/results.fixed.csv\n",
      "../kjd-tmp/output.8-15/out3/CVE-2013-7021/results.fixed.csv\n",
      "../kjd-tmp/output.8-15/out3/CVE-2013-7021/results.fixed.csv\n",
      "../kjd-tmp/output.8-15/out3/CVE-2013-7021/results.fixed.csv\n",
      "../kjd-tmp/output.8-15/out3/CVE-2013-7021/results.fixed.csv\n",
      "../kjd-tmp/output.8-15/out3/CVE-2013-7021/results.fixed.csv\n",
      "../kjd-tmp/output.8-15/out3/CVE-2013-7021/results.fixed.csv\n",
      "../kjd-tmp/output.8-15/out3/CVE-2013-7021/results.fixed.csv\n",
      "../kjd-tmp/output.8-15/out3/CVE-2013-7021/results.fixed.csv\n",
      "../kjd-tmp/output.8-15/out3/CVE-2013-7021/results.fixed.csv\n",
      "../kjd-tmp/output.8-15/out3/CVE-2013-7021/results.fixed.csv\n",
      "../kjd-tmp/output.8-15/out3/CVE-2013-7021/results.fixed.csv\n",
      "../kjd-tmp/output.8-15/out3/CVE-2013-7021/results.fixed.csv\n",
      "../kjd-tmp/output.8-15/out3/CVE-2013-7021/results.fixed.csv\n",
      "../kjd-tmp/output.8-15/out3/CVE-2013-7021/results.fixed.csv\n",
      "../kjd-tmp/output.8-15/out3/CVE-2013-7021/results.fixed.csv\n",
      "../kjd-tmp/output.8-15/out3/CVE-2013-7021/results.fixed.csv\n",
      "../kjd-tmp/output.8-15/out3/CVE-2013-7021/results.fixed.csv\n",
      "../kjd-tmp/output.8-15/out3/CVE-2013-7021/results.fixed.csv\n",
      "../kjd-tmp/output.8-15/out3/CVE-2013-7021/results.fixed.csv\n",
      "../kjd-tmp/output.8-15/out3/CVE-2013-7021/results.fixed.csv\n",
      "../kjd-tmp/output.8-15/out3/CVE-2013-7021/results.fixed.csv\n",
      "../kjd-tmp/output.8-15/out3/CVE-2013-7021/results.fixed.csv\n",
      "../kjd-tmp/output.8-15/out3/CVE-2013-7021/results.fixed.csv\n",
      "../kjd-tmp/output.8-15/out3/CVE-2013-7021/results.fixed.csv\n",
      "../kjd-tmp/output.8-15/out3/CVE-2013-7021/results.fixed.csv\n",
      "../kjd-tmp/output.8-15/out3/CVE-2013-7021/results.fixed.csv\n",
      "../kjd-tmp/output.8-15/out4/CVE-2014-8324/results.fixed.csv\n",
      "../kjd-tmp/output.8-15/out4/CVE-2014-8324/results.fixed.csv\n",
      "../kjd-tmp/output.8-15/out4/CVE-2014-8324/results.fixed.csv\n",
      "../kjd-tmp/output.8-15/out4/CVE-2014-8324/results.fixed.csv\n",
      "../kjd-tmp/output.8-15/out4/CVE-2014-8324/results.fixed.csv\n",
      "../kjd-tmp/output.8-15/out4/CVE-2014-8324/results.fixed.csv\n",
      "../kjd-tmp/output.8-15/out4/CVE-2014-8324/results.fixed.csv\n",
      "../kjd-tmp/output.8-15/out4/CVE-2014-8324/results.fixed.csv\n",
      "../kjd-tmp/output.8-15/out4/CVE-2014-8324/results.fixed.csv\n",
      "../kjd-tmp/output.8-15/out4/CVE-2014-8324/results.fixed.csv\n",
      "../kjd-tmp/output.8-15/out4/CVE-2014-8324/results.fixed.csv\n",
      "../kjd-tmp/output.8-15/out4/CVE-2014-8324/results.fixed.csv\n",
      "../kjd-tmp/output.8-15/out4/CVE-2014-8324/results.fixed.csv\n",
      "../kjd-tmp/output.8-15/out4/CVE-2014-8324/results.fixed.csv\n",
      "../kjd-tmp/output.8-15/out4/CVE-2014-8323/results.fixed.csv\n",
      "../kjd-tmp/output.8-15/out4/CVE-2014-8323/results.fixed.csv\n",
      "../kjd-tmp/output.8-15/out4/CVE-2014-8323/results.fixed.csv\n",
      "../kjd-tmp/output.8-15/out4/CVE-2014-8323/results.fixed.csv\n",
      "../kjd-tmp/output.8-15/out4/CVE-2014-8323/results.fixed.csv\n",
      "../kjd-tmp/output.8-15/out4/CVE-2014-8323/results.fixed.csv\n",
      "../kjd-tmp/output.8-15/out4/CVE-2014-8323/results.fixed.csv\n",
      "../kjd-tmp/output.8-15/out4/CVE-2014-8326/results.fixed.csv\n",
      "../kjd-tmp/output.8-15/out4/CVE-2014-8326/results.fixed.csv\n",
      "../kjd-tmp/output.8-15/out4/CVE-2014-8326/results.fixed.csv\n",
      "../kjd-tmp/output.8-15/out4/CVE-2014-8326/results.fixed.csv\n",
      "../kjd-tmp/output.8-15/out4/CVE-2014-8326/results.fixed.csv\n",
      "../kjd-tmp/output.8-15/out4/CVE-2014-8326/results.fixed.csv\n",
      "../kjd-tmp/output.8-15/out4/CVE-2014-8326/results.fixed.csv\n",
      "../kjd-tmp/output.8-15/out4/CVE-2014-8326/results.fixed.csv\n",
      "../kjd-tmp/output.8-15/out4/CVE-2014-8326/results.fixed.csv\n",
      "../kjd-tmp/output.8-15/out4/CVE-2014-8326/results.fixed.csv\n",
      "../kjd-tmp/output.8-15/out4/CVE-2014-8326/results.fixed.csv\n",
      "../kjd-tmp/output.8-15/out4/CVE-2014-8326/results.fixed.csv\n",
      "../kjd-tmp/output.8-15/out4/CVE-2014-8326/results.fixed.csv\n",
      "../kjd-tmp/output.8-15/out4/CVE-2014-8326/results.fixed.csv\n",
      "../kjd-tmp/output.8-15/out4/CVE-2014-8326/results.fixed.csv\n",
      "../kjd-tmp/output.8-15/out4/CVE-2014-8326/results.fixed.csv\n",
      "../kjd-tmp/output.8-15/out4/CVE-2014-8326/results.fixed.csv\n",
      "../kjd-tmp/output.8-15/out4/CVE-2014-8326/results.fixed.csv\n",
      "../kjd-tmp/output.8-15/out4/CVE-2014-8326/results.fixed.csv\n",
      "../kjd-tmp/output.8-15/out4/CVE-2014-8326/results.fixed.csv\n",
      "../kjd-tmp/output.8-15/out4/CVE-2014-8326/results.fixed.csv\n",
      "../kjd-tmp/output.8-15/out4/CVE-2014-8326/results.fixed.csv\n",
      "../kjd-tmp/output.8-15/out4/CVE-2014-8326/results.fixed.csv\n",
      "../kjd-tmp/output.8-15/out4/CVE-2014-8326/results.fixed.csv\n",
      "../kjd-tmp/output.8-15/out4/CVE-2014-8326/results.fixed.csv\n",
      "../kjd-tmp/output.8-15/out4/CVE-2014-8326/results.fixed.csv\n",
      "../kjd-tmp/output.8-15/out4/CVE-2014-8326/results.fixed.csv\n",
      "../kjd-tmp/output.8-15/out4/CVE-2014-8326/results.fixed.csv\n",
      "../kjd-tmp/output.8-15/out4/CVE-2014-8326/results.fixed.csv\n",
      "../kjd-tmp/output.8-15/out4/CVE-2014-8326/results.fixed.csv\n",
      "../kjd-tmp/output.8-15/out6/CVE-2016-1245/results.fixed.csv\n",
      "../kjd-tmp/output.8-15/out6/CVE-2016-1245/results.fixed.csv\n",
      "../kjd-tmp/output.8-15/out6/CVE-2016-1245/results.fixed.csv\n",
      "../kjd-tmp/output.8-15/out6/CVE-2016-1541/results.fixed.csv\n",
      "../kjd-tmp/output.8-15/out6/CVE-2016-1541/results.fixed.csv\n",
      "../kjd-tmp/output.8-15/out6/CVE-2016-1541/results.fixed.csv\n",
      "../kjd-tmp/output.8-15/out6/CVE-2016-1541/results.fixed.csv\n",
      "../kjd-tmp/output.8-15/out6/CVE-2016-1541/results.fixed.csv\n",
      "../kjd-tmp/output.8-15/out6/CVE-2016-1541/results.fixed.csv\n",
      "../kjd-tmp/output.8-15/out6/CVE-2016-1541/results.fixed.csv\n",
      "../kjd-tmp/output.8-15/out6/CVE-2016-1541/results.fixed.csv\n",
      "../kjd-tmp/output.8-15/out6/CVE-2016-1541/results.fixed.csv\n",
      "../kjd-tmp/output.8-15/out6/CVE-2016-1541/results.fixed.csv\n",
      "../kjd-tmp/output.8-15/out6/CVE-2016-1541/results.fixed.csv\n",
      "../kjd-tmp/output.8-15/out6/CVE-2016-1541/results.fixed.csv\n",
      "../kjd-tmp/output.8-15/out6/CVE-2016-1541/results.fixed.csv\n",
      "../kjd-tmp/output.8-15/out6/CVE-2016-1541/results.fixed.csv\n",
      "../kjd-tmp/output.8-15/out6/CVE-2016-1541/results.fixed.csv\n",
      "../kjd-tmp/output.8-15/out6/CVE-2016-1246/results.fixed.csv\n",
      "../kjd-tmp/output.8-15/out7/CVE-2016-7537/results.fixed.csv\n",
      "../kjd-tmp/output.8-15/out7/CVE-2016-7537/results.fixed.csv\n",
      "../kjd-tmp/output.8-15/out7/CVE-2016-7553/results.fixed.csv\n",
      "../kjd-tmp/output.8-15/out7/CVE-2016-7538/results.fixed.csv\n",
      "../kjd-tmp/output.8-15/out7/CVE-2016-7538/results.fixed.csv\n",
      "../kjd-tmp/output.8-15/out7/CVE-2016-7525/results.fixed.csv\n",
      "../kjd-tmp/output.8-15/out7/CVE-2016-7525/results.fixed.csv\n",
      "../kjd-tmp/output.8-15/out7/CVE-2016-7524/results.fixed.csv\n",
      "../kjd-tmp/output.8-15/out7/CVE-2016-7524/results.fixed.csv\n",
      "../kjd-tmp/output.8-15/out7/CVE-2016-7533/results.fixed.csv\n",
      "../kjd-tmp/output.8-15/out7/CVE-2016-7533/results.fixed.csv\n",
      "../kjd-tmp/output.8-15/out7/CVE-2016-7797/results.fixed.csv\n",
      "../kjd-tmp/output.8-15/out7/CVE-2016-7797/results.fixed.csv\n",
      "../kjd-tmp/output.8-15/out7/CVE-2016-7532/results.fixed.csv\n",
      "../kjd-tmp/output.8-15/out7/CVE-2016-7532/results.fixed.csv\n",
      "../kjd-tmp/output.8-15/out7/CVE-2016-7528/results.fixed.csv\n",
      "../kjd-tmp/output.8-15/out7/CVE-2016-7528/results.fixed.csv\n",
      "../kjd-tmp/output.8-15/out7/CVE-2016-7526/results.fixed.csv\n",
      "../kjd-tmp/output.8-15/out7/CVE-2016-7526/results.fixed.csv\n",
      "../kjd-tmp/output.8-15/out7/CVE-2016-7545/results.fixed.csv\n",
      "../kjd-tmp/output.8-15/out7/CVE-2016-7545/results.fixed.csv\n",
      "../kjd-tmp/output.8-15/out7/CVE-2016-7545/results.fixed.csv\n",
      "../kjd-tmp/output.8-15/out7/CVE-2016-7545/results.fixed.csv\n",
      "../kjd-tmp/output.8-15/out7/CVE-2016-7545/results.fixed.csv\n",
      "../kjd-tmp/output.8-15/out7/CVE-2016-7545/results.fixed.csv\n",
      "../kjd-tmp/output.8-15/out7/CVE-2016-7545/results.fixed.csv\n",
      "../kjd-tmp/output.8-15/out7/CVE-2016-7545/results.fixed.csv\n",
      "../kjd-tmp/output.8-15/out7/CVE-2016-7545/results.fixed.csv\n",
      "../kjd-tmp/output.8-15/out7/CVE-2016-7545/results.fixed.csv\n",
      "../kjd-tmp/output.8-15/out7/CVE-2016-7545/results.fixed.csv\n",
      "../kjd-tmp/output.8-15/out7/CVE-2016-7545/results.fixed.csv\n",
      "../kjd-tmp/output.8-15/out7/CVE-2016-7545/results.fixed.csv\n",
      "../kjd-tmp/output.8-15/out7/CVE-2016-7545/results.fixed.csv\n",
      "../kjd-tmp/output.8-15/out7/CVE-2016-7545/results.fixed.csv\n",
      "../kjd-tmp/output.8-15/out7/CVE-2016-7545/results.fixed.csv\n",
      "../kjd-tmp/output.8-15/out7/CVE-2016-7545/results.fixed.csv\n",
      "../kjd-tmp/output.8-15/out7/CVE-2016-7545/results.fixed.csv\n",
      "../kjd-tmp/output.8-15/out7/CVE-2016-7545/results.fixed.csv\n",
      "../kjd-tmp/output.8-15/out7/CVE-2016-7545/results.fixed.csv\n",
      "../kjd-tmp/output.8-15/out7/CVE-2016-7545/results.fixed.csv\n",
      "../kjd-tmp/output.8-15/out7/CVE-2016-7545/results.fixed.csv\n",
      "../kjd-tmp/output.8-15/out7/CVE-2016-7545/results.fixed.csv\n",
      "../kjd-tmp/output.8-15/out7/CVE-2016-7545/results.fixed.csv\n",
      "../kjd-tmp/output.8-15/out7/CVE-2016-7545/results.fixed.csv\n",
      "../kjd-tmp/output.8-15/out7/CVE-2016-7545/results.fixed.csv\n",
      "../kjd-tmp/output.8-15/out7/CVE-2016-7545/results.fixed.csv\n",
      "../kjd-tmp/output.8-15/out7/CVE-2016-7545/results.fixed.csv\n",
      "../kjd-tmp/output.8-15/out7/CVE-2016-7545/results.fixed.csv\n",
      "../kjd-tmp/output.8-15/out7/CVE-2016-7545/results.fixed.csv\n",
      "../kjd-tmp/output.8-15/out7/CVE-2016-7545/results.fixed.csv\n",
      "../kjd-tmp/output.8-15/out7/CVE-2016-7545/results.fixed.csv\n",
      "../kjd-tmp/output.8-15/out7/CVE-2016-7545/results.fixed.csv\n",
      "../kjd-tmp/output.8-15/out7/CVE-2016-7545/results.fixed.csv\n",
      "../kjd-tmp/output.8-15/out7/CVE-2016-7545/results.fixed.csv\n",
      "../kjd-tmp/output.8-15/out7/CVE-2016-7545/results.fixed.csv\n",
      "../kjd-tmp/output.8-15/out7/CVE-2016-7545/results.fixed.csv\n",
      "../kjd-tmp/output.8-15/out7/CVE-2016-7545/results.fixed.csv\n",
      "../kjd-tmp/output.8-15/out7/CVE-2016-7545/results.fixed.csv\n",
      "../kjd-tmp/output.8-15/out7/CVE-2016-7545/results.fixed.csv\n",
      "../kjd-tmp/output.8-15/out7/CVE-2016-7545/results.fixed.csv\n",
      "../kjd-tmp/output.8-15/out7/CVE-2016-7545/results.fixed.csv\n",
      "../kjd-tmp/output.8-15/out7/CVE-2016-7545/results.fixed.csv\n",
      "../kjd-tmp/output.8-15/out7/CVE-2016-7545/results.fixed.csv\n",
      "../kjd-tmp/output.8-15/out7/CVE-2016-7545/results.fixed.csv\n",
      "../kjd-tmp/output.8-15/out7/CVE-2016-7545/results.fixed.csv\n",
      "../kjd-tmp/output.8-15/out7/CVE-2016-7545/results.fixed.csv\n",
      "../kjd-tmp/output.8-15/out7/CVE-2016-7545/results.fixed.csv\n",
      "../kjd-tmp/output.8-15/out7/CVE-2016-7545/results.fixed.csv\n",
      "../kjd-tmp/output.8-15/out7/CVE-2016-7545/results.fixed.csv\n",
      "../kjd-tmp/output.8-15/out7/CVE-2016-7545/results.fixed.csv\n",
      "../kjd-tmp/output.8-15/out7/CVE-2016-7545/results.fixed.csv\n",
      "../kjd-tmp/output.8-15/out7/CVE-2016-7545/results.fixed.csv\n",
      "../kjd-tmp/output.8-15/out7/CVE-2016-7545/results.fixed.csv\n",
      "../kjd-tmp/output.8-15/out7/CVE-2016-7545/results.fixed.csv\n",
      "../kjd-tmp/output.8-15/out7/CVE-2016-7545/results.fixed.csv\n",
      "../kjd-tmp/output.8-15/out7/CVE-2016-7545/results.fixed.csv\n",
      "../kjd-tmp/output.8-15/out7/CVE-2016-7545/results.fixed.csv\n",
      "../kjd-tmp/output.8-15/out7/CVE-2016-7545/results.fixed.csv\n",
      "../kjd-tmp/output.8-15/out7/CVE-2016-7545/results.fixed.csv\n",
      "../kjd-tmp/output.8-15/out7/CVE-2016-7545/results.fixed.csv\n",
      "../kjd-tmp/output.8-15/out7/CVE-2016-7545/results.fixed.csv\n",
      "../kjd-tmp/output.8-15/out7/CVE-2016-7545/results.fixed.csv\n",
      "../kjd-tmp/output.8-15/out7/CVE-2016-7545/results.fixed.csv\n",
      "../kjd-tmp/output.8-15/out7/CVE-2016-7545/results.fixed.csv\n",
      "../kjd-tmp/output.8-15/out7/CVE-2016-7545/results.fixed.csv\n",
      "../kjd-tmp/output.8-15/out7/CVE-2016-7545/results.fixed.csv\n",
      "../kjd-tmp/output.8-15/out7/CVE-2016-7545/results.fixed.csv\n",
      "../kjd-tmp/output.8-15/out7/CVE-2016-7545/results.fixed.csv\n",
      "../kjd-tmp/output.8-15/out7/CVE-2016-7545/results.fixed.csv\n",
      "../kjd-tmp/output.8-15/out7/CVE-2016-7545/results.fixed.csv\n",
      "../kjd-tmp/output.8-15/out7/CVE-2016-7545/results.fixed.csv\n",
      "../kjd-tmp/output.8-15/out7/CVE-2016-7545/results.fixed.csv\n",
      "../kjd-tmp/output.8-15/out7/CVE-2016-7545/results.fixed.csv\n",
      "../kjd-tmp/output.8-15/out7/CVE-2016-7545/results.fixed.csv\n",
      "../kjd-tmp/output.8-15/out7/CVE-2016-7545/results.fixed.csv\n",
      "../kjd-tmp/output.8-15/out7/CVE-2016-7545/results.fixed.csv\n",
      "../kjd-tmp/output.8-15/out7/CVE-2016-7545/results.fixed.csv\n",
      "../kjd-tmp/output.8-15/out7/CVE-2016-7545/results.fixed.csv\n",
      "../kjd-tmp/output.8-15/out7/CVE-2016-7545/results.fixed.csv\n",
      "../kjd-tmp/output.8-15/out7/CVE-2016-7545/results.fixed.csv\n",
      "../kjd-tmp/output.8-15/out7/CVE-2016-7545/results.fixed.csv\n",
      "../kjd-tmp/output.8-15/out7/CVE-2016-7545/results.fixed.csv\n",
      "../kjd-tmp/output.8-15/out7/CVE-2016-7545/results.fixed.csv\n",
      "../kjd-tmp/output.8-15/out7/CVE-2016-7545/results.fixed.csv\n",
      "../kjd-tmp/output.8-15/out7/CVE-2016-7545/results.fixed.csv\n",
      "../kjd-tmp/output.8-15/out7/CVE-2016-7545/results.fixed.csv\n",
      "../kjd-tmp/output.8-15/out7/CVE-2016-7545/results.fixed.csv\n",
      "../kjd-tmp/output.8-15/out7/CVE-2016-7545/results.fixed.csv\n",
      "../kjd-tmp/output.8-15/out7/CVE-2016-7545/results.fixed.csv\n",
      "../kjd-tmp/output.8-15/out7/CVE-2016-7545/results.fixed.csv\n",
      "../kjd-tmp/output.8-15/out7/CVE-2016-7545/results.fixed.csv\n",
      "../kjd-tmp/output.8-15/out7/CVE-2016-7545/results.fixed.csv\n",
      "../kjd-tmp/output.8-15/out7/CVE-2016-7545/results.fixed.csv\n",
      "../kjd-tmp/output.8-15/out7/CVE-2016-7545/results.fixed.csv\n",
      "../kjd-tmp/output.8-15/out7/CVE-2016-7545/results.fixed.csv\n",
      "../kjd-tmp/output.8-15/out7/CVE-2016-7545/results.fixed.csv\n",
      "../kjd-tmp/output.8-15/out7/CVE-2016-7545/results.fixed.csv\n",
      "../kjd-tmp/output.8-15/out7/CVE-2016-7545/results.fixed.csv\n",
      "../kjd-tmp/output.8-15/out7/CVE-2016-7545/results.fixed.csv\n",
      "../kjd-tmp/output.8-15/out7/CVE-2016-7545/results.fixed.csv\n",
      "../kjd-tmp/output.8-15/out7/CVE-2016-7545/results.fixed.csv\n",
      "../kjd-tmp/output.8-15/out7/CVE-2016-7545/results.fixed.csv\n",
      "../kjd-tmp/output.8-15/out7/CVE-2016-7545/results.fixed.csv\n",
      "../kjd-tmp/output.8-15/out7/CVE-2016-7545/results.fixed.csv\n",
      "../kjd-tmp/output.8-15/out7/CVE-2016-7545/results.fixed.csv\n",
      "../kjd-tmp/output.8-15/out7/CVE-2016-7545/results.fixed.csv\n",
      "../kjd-tmp/output.8-15/out7/CVE-2016-7545/results.fixed.csv\n",
      "../kjd-tmp/output.8-15/out7/CVE-2016-7545/results.fixed.csv\n",
      "../kjd-tmp/output.8-15/out7/CVE-2016-7545/results.fixed.csv\n",
      "../kjd-tmp/output.8-15/out7/CVE-2016-7545/results.fixed.csv\n",
      "../kjd-tmp/output.8-15/out7/CVE-2016-7545/results.fixed.csv\n",
      "../kjd-tmp/output.8-15/out7/CVE-2016-7545/results.fixed.csv\n",
      "../kjd-tmp/output.8-15/out7/CVE-2016-7545/results.fixed.csv\n",
      "../kjd-tmp/output.8-15/out7/CVE-2016-7545/results.fixed.csv\n",
      "../kjd-tmp/output.8-15/out7/CVE-2016-7545/results.fixed.csv\n",
      "../kjd-tmp/output.8-15/out7/CVE-2016-7545/results.fixed.csv\n",
      "../kjd-tmp/output.8-15/out7/CVE-2016-7545/results.fixed.csv\n",
      "../kjd-tmp/output.8-15/out7/CVE-2016-7545/results.fixed.csv\n",
      "../kjd-tmp/output.8-15/out7/CVE-2016-7545/results.fixed.csv\n",
      "../kjd-tmp/output.8-15/out7/CVE-2016-7545/results.fixed.csv\n",
      "../kjd-tmp/output.8-15/out7/CVE-2016-7545/results.fixed.csv\n",
      "../kjd-tmp/output.8-15/out7/CVE-2016-7545/results.fixed.csv\n",
      "../kjd-tmp/output.8-15/out7/CVE-2016-7545/results.fixed.csv\n",
      "../kjd-tmp/output.8-15/out7/CVE-2016-7545/results.fixed.csv\n",
      "../kjd-tmp/output.8-15/out7/CVE-2016-7545/results.fixed.csv\n",
      "../kjd-tmp/output.8-15/out7/CVE-2016-7545/results.fixed.csv\n",
      "../kjd-tmp/output.8-15/out7/CVE-2016-7545/results.fixed.csv\n",
      "../kjd-tmp/output.8-15/out7/CVE-2016-7545/results.fixed.csv\n",
      "../kjd-tmp/output.8-15/out7/CVE-2016-7545/results.fixed.csv\n",
      "../kjd-tmp/output.8-15/out7/CVE-2016-7545/results.fixed.csv\n",
      "../kjd-tmp/output.8-15/out7/CVE-2016-7545/results.fixed.csv\n",
      "../kjd-tmp/output.8-15/out7/CVE-2016-7545/results.fixed.csv\n",
      "../kjd-tmp/output.8-15/out7/CVE-2016-7545/results.fixed.csv\n",
      "../kjd-tmp/output.8-15/out7/CVE-2016-7545/results.fixed.csv\n",
      "../kjd-tmp/output.8-15/out7/CVE-2016-7545/results.fixed.csv\n",
      "../kjd-tmp/output.8-15/out7/CVE-2016-7545/results.fixed.csv\n",
      "../kjd-tmp/output.8-15/out7/CVE-2016-7545/results.fixed.csv\n",
      "../kjd-tmp/output.8-15/out7/CVE-2016-7545/results.fixed.csv\n",
      "../kjd-tmp/output.8-15/out7/CVE-2016-7545/results.fixed.csv\n",
      "../kjd-tmp/output.8-15/out7/CVE-2016-7545/results.fixed.csv\n",
      "../kjd-tmp/output.8-15/out7/CVE-2016-7545/results.fixed.csv\n",
      "../kjd-tmp/output.8-15/out7/CVE-2016-7545/results.fixed.csv\n",
      "../kjd-tmp/output.8-15/out7/CVE-2016-7545/results.fixed.csv\n",
      "../kjd-tmp/output.8-15/out7/CVE-2016-7545/results.fixed.csv\n",
      "../kjd-tmp/output.8-15/out7/CVE-2016-7545/results.fixed.csv\n",
      "../kjd-tmp/output.8-15/out7/CVE-2016-7545/results.fixed.csv\n",
      "../kjd-tmp/output.8-15/out7/CVE-2016-7527/results.fixed.csv\n",
      "../kjd-tmp/output.8-15/out7/CVE-2016-7527/results.fixed.csv\n",
      "../kjd-tmp/output.8-15/out7/CVE-2016-7529/results.fixed.csv\n",
      "../kjd-tmp/output.8-15/out7/CVE-2016-7529/results.fixed.csv\n",
      "../kjd-tmp/output.8-15/out8/CVE-2017-14056/results.fixed.csv\n",
      "../kjd-tmp/output.8-15/out8/CVE-2017-14056/results.fixed.csv\n",
      "../kjd-tmp/output.8-15/out8/CVE-2017-14056/results.fixed.csv\n",
      "../kjd-tmp/output.8-15/out8/CVE-2017-14056/results.fixed.csv\n",
      "../kjd-tmp/output.8-15/out8/CVE-2017-14056/results.fixed.csv\n",
      "../kjd-tmp/output.8-15/out8/CVE-2017-14056/results.fixed.csv\n",
      "../kjd-tmp/output.8-15/out8/CVE-2017-14056/results.fixed.csv\n",
      "../kjd-tmp/output.8-15/out8/CVE-2017-14056/results.fixed.csv\n",
      "../kjd-tmp/output.8-15/out8/CVE-2017-14056/results.fixed.csv\n",
      "../kjd-tmp/output.8-15/out8/CVE-2017-14056/results.fixed.csv\n",
      "../kjd-tmp/output.8-15/out8/CVE-2017-14056/results.fixed.csv\n",
      "../kjd-tmp/output.8-15/out8/CVE-2017-14056/results.fixed.csv\n",
      "../kjd-tmp/output.8-15/out8/CVE-2017-14056/results.fixed.csv\n",
      "../kjd-tmp/output.8-15/out8/CVE-2017-14056/results.fixed.csv\n",
      "../kjd-tmp/output.8-15/out8/CVE-2017-14056/results.fixed.csv\n",
      "../kjd-tmp/output.8-15/out8/CVE-2017-14056/results.fixed.csv\n",
      "../kjd-tmp/output.8-15/out8/CVE-2017-14056/results.fixed.csv\n",
      "../kjd-tmp/output.8-15/out8/CVE-2017-14056/results.fixed.csv\n",
      "../kjd-tmp/output.8-15/out8/CVE-2017-14056/results.fixed.csv\n",
      "../kjd-tmp/output.8-15/out8/CVE-2017-14056/results.fixed.csv\n",
      "../kjd-tmp/output.8-15/out8/CVE-2017-14056/results.fixed.csv\n",
      "../kjd-tmp/output.8-15/out8/CVE-2017-14056/results.fixed.csv\n",
      "../kjd-tmp/output.8-15/out8/CVE-2017-14056/results.fixed.csv\n",
      "../kjd-tmp/output.8-15/out8/CVE-2017-14056/results.fixed.csv\n",
      "../kjd-tmp/output.8-15/out8/CVE-2017-14056/results.fixed.csv\n",
      "../kjd-tmp/output.8-15/out8/CVE-2017-14056/results.fixed.csv\n",
      "../kjd-tmp/output.8-15/out8/CVE-2017-14056/results.fixed.csv\n",
      "../kjd-tmp/output.8-15/out8/CVE-2017-14056/results.fixed.csv\n",
      "../kjd-tmp/output.8-15/out8/CVE-2017-14056/results.fixed.csv\n",
      "../kjd-tmp/output.8-15/out8/CVE-2017-14056/results.fixed.csv\n",
      "../kjd-tmp/output.8-15/out8/CVE-2017-14056/results.fixed.csv\n",
      "../kjd-tmp/output.8-15/out8/CVE-2017-14056/results.fixed.csv\n",
      "../kjd-tmp/output.8-15/out8/CVE-2017-14056/results.fixed.csv\n",
      "../kjd-tmp/output.8-15/out8/CVE-2017-14056/results.fixed.csv\n",
      "../kjd-tmp/output.8-15/out8/CVE-2017-14056/results.fixed.csv\n",
      "../kjd-tmp/output.8-15/out8/CVE-2017-14056/results.fixed.csv\n",
      "../kjd-tmp/output.8-15/out8/CVE-2017-14056/results.fixed.csv\n",
      "../kjd-tmp/output.8-15/out8/CVE-2017-14056/results.fixed.csv\n",
      "../kjd-tmp/output.8-15/out8/CVE-2017-14056/results.fixed.csv\n",
      "../kjd-tmp/output.8-15/out8/CVE-2017-14056/results.fixed.csv\n",
      "../kjd-tmp/output.8-15/out8/CVE-2017-14056/results.fixed.csv\n",
      "../kjd-tmp/output.8-15/out8/CVE-2017-14056/results.fixed.csv\n",
      "../kjd-tmp/output.8-15/out8/CVE-2017-14056/results.fixed.csv\n",
      "../kjd-tmp/output.8-15/out8/CVE-2017-14056/results.fixed.csv\n",
      "../kjd-tmp/output.8-15/out8/CVE-2017-14056/results.fixed.csv\n",
      "../kjd-tmp/output.8-15/out8/CVE-2017-14056/results.fixed.csv\n",
      "../kjd-tmp/output.8-15/out8/CVE-2017-14056/results.fixed.csv\n",
      "../kjd-tmp/output.8-15/out8/CVE-2017-14056/results.fixed.csv\n",
      "../kjd-tmp/output.8-15/out8/CVE-2017-14056/results.fixed.csv\n",
      "../kjd-tmp/output.8-15/out8/CVE-2017-14056/results.fixed.csv\n",
      "../kjd-tmp/output.8-15/out8/CVE-2017-14056/results.fixed.csv\n",
      "../kjd-tmp/output.8-15/out8/CVE-2017-14056/results.fixed.csv\n",
      "../kjd-tmp/output.8-15/out8/CVE-2017-14056/results.fixed.csv\n",
      "../kjd-tmp/output.8-15/out8/CVE-2017-14056/results.fixed.csv\n",
      "../kjd-tmp/output.8-15/out8/CVE-2017-14056/results.fixed.csv\n",
      "../kjd-tmp/output.8-15/out8/CVE-2017-14056/results.fixed.csv\n",
      "../kjd-tmp/output.8-15/out8/CVE-2017-14056/results.fixed.csv\n",
      "../kjd-tmp/output.8-15/out8/CVE-2017-14056/results.fixed.csv\n",
      "../kjd-tmp/output.8-15/out8/CVE-2017-14056/results.fixed.csv\n",
      "../kjd-tmp/output.8-15/out8/CVE-2017-14056/results.fixed.csv\n",
      "../kjd-tmp/output.8-15/out8/CVE-2017-14056/results.fixed.csv\n",
      "../kjd-tmp/output.8-15/out8/CVE-2017-14056/results.fixed.csv\n",
      "../kjd-tmp/output.8-15/out8/CVE-2017-14056/results.fixed.csv\n",
      "../kjd-tmp/output.8-15/out8/CVE-2017-14056/results.fixed.csv\n",
      "../kjd-tmp/output.8-15/out8/CVE-2017-14056/results.fixed.csv\n",
      "../kjd-tmp/output.8-15/out8/CVE-2017-14056/results.fixed.csv\n",
      "../kjd-tmp/output.8-15/out8/CVE-2017-14056/results.fixed.csv\n",
      "../kjd-tmp/output.8-15/out8/CVE-2017-14056/results.fixed.csv\n",
      "../kjd-tmp/output.8-15/out8/CVE-2017-14056/results.fixed.csv\n",
      "../kjd-tmp/output.8-15/out8/CVE-2017-14056/results.fixed.csv\n",
      "../kjd-tmp/output.8-15/out8/CVE-2017-14056/results.fixed.csv\n",
      "../kjd-tmp/output.8-15/out8/CVE-2017-14056/results.fixed.csv\n",
      "../kjd-tmp/output.8-15/out8/CVE-2017-14056/results.fixed.csv\n",
      "../kjd-tmp/output.8-15/out9/CVE-2017-5511/results.fixed.csv\n",
      "../kjd-tmp/output.8-15/out9/CVE-2017-5545/results.fixed.csv\n",
      "../kjd-tmp/output.8-15/out9/CVE-2017-5545/results.fixed.csv\n",
      "../kjd-tmp/output.8-15/out10/CVE-2018-1000658/results.fixed.csv\n",
      "../kjd-tmp/output.8-15/out10/CVE-2018-1000658/results.fixed.csv\n",
      "../kjd-tmp/output.8-15/out10/CVE-2018-1000528/results.fixed.csv\n",
      "../kjd-tmp/output.8-15/out10/CVE-2018-10017/results.fixed.csv\n",
      "../kjd-tmp/output.8-15/out10/CVE-2018-10017/results.fixed.csv\n",
      "../kjd-tmp/output.8-15/out10/CVE-2018-10017/results.fixed.csv\n",
      "../kjd-tmp/output.8-15/out10/CVE-2018-10017/results.fixed.csv\n",
      "../kjd-tmp/output.8-15/out12/CVE-2019-11596/results.fixed.csv\n",
      "../kjd-tmp/output.8-15/out12/CVE-2019-11596/results.fixed.csv\n",
      "../kjd-tmp/output.8-15/out14/CVE-2020-11940/results.fixed.csv\n",
      "../kjd-tmp/output.8-15/out14/CVE-2020-12284/results.fixed.csv\n",
      "../kjd-tmp/output.8-15/out14/CVE-2020-12284/results.fixed.csv\n",
      "../kjd-tmp/output.8-15/out14/CVE-2020-12284/results.fixed.csv\n",
      "../kjd-tmp/output.8-15/out14/CVE-2020-12284/results.fixed.csv\n",
      "../kjd-tmp/output.8-15/out14/CVE-2020-12284/results.fixed.csv\n",
      "../kjd-tmp/output.8-15/out14/CVE-2020-12284/results.fixed.csv\n",
      "../kjd-tmp/output.8-15/out14/CVE-2020-12284/results.fixed.csv\n",
      "../kjd-tmp/output.8-15/out14/CVE-2020-12284/results.fixed.csv\n",
      "../kjd-tmp/output.8-15/out14/CVE-2020-12284/results.fixed.csv\n",
      "../kjd-tmp/output.8-15/out14/CVE-2020-12284/results.fixed.csv\n",
      "../kjd-tmp/output.8-15/out14/CVE-2020-12284/results.fixed.csv\n",
      "../kjd-tmp/output.8-15/out14/CVE-2020-12284/results.fixed.csv\n",
      "../kjd-tmp/output.8-15/out14/CVE-2020-11810/results.fixed.csv\n",
      "../kjd-tmp/output.8-15/out14/CVE-2020-11810/results.fixed.csv\n",
      "../kjd-tmp/output.8-15/out14/CVE-2020-11810/results.fixed.csv\n",
      "../kjd-tmp/output.8-15/out14/CVE-2020-11810/results.fixed.csv\n",
      "../kjd-tmp/output.8-15/out14/CVE-2020-11810/results.fixed.csv\n",
      "../kjd-tmp/output.8-15/out14/CVE-2020-12066/results.fixed.csv\n",
      "../kjd-tmp/output.8-15/out14/CVE-2020-11939/results.fixed.csv\n",
      "../kjd-tmp/output.8-15/out14/CVE-2020-12268/results.fixed.csv\n",
      "../kjd-tmp/output.8-15/out14/CVE-2020-12268/results.fixed.csv\n",
      "../kjd-tmp/output.8-15/out14/CVE-2020-12268/results.fixed.csv\n",
      "../kjd-tmp/output.8-15/out14/CVE-2020-12268/results.fixed.csv\n",
      "../kjd-tmp/output.8-15/out14/CVE-2020-12268/results.fixed.csv\n",
      "../kjd-tmp/output.8-15/out14/CVE-2020-12062/results.fixed.csv\n",
      "../kjd-tmp/output.8-15/out14/CVE-2020-12062/results.fixed.csv\n",
      "../kjd-tmp/output.8-15/out14/CVE-2020-12062/results.fixed.csv\n",
      "../kjd-tmp/output.8-15/out14/CVE-2020-12062/results.fixed.csv\n",
      "../kjd-tmp/output.8-15/out14/CVE-2020-12062/results.fixed.csv\n",
      "../kjd-tmp/output.8-15/out14/CVE-2020-11958/results.fixed.csv\n",
      "../kjd-tmp/output.8-15/out15/CVE-2020-28896/results.fixed.csv\n",
      "../kjd-tmp/output.8-15/out15/CVE-2020-29367/results.fixed.csv\n",
      "../kjd-tmp/output.8-15/out15/CVE-2020-28941/results.fixed.csv\n",
      "../kjd-tmp/output.8-15/out15/CVE-2020-28941/results.fixed.csv\n",
      "../kjd-tmp/output.8-15/out15/CVE-2020-28941/results.fixed.csv\n",
      "../kjd-tmp/output.8-15/out15/CVE-2020-28941/results.fixed.csv\n",
      "../kjd-tmp/output.8-15/out15/CVE-2020-28941/results.fixed.csv\n",
      "../kjd-tmp/output.8-15/out15/CVE-2020-28941/results.fixed.csv\n",
      "../kjd-tmp/output.8-15/out15/CVE-2020-28941/results.fixed.csv\n",
      "../kjd-tmp/output.8-15/out15/CVE-2020-28941/results.fixed.csv\n",
      "../kjd-tmp/output.8-15/out15/CVE-2020-28941/results.fixed.csv\n",
      "../kjd-tmp/output.8-15/out15/CVE-2020-28941/results.fixed.csv\n",
      "../kjd-tmp/output.8-15/out15/CVE-2020-28954/results.fixed.csv\n",
      "../kjd-tmp/output.8-15/out16/CVE-2021-28041/results.fixed.csv\n"
     ]
    }
   ],
   "source": [
    "for value in df_fixed['from_file']:\n",
    "    print(value)"
   ]
  },
  {
   "cell_type": "code",
   "execution_count": 21,
   "id": "51e9ff0c",
   "metadata": {},
   "outputs": [
    {
     "data": {
      "text/plain": [
       "Index(['time_diff', 'project', 'first good blob commit',\n",
       "       'first good commit time', 'first bad blob commit',\n",
       "       'first bad commit time', 'cve publication date', 'num commits', 'CVE',\n",
       "       'from_file', 'fix_time', 'intro_time', 'cve_time', 'diff_fix_intro'],\n",
       "      dtype='object')"
      ]
     },
     "execution_count": 21,
     "metadata": {},
     "output_type": "execute_result"
    }
   ],
   "source": [
    "df_fixed.columns"
   ]
  },
  {
   "cell_type": "code",
   "execution_count": 7,
   "id": "03ca291c",
   "metadata": {},
   "outputs": [],
   "source": [
    "df_fixed['fix_time'] = pd.to_datetime(df_fixed[\"first good commit time\"], format=\"%Y-%m-%d:%H:%M:%S\")\n",
    "df_fixed['intro_time'] = pd.to_datetime(df_fixed[\"first bad commit time\"], format=\"%Y-%m-%d:%H:%M:%S\")\n",
    "df_fixed['cve_time'] = pd.to_datetime(df_fixed[\"cve publication date\"], format=\"%Y-%m-%d_%H:%M:%S\")"
   ]
  },
  {
   "cell_type": "code",
   "execution_count": 8,
   "id": "60baff9e",
   "metadata": {},
   "outputs": [],
   "source": [
    "df_fixed['diff_fix_intro'] = (df_fixed['fix_time'] - df_fixed['intro_time']).dt.days"
   ]
  },
  {
   "cell_type": "code",
   "execution_count": 14,
   "id": "261bab76",
   "metadata": {},
   "outputs": [
    {
     "data": {
      "text/plain": [
       "0   2017-10-29 02:29:00\n",
       "1   2017-10-29 02:29:00\n",
       "2   2017-10-29 02:29:00\n",
       "3   2017-10-29 02:29:00\n",
       "4   2017-10-29 02:29:00\n",
       "            ...        \n",
       "7   2020-11-19 14:15:00\n",
       "8   2020-11-19 14:15:00\n",
       "9   2020-11-19 14:15:00\n",
       "0   2020-11-19 17:15:00\n",
       "0   2021-03-05 16:15:00\n",
       "Name: cve_time, Length: 506, dtype: datetime64[ns]"
      ]
     },
     "execution_count": 14,
     "metadata": {},
     "output_type": "execute_result"
    }
   ],
   "source": [
    "df_fixed['cve_time']"
   ]
  },
  {
   "cell_type": "code",
   "execution_count": 15,
   "id": "8aef22db",
   "metadata": {},
   "outputs": [
    {
     "data": {
      "text/plain": [
       "0      0 days 00:00:00\n",
       "1    320 days 23:52:12\n",
       "2    384 days 23:49:09\n",
       "3    384 days 23:49:09\n",
       "4      0 days 00:12:44\n",
       "           ...        \n",
       "7    157 days 13:48:10\n",
       "8    149 days 23:33:44\n",
       "9      0 days 00:20:08\n",
       "0      0 days 00:18:38\n",
       "0   7784 days 00:20:58\n",
       "Name: diff_fix_intro, Length: 506, dtype: timedelta64[ns]"
      ]
     },
     "execution_count": 15,
     "metadata": {},
     "output_type": "execute_result"
    }
   ],
   "source": [
    "df_fixed['diff_fix_intro']"
   ]
  },
  {
   "cell_type": "code",
   "execution_count": 17,
   "id": "a29ce231",
   "metadata": {},
   "outputs": [
    {
     "name": "stderr",
     "output_type": "stream",
     "text": [
      "/opt/homebrew/lib/python3.10/site-packages/pandas/plotting/_matplotlib/core.py:1114: UserWarning: No data for colormapping provided via 'c'. Parameters 'cmap' will be ignored\n",
      "  scatter = ax.scatter(\n"
     ]
    },
    {
     "data": {
      "text/plain": [
       "<AxesSubplot: xlabel='cve_time', ylabel='diff_fix_intro'>"
      ]
     },
     "execution_count": 17,
     "metadata": {},
     "output_type": "execute_result"
    },
    {
     "data": {
      "image/png": "[encoded data removed]",
      "text/plain": [
       "<Figure size 432x288 with 1 Axes>"
      ]
     },
     "metadata": {
      "needs_background": "light"
     },
     "output_type": "display_data"
    }
   ],
   "source": [
    "import matplotlib\n",
    "\n",
    "df_fixed.plot(kind='scatter', x='cve_time', y='diff_fix_intro')"
   ]
  },
  {
   "cell_type": "code",
   "execution_count": 18,
   "id": "8e6e07b8",
   "metadata": {},
   "outputs": [
    {
     "data": {
      "text/plain": [
       "<AxesSubplot: xlabel='intro_time', ylabel='diff_fix_intro'>"
      ]
     },
     "execution_count": 18,
     "metadata": {},
     "output_type": "execute_result"
    },
    {
     "data": {
      "image/png": "[encoded data removed]",
      "text/plain": [
       "<Figure size 432x288 with 1 Axes>"
      ]
     },
     "metadata": {
      "needs_background": "light"
     },
     "output_type": "display_data"
    }
   ],
   "source": [
    "df_fixed.plot(kind='scatter', x='intro_time', y='diff_fix_intro')"
   ]
  },
  {
   "cell_type": "code",
   "execution_count": 19,
   "id": "fa6d61a5",
   "metadata": {},
   "outputs": [
    {
     "data": {
      "text/plain": [
       "<AxesSubplot: xlabel='fix_time', ylabel='diff_fix_intro'>"
      ]
     },
     "execution_count": 19,
     "metadata": {},
     "output_type": "execute_result"
    },
    {
     "data": {
      "image/png": "[encoded data removed]",
      "text/plain": [
       "<Figure size 432x288 with 1 Axes>"
      ]
     },
     "metadata": {
      "needs_background": "light"
     },
     "output_type": "display_data"
    }
   ],
   "source": [
    "df_fixed.plot(kind='scatter', x='fix_time', y='diff_fix_intro')"
   ]
  },
  {
   "cell_type": "code",
   "execution_count": 20,
   "id": "4865c1b7",
   "metadata": {},
   "outputs": [
    {
     "data": {
      "text/plain": [
       "<AxesSubplot: xlabel='intro_time', ylabel='fix_time'>"
      ]
     },
     "execution_count": 20,
     "metadata": {},
     "output_type": "execute_result"
    },
    {
     "data": {
      "image/png": "[encoded data removed]",
      "text/plain": [
       "<Figure size 432x288 with 1 Axes>"
      ]
     },
     "metadata": {
      "needs_background": "light"
     },
     "output_type": "display_data"
    }
   ],
   "source": [
    "df_fixed.plot(kind='scatter', x='intro_time', y='fix_time')"
   ]
  },
  {
   "cell_type": "code",
   "execution_count": 8,
   "id": "5b1b8907",
   "metadata": {},
   "outputs": [
    {
     "data": {
      "text/html": [
       "<div>\n",
       "<style scoped>\n",
       "    .dataframe tbody tr th:only-of-type {\n",
       "        vertical-align: middle;\n",
       "    }\n",
       "\n",
       "    .dataframe tbody tr th {\n",
       "        vertical-align: top;\n",
       "    }\n",
       "\n",
       "    .dataframe thead th {\n",
       "        text-align: right;\n",
       "    }\n",
       "</style>\n",
       "<table border=\"1\" class=\"dataframe\">\n",
       "  <thead>\n",
       "    <tr style=\"text-align: right;\">\n",
       "      <th></th>\n",
       "      <th>time_diff</th>\n",
       "      <th>project</th>\n",
       "      <th>first good blob commit</th>\n",
       "      <th>first good commit time</th>\n",
       "      <th>first bad blob commit</th>\n",
       "      <th>first bad commit time</th>\n",
       "      <th>cve publication date</th>\n",
       "      <th>num commits</th>\n",
       "      <th>CVE</th>\n",
       "      <th>from_file</th>\n",
       "      <th>fix_time</th>\n",
       "      <th>intro_time</th>\n",
       "      <th>cve_time</th>\n",
       "    </tr>\n",
       "  </thead>\n",
       "  <tbody>\n",
       "    <tr>\n",
       "      <th>0</th>\n",
       "      <td>-17 years and 43 days</td>\n",
       "      <td>broftkd_linux-history-repo</td>\n",
       "      <td>025cc935ee23e9eb632f8b964811907d730841a7</td>\n",
       "      <td>2000-05-23:20:15:00</td>\n",
       "      <td>03378c0fd8095db80b02d351f2ddfc01ff547261</td>\n",
       "      <td>2000-05-23:20:15:00</td>\n",
       "      <td>2017-10-29_02:29:00</td>\n",
       "      <td>179968</td>\n",
       "      <td>CVE-2006-5331</td>\n",
       "      <td>../kjd-tmp/output.8-15/out1/CVE-2006-5331/resu...</td>\n",
       "      <td>2000-05-23 20:15:00</td>\n",
       "      <td>2000-05-23 20:15:00</td>\n",
       "      <td>2017-10-29 02:29:00</td>\n",
       "    </tr>\n",
       "    <tr>\n",
       "      <th>1</th>\n",
       "      <td>-10 years and 91 days</td>\n",
       "      <td>git.kernel.org_pub_scm_linux_kernel_git_ralf_l...</td>\n",
       "      <td>3de5789e2efe2906867921a12f376dd645389561</td>\n",
       "      <td>2006-12-01:17:57:34</td>\n",
       "      <td>1bdaf50ba1e9a7c9991e3fdb92c3fca63b776178</td>\n",
       "      <td>2006-01-14:18:05:22</td>\n",
       "      <td>2017-10-29_02:29:00</td>\n",
       "      <td>unknown (git.kernel)</td>\n",
       "      <td>CVE-2006-5331</td>\n",
       "      <td>../kjd-tmp/output.8-15/out1/CVE-2006-5331/resu...</td>\n",
       "      <td>2006-12-01 17:57:34</td>\n",
       "      <td>2006-01-14 18:05:22</td>\n",
       "      <td>2017-10-29 02:29:00</td>\n",
       "    </tr>\n",
       "    <tr>\n",
       "      <th>2</th>\n",
       "      <td>-11 years and 04 days</td>\n",
       "      <td>illacceptanything_illacceptanything</td>\n",
       "      <td>6c4841c2b6c32a134f9f36e5e08857138cc12b10</td>\n",
       "      <td>2006-10-16:01:53:30</td>\n",
       "      <td>14cf11af6cf608eb8c23e989ddb17a715ddce109</td>\n",
       "      <td>2005-09-26:02:04:21</td>\n",
       "      <td>2017-10-29_02:29:00</td>\n",
       "      <td>140501</td>\n",
       "      <td>CVE-2006-5331</td>\n",
       "      <td>../kjd-tmp/output.8-15/out1/CVE-2006-5331/resu...</td>\n",
       "      <td>2006-10-16 01:53:30</td>\n",
       "      <td>2005-09-26 02:04:21</td>\n",
       "      <td>2017-10-29 02:29:00</td>\n",
       "    </tr>\n",
       "    <tr>\n",
       "      <th>3</th>\n",
       "      <td>-11 years and 04 days</td>\n",
       "      <td>Jackeagle_kernel_msm-3.18</td>\n",
       "      <td>09893fc4f22f2db953dbfb5149ea437781cabca0</td>\n",
       "      <td>2006-10-16:01:53:30</td>\n",
       "      <td>14cf11af6cf608eb8c23e989ddb17a715ddce109</td>\n",
       "      <td>2005-09-26:02:04:21</td>\n",
       "      <td>2017-10-29_02:29:00</td>\n",
       "      <td>499042</td>\n",
       "      <td>CVE-2006-5331</td>\n",
       "      <td>../kjd-tmp/output.8-15/out1/CVE-2006-5331/resu...</td>\n",
       "      <td>2006-10-16 01:53:30</td>\n",
       "      <td>2005-09-26 02:04:21</td>\n",
       "      <td>2017-10-29 02:29:00</td>\n",
       "    </tr>\n",
       "    <tr>\n",
       "      <th>4</th>\n",
       "      <td>-3 years and 06 days</td>\n",
       "      <td>jikk_kernel</td>\n",
       "      <td>68ccdc7062ba923d2975134cfa9c68a22aab3331</td>\n",
       "      <td>2014-10-06:13:58:15</td>\n",
       "      <td>b2b3651fc99445bcb1703c73f98d25454527ba2a</td>\n",
       "      <td>2014-10-06:13:45:31</td>\n",
       "      <td>2017-10-29_02:29:00</td>\n",
       "      <td>NaN</td>\n",
       "      <td>CVE-2006-5331</td>\n",
       "      <td>../kjd-tmp/output.8-15/out1/CVE-2006-5331/resu...</td>\n",
       "      <td>2014-10-06 13:58:15</td>\n",
       "      <td>2014-10-06 13:45:31</td>\n",
       "      <td>2017-10-29 02:29:00</td>\n",
       "    </tr>\n",
       "  </tbody>\n",
       "</table>\n",
       "</div>"
      ],
      "text/plain": [
       "               time_diff                                            project  \\\n",
       "0  -17 years and 43 days                         broftkd_linux-history-repo   \n",
       "1  -10 years and 91 days  git.kernel.org_pub_scm_linux_kernel_git_ralf_l...   \n",
       "2  -11 years and 04 days                illacceptanything_illacceptanything   \n",
       "3  -11 years and 04 days                          Jackeagle_kernel_msm-3.18   \n",
       "4   -3 years and 06 days                                        jikk_kernel   \n",
       "\n",
       "                     first good blob commit first good commit time  \\\n",
       "0  025cc935ee23e9eb632f8b964811907d730841a7    2000-05-23:20:15:00   \n",
       "1  3de5789e2efe2906867921a12f376dd645389561    2006-12-01:17:57:34   \n",
       "2  6c4841c2b6c32a134f9f36e5e08857138cc12b10    2006-10-16:01:53:30   \n",
       "3  09893fc4f22f2db953dbfb5149ea437781cabca0    2006-10-16:01:53:30   \n",
       "4  68ccdc7062ba923d2975134cfa9c68a22aab3331    2014-10-06:13:58:15   \n",
       "\n",
       "                      first bad blob commit first bad commit time  \\\n",
       "0  03378c0fd8095db80b02d351f2ddfc01ff547261   2000-05-23:20:15:00   \n",
       "1  1bdaf50ba1e9a7c9991e3fdb92c3fca63b776178   2006-01-14:18:05:22   \n",
       "2  14cf11af6cf608eb8c23e989ddb17a715ddce109   2005-09-26:02:04:21   \n",
       "3  14cf11af6cf608eb8c23e989ddb17a715ddce109   2005-09-26:02:04:21   \n",
       "4  b2b3651fc99445bcb1703c73f98d25454527ba2a   2014-10-06:13:45:31   \n",
       "\n",
       "  cve publication date           num commits            CVE  \\\n",
       "0  2017-10-29_02:29:00                179968  CVE-2006-5331   \n",
       "1  2017-10-29_02:29:00  unknown (git.kernel)  CVE-2006-5331   \n",
       "2  2017-10-29_02:29:00                140501  CVE-2006-5331   \n",
       "3  2017-10-29_02:29:00                499042  CVE-2006-5331   \n",
       "4  2017-10-29_02:29:00                   NaN  CVE-2006-5331   \n",
       "\n",
       "                                           from_file            fix_time  \\\n",
       "0  ../kjd-tmp/output.8-15/out1/CVE-2006-5331/resu... 2000-05-23 20:15:00   \n",
       "1  ../kjd-tmp/output.8-15/out1/CVE-2006-5331/resu... 2006-12-01 17:57:34   \n",
       "2  ../kjd-tmp/output.8-15/out1/CVE-2006-5331/resu... 2006-10-16 01:53:30   \n",
       "3  ../kjd-tmp/output.8-15/out1/CVE-2006-5331/resu... 2006-10-16 01:53:30   \n",
       "4  ../kjd-tmp/output.8-15/out1/CVE-2006-5331/resu... 2014-10-06 13:58:15   \n",
       "\n",
       "           intro_time            cve_time  \n",
       "0 2000-05-23 20:15:00 2017-10-29 02:29:00  \n",
       "1 2006-01-14 18:05:22 2017-10-29 02:29:00  \n",
       "2 2005-09-26 02:04:21 2017-10-29 02:29:00  \n",
       "3 2005-09-26 02:04:21 2017-10-29 02:29:00  \n",
       "4 2014-10-06 13:45:31 2017-10-29 02:29:00  "
      ]
     },
     "execution_count": 8,
     "metadata": {},
     "output_type": "execute_result"
    }
   ],
   "source": [
    "df_fixed.head()"
   ]
  },
  {
   "cell_type": "markdown",
   "id": "720f8705",
   "metadata": {},
   "source": [
    "# RQs\n",
    "\n",
    "* RQ1: How prevalent are cloned files with vulnerabilities?\n",
    "* RQ2: What percentage of cloned vulnerabilities are fixed?\n",
    "* RQ3: How long does it take to fix a cloned vulnerability?\n",
    "* RQ4: What are the characteristics of projects that have cloned vulnerabilities? Popularity, etc.\n",
    "* RQ5: What are the characteristics of projects that fix cloned vulnerabilities?"
   ]
  },
  {
   "cell_type": "markdown",
   "id": "1750885e",
   "metadata": {},
   "source": [
    " ## RQ1 How prevalent are cloned files with vulnerabilities?\n",
    " \n",
    " * how many vulnerabilities did we look at in total? = number of vulnerabilities in filtered CVEFixes dataset\n",
    " * how many vulnerabilities have been cloned to other projects? To how many other projects in total? \n",
    " * should we compare this to the total number of projects? Is there such a number? "
   ]
  },
  {
   "cell_type": "code",
   "execution_count": 9,
   "id": "e48c454b",
   "metadata": {},
   "outputs": [
    {
     "data": {
      "text/html": [
       "<div>\n",
       "<style scoped>\n",
       "    .dataframe tbody tr th:only-of-type {\n",
       "        vertical-align: middle;\n",
       "    }\n",
       "\n",
       "    .dataframe tbody tr th {\n",
       "        vertical-align: top;\n",
       "    }\n",
       "\n",
       "    .dataframe thead th {\n",
       "        text-align: right;\n",
       "    }\n",
       "</style>\n",
       "<table border=\"1\" class=\"dataframe\">\n",
       "  <thead>\n",
       "    <tr style=\"text-align: right;\">\n",
       "      <th></th>\n",
       "      <th>project</th>\n",
       "      <th>first bad blob commit</th>\n",
       "      <th>first bad commit time</th>\n",
       "      <th>formatted time</th>\n",
       "      <th>num commits</th>\n",
       "      <th>CVE</th>\n",
       "      <th>from_file</th>\n",
       "    </tr>\n",
       "  </thead>\n",
       "  <tbody>\n",
       "    <tr>\n",
       "      <th>0</th>\n",
       "      <td>1x23_unifi-gpl</td>\n",
       "      <td>c7ab6af32725c2c553d6a6197b3dd0711d5a474f</td>\n",
       "      <td>1350416097</td>\n",
       "      <td>2012-10-16:15:34:57</td>\n",
       "      <td>1.0</td>\n",
       "      <td>CVE-2006-5331</td>\n",
       "      <td>../kjd-tmp/output.8-15/out1/CVE-2006-5331/resu...</td>\n",
       "    </tr>\n",
       "    <tr>\n",
       "      <th>1</th>\n",
       "      <td>anxianghun_dtmesh-project-ar7161</td>\n",
       "      <td>1191e83e30ffc38efe4a90a2ad6850e516bb485d</td>\n",
       "      <td>1309756355</td>\n",
       "      <td>2011-07-04:01:12:35</td>\n",
       "      <td>89.0</td>\n",
       "      <td>CVE-2006-5331</td>\n",
       "      <td>../kjd-tmp/output.8-15/out1/CVE-2006-5331/resu...</td>\n",
       "    </tr>\n",
       "    <tr>\n",
       "      <th>2</th>\n",
       "      <td>ArtBern_A110Syabas</td>\n",
       "      <td>132c1813a48d27f78008109c08eeb7d0e4571831</td>\n",
       "      <td>1513259550</td>\n",
       "      <td>2017-12-14:08:52:30</td>\n",
       "      <td>40.0</td>\n",
       "      <td>CVE-2006-5331</td>\n",
       "      <td>../kjd-tmp/output.8-15/out1/CVE-2006-5331/resu...</td>\n",
       "    </tr>\n",
       "    <tr>\n",
       "      <th>3</th>\n",
       "      <td>BackupTheBerlios_arp2-svn</td>\n",
       "      <td>cfca66a3875c503150615c7d7aab827c38892c1f</td>\n",
       "      <td>1143977423</td>\n",
       "      <td>2006-04-02:07:30:23</td>\n",
       "      <td>2535.0</td>\n",
       "      <td>CVE-2006-5331</td>\n",
       "      <td>../kjd-tmp/output.8-15/out1/CVE-2006-5331/resu...</td>\n",
       "    </tr>\n",
       "    <tr>\n",
       "      <th>4</th>\n",
       "      <td>BoBoLin_Tetris-Battle-on-PXA270</td>\n",
       "      <td>ec1d8fbc5ee0146e5334f45494680f4954bf60e5</td>\n",
       "      <td>1498192170</td>\n",
       "      <td>2017-06-23:00:29:30</td>\n",
       "      <td>32.0</td>\n",
       "      <td>CVE-2006-5331</td>\n",
       "      <td>../kjd-tmp/output.8-15/out1/CVE-2006-5331/resu...</td>\n",
       "    </tr>\n",
       "  </tbody>\n",
       "</table>\n",
       "</div>"
      ],
      "text/plain": [
       "                            project                     first bad blob commit  \\\n",
       "0                    1x23_unifi-gpl  c7ab6af32725c2c553d6a6197b3dd0711d5a474f   \n",
       "1  anxianghun_dtmesh-project-ar7161  1191e83e30ffc38efe4a90a2ad6850e516bb485d   \n",
       "2                ArtBern_A110Syabas  132c1813a48d27f78008109c08eeb7d0e4571831   \n",
       "3         BackupTheBerlios_arp2-svn  cfca66a3875c503150615c7d7aab827c38892c1f   \n",
       "4   BoBoLin_Tetris-Battle-on-PXA270  ec1d8fbc5ee0146e5334f45494680f4954bf60e5   \n",
       "\n",
       "  first bad commit time       formatted time  num commits            CVE  \\\n",
       "0            1350416097  2012-10-16:15:34:57          1.0  CVE-2006-5331   \n",
       "1            1309756355  2011-07-04:01:12:35         89.0  CVE-2006-5331   \n",
       "2            1513259550  2017-12-14:08:52:30         40.0  CVE-2006-5331   \n",
       "3            1143977423  2006-04-02:07:30:23       2535.0  CVE-2006-5331   \n",
       "4            1498192170  2017-06-23:00:29:30         32.0  CVE-2006-5331   \n",
       "\n",
       "                                           from_file  \n",
       "0  ../kjd-tmp/output.8-15/out1/CVE-2006-5331/resu...  \n",
       "1  ../kjd-tmp/output.8-15/out1/CVE-2006-5331/resu...  \n",
       "2  ../kjd-tmp/output.8-15/out1/CVE-2006-5331/resu...  \n",
       "3  ../kjd-tmp/output.8-15/out1/CVE-2006-5331/resu...  \n",
       "4  ../kjd-tmp/output.8-15/out1/CVE-2006-5331/resu...  "
      ]
     },
     "execution_count": 9,
     "metadata": {},
     "output_type": "execute_result"
    }
   ],
   "source": [
    "df_notfixed.head()"
   ]
  },
  {
   "cell_type": "code",
   "execution_count": 12,
   "id": "a04884de",
   "metadata": {},
   "outputs": [
    {
     "data": {
      "text/html": [
       "<div>\n",
       "<style scoped>\n",
       "    .dataframe tbody tr th:only-of-type {\n",
       "        vertical-align: middle;\n",
       "    }\n",
       "\n",
       "    .dataframe tbody tr th {\n",
       "        vertical-align: top;\n",
       "    }\n",
       "\n",
       "    .dataframe thead th {\n",
       "        text-align: right;\n",
       "    }\n",
       "</style>\n",
       "<table border=\"1\" class=\"dataframe\">\n",
       "  <thead>\n",
       "    <tr style=\"text-align: right;\">\n",
       "      <th></th>\n",
       "      <th>project</th>\n",
       "      <th>first bad blob commit</th>\n",
       "      <th>first bad commit time</th>\n",
       "      <th>formatted time</th>\n",
       "      <th>num commits</th>\n",
       "      <th>CVE</th>\n",
       "      <th>from_file</th>\n",
       "    </tr>\n",
       "  </thead>\n",
       "  <tbody>\n",
       "    <tr>\n",
       "      <th>0</th>\n",
       "      <td>Broadcom_stblinux-2.6.18</td>\n",
       "      <td>fa7fc3b9cc81eb1a186189157aa10dcf0936fc50</td>\n",
       "      <td>1171670293</td>\n",
       "      <td>2007-02-16:18:58:13</td>\n",
       "      <td>30</td>\n",
       "      <td>CVE-2006-5331</td>\n",
       "      <td>../kjd-tmp/output.8-15/out1/CVE-2006-5331/resu...</td>\n",
       "    </tr>\n",
       "    <tr>\n",
       "      <th>1</th>\n",
       "      <td>gitlab.com_untangle.com_ngfw_kernels</td>\n",
       "      <td>fe8eb448622e700a643828ca197b7235552963e4</td>\n",
       "      <td>1273159376</td>\n",
       "      <td>2010-05-06:11:22:56</td>\n",
       "      <td>unknown (gitlab)</td>\n",
       "      <td>CVE-2006-5331</td>\n",
       "      <td>../kjd-tmp/output.8-15/out1/CVE-2006-5331/resu...</td>\n",
       "    </tr>\n",
       "    <tr>\n",
       "      <th>0</th>\n",
       "      <td>791254467_u8500_kernel</td>\n",
       "      <td>3f8d98ce83e231ac462e865f06f8a3e75cd06a90</td>\n",
       "      <td>1388656090.0</td>\n",
       "      <td>2014-01-02:04:48:10</td>\n",
       "      <td>169</td>\n",
       "      <td>CVE-2012-6544</td>\n",
       "      <td>../kjd-tmp/output.8-15/out2/CVE-2012-6544/resu...</td>\n",
       "    </tr>\n",
       "    <tr>\n",
       "      <th>1</th>\n",
       "      <td>7zrcn_hwp6s-kernel</td>\n",
       "      <td>3f299fba0b32e919d7bc116c25bf86e926c67d4b</td>\n",
       "      <td>1425052154.0</td>\n",
       "      <td>2015-02-27:10:49:14</td>\n",
       "      <td>1484</td>\n",
       "      <td>CVE-2012-6544</td>\n",
       "      <td>../kjd-tmp/output.8-15/out2/CVE-2012-6544/resu...</td>\n",
       "    </tr>\n",
       "    <tr>\n",
       "      <th>2</th>\n",
       "      <td>Abhinav1997_kernel-diff</td>\n",
       "      <td>1a7a30143d8b5658436d2cfe0b32ae84a53ea0f6</td>\n",
       "      <td>1399582779.0</td>\n",
       "      <td>2014-05-08:16:59:39</td>\n",
       "      <td>19</td>\n",
       "      <td>CVE-2012-6544</td>\n",
       "      <td>../kjd-tmp/output.8-15/out2/CVE-2012-6544/resu...</td>\n",
       "    </tr>\n",
       "  </tbody>\n",
       "</table>\n",
       "</div>"
      ],
      "text/plain": [
       "                                project  \\\n",
       "0              Broadcom_stblinux-2.6.18   \n",
       "1  gitlab.com_untangle.com_ngfw_kernels   \n",
       "0                791254467_u8500_kernel   \n",
       "1                    7zrcn_hwp6s-kernel   \n",
       "2               Abhinav1997_kernel-diff   \n",
       "\n",
       "                      first bad blob commit first bad commit time  \\\n",
       "0  fa7fc3b9cc81eb1a186189157aa10dcf0936fc50            1171670293   \n",
       "1  fe8eb448622e700a643828ca197b7235552963e4            1273159376   \n",
       "0  3f8d98ce83e231ac462e865f06f8a3e75cd06a90          1388656090.0   \n",
       "1  3f299fba0b32e919d7bc116c25bf86e926c67d4b          1425052154.0   \n",
       "2  1a7a30143d8b5658436d2cfe0b32ae84a53ea0f6          1399582779.0   \n",
       "\n",
       "        formatted time       num commits            CVE  \\\n",
       "0  2007-02-16:18:58:13                30  CVE-2006-5331   \n",
       "1  2010-05-06:11:22:56  unknown (gitlab)  CVE-2006-5331   \n",
       "0  2014-01-02:04:48:10               169  CVE-2012-6544   \n",
       "1  2015-02-27:10:49:14              1484  CVE-2012-6544   \n",
       "2  2014-05-08:16:59:39                19  CVE-2012-6544   \n",
       "\n",
       "                                           from_file  \n",
       "0  ../kjd-tmp/output.8-15/out1/CVE-2006-5331/resu...  \n",
       "1  ../kjd-tmp/output.8-15/out1/CVE-2006-5331/resu...  \n",
       "0  ../kjd-tmp/output.8-15/out2/CVE-2012-6544/resu...  \n",
       "1  ../kjd-tmp/output.8-15/out2/CVE-2012-6544/resu...  \n",
       "2  ../kjd-tmp/output.8-15/out2/CVE-2012-6544/resu...  "
      ]
     },
     "execution_count": 12,
     "metadata": {},
     "output_type": "execute_result"
    }
   ],
   "source": [
    "df_unknown.head()"
   ]
  },
  {
   "cell_type": "code",
   "execution_count": 47,
   "id": "06fa66d6",
   "metadata": {},
   "outputs": [
    {
     "data": {
      "text/plain": [
       "7243"
      ]
     },
     "execution_count": 47,
     "metadata": {},
     "output_type": "execute_result"
    }
   ],
   "source": [
    "all_projects = pd.concat([df_fixed['project'], df_notfixed['project'], df_unknown['project']])\n",
    "\n",
    "all_projects.nunique()"
   ]
  },
  {
   "cell_type": "code",
   "execution_count": 43,
   "id": "0ba1ac6d",
   "metadata": {},
   "outputs": [
    {
     "data": {
      "text/plain": [
       "88"
      ]
     },
     "execution_count": 43,
     "metadata": {},
     "output_type": "execute_result"
    }
   ],
   "source": [
    "all_vulns = pd.concat([df_fixed['CVE'], df_notfixed['CVE'], df_unknown['CVE']])\n",
    "\n",
    "all_vulns.nunique()"
   ]
  },
  {
   "cell_type": "code",
   "execution_count": 44,
   "id": "f538f5c6",
   "metadata": {},
   "outputs": [
    {
     "data": {
      "text/plain": [
       "50"
      ]
     },
     "execution_count": 44,
     "metadata": {},
     "output_type": "execute_result"
    }
   ],
   "source": [
    "df_fixed['CVE'].nunique()"
   ]
  },
  {
   "cell_type": "code",
   "execution_count": 45,
   "id": "985130b8",
   "metadata": {},
   "outputs": [
    {
     "data": {
      "text/plain": [
       "82"
      ]
     },
     "execution_count": 45,
     "metadata": {},
     "output_type": "execute_result"
    }
   ],
   "source": [
    "df_notfixed['CVE'].nunique()"
   ]
  },
  {
   "cell_type": "code",
   "execution_count": 46,
   "id": "6d697dbc",
   "metadata": {},
   "outputs": [
    {
     "data": {
      "text/plain": [
       "59"
      ]
     },
     "execution_count": 46,
     "metadata": {},
     "output_type": "execute_result"
    }
   ],
   "source": [
    "df_unknown['CVE'].nunique()"
   ]
  },
  {
   "cell_type": "markdown",
   "id": "47f11972",
   "metadata": {},
   "source": [
    "In total (currently) 88 vulnerabilities were analysed, these 88 vulnerabilities were cloned into 7243 projects. For 82 of the 88 vulnerabilities there was at least 1 project that cloned the vulnerability but did not fix it. For 50 vulnerabilities at least 1 project fixed this cloned vulnerability. "
   ]
  },
  {
   "cell_type": "markdown",
   "id": "9a1fcaf6",
   "metadata": {},
   "source": [
    "## RQ2: What percentage of cloned vulnerabilities are fixed?\n",
    "\n",
    "* number of cloned vulnerabilities that are fixed / number of cloned vulnerabilities "
   ]
  },
  {
   "cell_type": "code",
   "execution_count": 34,
   "id": "2f16e3ed",
   "metadata": {},
   "outputs": [
    {
     "data": {
      "text/plain": [
       "506"
      ]
     },
     "execution_count": 34,
     "metadata": {},
     "output_type": "execute_result"
    }
   ],
   "source": [
    "df_fixed['project'].count()"
   ]
  },
  {
   "cell_type": "code",
   "execution_count": 35,
   "id": "c915cb25",
   "metadata": {},
   "outputs": [
    {
     "data": {
      "text/plain": [
       "15286"
      ]
     },
     "execution_count": 35,
     "metadata": {},
     "output_type": "execute_result"
    }
   ],
   "source": [
    "df_notfixed['project'].count()"
   ]
  },
  {
   "cell_type": "code",
   "execution_count": 36,
   "id": "3acfbbfe",
   "metadata": {},
   "outputs": [
    {
     "data": {
      "text/plain": [
       "945"
      ]
     },
     "execution_count": 36,
     "metadata": {},
     "output_type": "execute_result"
    }
   ],
   "source": [
    "df_unknown['project'].count()"
   ]
  },
  {
   "cell_type": "code",
   "execution_count": 37,
   "id": "6ba7933b",
   "metadata": {},
   "outputs": [
    {
     "data": {
      "text/plain": [
       "0.03023241919101392"
      ]
     },
     "execution_count": 37,
     "metadata": {},
     "output_type": "execute_result"
    }
   ],
   "source": [
    "df_fixed['project'].count() / (df_fixed['project'].count() + df_notfixed['project'].count() + df_unknown['project'].count())"
   ]
  },
  {
   "cell_type": "code",
   "execution_count": 48,
   "id": "c8bed2f7",
   "metadata": {},
   "outputs": [
    {
     "data": {
      "text/plain": [
       "0.913305849315887"
      ]
     },
     "execution_count": 48,
     "metadata": {},
     "output_type": "execute_result"
    }
   ],
   "source": [
    "df_notfixed['project'].count() / (df_fixed['project'].count() + df_notfixed['project'].count() + df_unknown['project'].count())"
   ]
  },
  {
   "cell_type": "markdown",
   "id": "48216d9b",
   "metadata": {},
   "source": [
    "__Answer__: only 3% of cloned vulnerabilities are fixed!! Over 90% of the cloned vulnerabilities are still present in the projects. "
   ]
  },
  {
   "cell_type": "markdown",
   "id": "884320dd",
   "metadata": {},
   "source": [
    "Looking at projects that have at least n = 50 commits"
   ]
  },
  {
   "cell_type": "code",
   "execution_count": 29,
   "id": "383769c9",
   "metadata": {},
   "outputs": [
    {
     "data": {
      "text/plain": [
       "count    3.320000e+02\n",
       "mean     6.885373e+04\n",
       "std      2.764007e+05\n",
       "min      1.000000e+00\n",
       "25%      6.000000e+00\n",
       "50%      6.400000e+01\n",
       "75%      3.312000e+03\n",
       "max      1.636988e+06\n",
       "Name: num commits, dtype: float64"
      ]
     },
     "execution_count": 29,
     "metadata": {},
     "output_type": "execute_result"
    }
   ],
   "source": [
    "df_fixed['num commits'] = pd.to_numeric(df_fixed['num commits'], errors='coerce')\n",
    "df_fixed['num commits'].describe()"
   ]
  },
  {
   "cell_type": "code",
   "execution_count": 30,
   "id": "ee09421d",
   "metadata": {},
   "outputs": [
    {
     "data": {
      "text/plain": [
       "count     13344.000000\n",
       "mean        293.949191\n",
       "std        9164.243465\n",
       "min           1.000000\n",
       "25%           2.000000\n",
       "50%           5.000000\n",
       "75%          18.000000\n",
       "max      515296.000000\n",
       "Name: num commits, dtype: float64"
      ]
     },
     "execution_count": 30,
     "metadata": {},
     "output_type": "execute_result"
    }
   ],
   "source": [
    "df_notfixed['num commits'] = pd.to_numeric(df_notfixed['num commits'], errors='coerce')\n",
    "df_notfixed['num commits'].describe()"
   ]
  },
  {
   "cell_type": "code",
   "execution_count": 31,
   "id": "5de3d1ba",
   "metadata": {},
   "outputs": [
    {
     "data": {
      "text/plain": [
       "count       575.000000\n",
       "mean       1361.092174\n",
       "std       11447.285187\n",
       "min           1.000000\n",
       "25%          10.500000\n",
       "50%          42.000000\n",
       "75%         203.000000\n",
       "max      261722.000000\n",
       "Name: num commits, dtype: float64"
      ]
     },
     "execution_count": 31,
     "metadata": {},
     "output_type": "execute_result"
    }
   ],
   "source": [
    "df_unknown['num commits'] = pd.to_numeric(df_unknown['num commits'], errors='coerce')\n",
    "df_unknown['num commits'].describe()"
   ]
  },
  {
   "cell_type": "code",
   "execution_count": 42,
   "id": "7dee3942",
   "metadata": {},
   "outputs": [],
   "source": []
  },
  {
   "cell_type": "code",
   "execution_count": 48,
   "id": "d1fad9cd",
   "metadata": {},
   "outputs": [],
   "source": [
    "def cal_percentages_min(n):\n",
    "    all_count = (df_fixed[df_fixed['num commits'] > n]['project'].count() + df_notfixed[df_notfixed['num commits'] > n]['project'].count() + df_unknown[df_unknown['num commits'] > n]['project'].count())\n",
    "    fixed_p = df_fixed[df_fixed['num commits'] > n]['project'].count() / all_count\n",
    "    notfixed_p = df_notfixed[df_notfixed['num commits'] > n]['project'].count() / all_count\n",
    "    unknown_p = df_unknown[df_unknown['num commits'] > n]['project'].count() / all_count\n",
    "    \n",
    "    return fixed_p, notfixed_p, unknown_p"
   ]
  },
  {
   "cell_type": "code",
   "execution_count": 49,
   "id": "e460c8a8",
   "metadata": {},
   "outputs": [
    {
     "data": {
      "text/plain": [
       "(0.08682782437099161, 0.777503700049334, 0.1356684755796744)"
      ]
     },
     "execution_count": 49,
     "metadata": {},
     "output_type": "execute_result"
    }
   ],
   "source": [
    "cal_percentages_min(50) # fixed, not fixed, uknown"
   ]
  },
  {
   "cell_type": "code",
   "execution_count": 50,
   "id": "36818ae1",
   "metadata": {},
   "outputs": [
    {
     "data": {
      "text/plain": [
       "(0.11910471622701839, 0.7026378896882494, 0.1782573940847322)"
      ]
     },
     "execution_count": 50,
     "metadata": {},
     "output_type": "execute_result"
    }
   ],
   "source": [
    "cal_percentages_min(100) # fixed, not fixed, uknown"
   ]
  },
  {
   "cell_type": "code",
   "execution_count": 51,
   "id": "c294ffeb",
   "metadata": {},
   "outputs": [
    {
     "data": {
      "text/plain": [
       "(0.1590909090909091, 0.6417112299465241, 0.19919786096256684)"
      ]
     },
     "execution_count": 51,
     "metadata": {},
     "output_type": "execute_result"
    }
   ],
   "source": [
    "cal_percentages_min(200) # fixed, not fixed, uknown"
   ]
  },
  {
   "cell_type": "code",
   "execution_count": 52,
   "id": "f5ab2135",
   "metadata": {},
   "outputs": [
    {
     "data": {
      "text/plain": [
       "(0.2058287795992714, 0.5774134790528234, 0.2167577413479053)"
      ]
     },
     "execution_count": 52,
     "metadata": {},
     "output_type": "execute_result"
    }
   ],
   "source": [
    "cal_percentages_min(300) # fixed, not fixed, uknown"
   ]
  },
  {
   "cell_type": "code",
   "execution_count": 53,
   "id": "3c3a3bbb",
   "metadata": {},
   "outputs": [
    {
     "data": {
      "text/plain": [
       "(0.23029045643153526, 0.549792531120332, 0.21991701244813278)"
      ]
     },
     "execution_count": 53,
     "metadata": {},
     "output_type": "execute_result"
    }
   ],
   "source": [
    "cal_percentages_min(400) # fixed, not fixed, uknown"
   ]
  },
  {
   "cell_type": "code",
   "execution_count": 54,
   "id": "d101f0ee",
   "metadata": {},
   "outputs": [
    {
     "data": {
      "text/plain": [
       "(0.25547445255474455, 0.5182481751824818, 0.22627737226277372)"
      ]
     },
     "execution_count": 54,
     "metadata": {},
     "output_type": "execute_result"
    }
   ],
   "source": [
    "cal_percentages_min(500) # fixed, not fixed, uknown"
   ]
  },
  {
   "cell_type": "code",
   "execution_count": 55,
   "id": "a619096a",
   "metadata": {},
   "outputs": [
    {
     "data": {
      "text/plain": [
       "(0.2708333333333333, 0.5078125, 0.22135416666666666)"
      ]
     },
     "execution_count": 55,
     "metadata": {},
     "output_type": "execute_result"
    }
   ],
   "source": [
    "cal_percentages_min(600) # fixed, not fixed, uknown"
   ]
  },
  {
   "cell_type": "code",
   "execution_count": 56,
   "id": "800875b1",
   "metadata": {},
   "outputs": [
    {
     "data": {
      "text/plain": [
       "(0.29178470254957506, 0.47592067988668557, 0.23229461756373937)"
      ]
     },
     "execution_count": 56,
     "metadata": {},
     "output_type": "execute_result"
    }
   ],
   "source": [
    "cal_percentages_min(700) # fixed, not fixed, uknown"
   ]
  },
  {
   "cell_type": "code",
   "execution_count": 57,
   "id": "a326e3eb",
   "metadata": {},
   "outputs": [
    {
     "data": {
      "text/plain": [
       "(0.29464285714285715, 0.46726190476190477, 0.23809523809523808)"
      ]
     },
     "execution_count": 57,
     "metadata": {},
     "output_type": "execute_result"
    }
   ],
   "source": [
    "cal_percentages_min(800) # fixed, not fixed, uknown"
   ]
  },
  {
   "cell_type": "code",
   "execution_count": 59,
   "id": "c995c56c",
   "metadata": {},
   "outputs": [
    {
     "data": {
      "text/plain": [
       "(0.2950310559006211, 0.46273291925465837, 0.2422360248447205)"
      ]
     },
     "execution_count": 59,
     "metadata": {},
     "output_type": "execute_result"
    }
   ],
   "source": [
    "cal_percentages_min(900) # fixed, not fixed, uknown"
   ]
  },
  {
   "cell_type": "code",
   "execution_count": 60,
   "id": "456da4e3",
   "metadata": {},
   "outputs": [
    {
     "data": {
      "text/plain": [
       "(0.31864406779661014, 0.45084745762711864, 0.2305084745762712)"
      ]
     },
     "execution_count": 60,
     "metadata": {},
     "output_type": "execute_result"
    }
   ],
   "source": [
    "cal_percentages_min(1000) # fixed, not fixed, uknown"
   ]
  },
  {
   "cell_type": "markdown",
   "id": "c1d21ad3",
   "metadata": {},
   "source": []
  },
  {
   "cell_type": "markdown",
   "id": "175e2caa",
   "metadata": {},
   "source": [
    "## RQ3: How long does it take to fix a cloned vulnerability?"
   ]
  },
  {
   "cell_type": "code",
   "execution_count": 58,
   "id": "5bc88ffd",
   "metadata": {},
   "outputs": [
    {
     "data": {
      "text/plain": [
       "{'bodies': [<matplotlib.collections.PolyCollection at 0x139c3c790>],\n",
       " 'cmaxes': <matplotlib.collections.LineCollection at 0x11b4443d0>,\n",
       " 'cmins': <matplotlib.collections.LineCollection at 0x139c3cd60>,\n",
       " 'cbars': <matplotlib.collections.LineCollection at 0x139c3d0c0>}"
      ]
     },
     "execution_count": 58,
     "metadata": {},
     "output_type": "execute_result"
    },
    {
     "data": {
      "image/png": "[encoded data removed]",
      "text/plain": [
       "<Figure size 432x288 with 1 Axes>"
      ]
     },
     "metadata": {
      "needs_background": "light"
     },
     "output_type": "display_data"
    }
   ],
   "source": [
    "import matplotlib.pyplot as plt\n",
    "import numpy as np\n",
    "\n",
    "plt.violinplot(np.asarray(df_fixed[~np.isnan(df_fixed['diff_fix_intro'])]['diff_fix_intro']))"
   ]
  },
  {
   "cell_type": "code",
   "execution_count": 60,
   "id": "4954912f",
   "metadata": {},
   "outputs": [
    {
     "data": {
      "text/plain": [
       "count     502.000000\n",
       "mean      532.111554\n",
       "std      1083.947185\n",
       "min      -493.000000\n",
       "25%         0.000000\n",
       "50%         7.500000\n",
       "75%       506.000000\n",
       "max      7784.000000\n",
       "Name: diff_fix_intro, dtype: float64"
      ]
     },
     "execution_count": 60,
     "metadata": {},
     "output_type": "execute_result"
    }
   ],
   "source": [
    "df_fixed['diff_fix_intro'].describe()"
   ]
  },
  {
   "cell_type": "code",
   "execution_count": 64,
   "id": "069900cb",
   "metadata": {},
   "outputs": [
    {
     "data": {
      "text/plain": [
       "count     16.000000\n",
       "mean     -63.500000\n",
       "std      133.132015\n",
       "min     -493.000000\n",
       "25%      -30.000000\n",
       "50%      -17.000000\n",
       "75%       -2.000000\n",
       "max       -1.000000\n",
       "Name: diff_fix_intro, dtype: float64"
      ]
     },
     "execution_count": 64,
     "metadata": {},
     "output_type": "execute_result"
    }
   ],
   "source": [
    "df_fixed[df_fixed['diff_fix_intro'] < 0]['diff_fix_intro'].describe()"
   ]
  },
  {
   "cell_type": "markdown",
   "id": "c1805b22",
   "metadata": {},
   "source": [
    "__Answer__: 50% of the cloned vulnerabilities that are fixed are fixed within a week (approximately). 75% of cloned vulnerabilities are fixed within two years. \n",
    "\n",
    "16 (~3%) of the cloned vulnerabilities are fixed before they were introduced. 50% of them less than 17 days after the vulnerability was fixed. "
   ]
  },
  {
   "cell_type": "markdown",
   "id": "6310cfa2",
   "metadata": {},
   "source": [
    "## RQ4: What are the characteristics of projects that have cloned vulnerabilities? Popularity, etc."
   ]
  },
  {
   "cell_type": "markdown",
   "id": "ababa35d",
   "metadata": {},
   "source": [
    "## RQ5: What are the characteristics of projects that fix cloned vulnerabilities?"
   ]
  },
  {
   "cell_type": "markdown",
   "id": "b9d1c500",
   "metadata": {},
   "source": [
    "# what we could add\n",
    "\n",
    "* language\n",
    "* number of contributors\n",
    "* date of last commit\n",
    "* number of commits (we have this)\n",
    "* use file ending as language and see if there is any difference in vulnerabilities\n",
    "* next: do analysis based on num of commits and languages"
   ]
  },
  {
   "cell_type": "code",
   "execution_count": 1,
   "id": "a6ba3203",
   "metadata": {},
   "outputs": [],
   "source": [
    "import pandas as pd"
   ]
  },
  {
   "cell_type": "code",
   "execution_count": 2,
   "id": "69d5952d",
   "metadata": {},
   "outputs": [
    {
     "name": "stderr",
     "output_type": "stream",
     "text": [
      "/var/folders/6w/7bbpdns15f3_lz9dcrprnwm80000gn/T/ipykernel_4563/240278595.py:1: ParserWarning: Falling back to the 'python' engine because the 'c' engine does not support regex separators (separators > 1 char and different from '\\s+' are interpreted as regex); you can avoid this warning by specifying engine='python'.\n",
      "  df = pd.read_csv(\"../kjd-tmp/out.10.8.cve100/final_report.csv\", sep=\",|:\", header=None)\n"
     ]
    },
    {
     "data": {
      "text/html": [
       "<div>\n",
       "<style scoped>\n",
       "    .dataframe tbody tr th:only-of-type {\n",
       "        vertical-align: middle;\n",
       "    }\n",
       "\n",
       "    .dataframe tbody tr th {\n",
       "        vertical-align: top;\n",
       "    }\n",
       "\n",
       "    .dataframe thead th {\n",
       "        text-align: right;\n",
       "    }\n",
       "</style>\n",
       "<table border=\"1\" class=\"dataframe\">\n",
       "  <thead>\n",
       "    <tr style=\"text-align: right;\">\n",
       "      <th></th>\n",
       "      <th>CVE</th>\n",
       "      <th>ProjectUrl</th>\n",
       "      <th>Project</th>\n",
       "      <th>Path</th>\n",
       "      <th>status</th>\n",
       "      <th>1stBadBlob</th>\n",
       "      <th>1stBadTime</th>\n",
       "      <th>1stGoodBlob</th>\n",
       "      <th>1stGoodTime</th>\n",
       "      <th>TimeSinceFix</th>\n",
       "      <th>...</th>\n",
       "      <th>NumActiveMon</th>\n",
       "      <th>RootFork</th>\n",
       "      <th>00</th>\n",
       "      <th>NumStars</th>\n",
       "      <th>NumCore</th>\n",
       "      <th>CommunitySize</th>\n",
       "      <th>NumCommits</th>\n",
       "      <th>NumForks</th>\n",
       "      <th>NumAuthors</th>\n",
       "      <th>FileInfo</th>\n",
       "    </tr>\n",
       "  </thead>\n",
       "  <tbody>\n",
       "    <tr>\n",
       "      <th>0</th>\n",
       "      <td>CVE-2007-6761</td>\n",
       "      <td>github.com/broftkd/linux-history-repo</td>\n",
       "      <td>broftkd_linux-history-repo</td>\n",
       "      <td>NaN</td>\n",
       "      <td>fixed</td>\n",
       "      <td>02e3ae7532e6e7f0b71c048fd2ee642053a57f6a</td>\n",
       "      <td>9.591309e+08</td>\n",
       "      <td>00d5a62131d638503d102812092b7bfb7ddc4986</td>\n",
       "      <td>959130900</td>\n",
       "      <td>-2757</td>\n",
       "      <td>...</td>\n",
       "      <td>1</td>\n",
       "      <td>2020-06-26 20</td>\n",
       "      <td>34</td>\n",
       "      <td>2</td>\n",
       "      <td>611</td>\n",
       "      <td>2</td>\n",
       "      <td>179968</td>\n",
       "      <td>0</td>\n",
       "      <td>6913</td>\n",
       "      <td>C/C++</td>\n",
       "    </tr>\n",
       "    <tr>\n",
       "      <th>1</th>\n",
       "      <td>CVE-2007-6761</td>\n",
       "      <td>github.com/illacceptanything/illacceptanything</td>\n",
       "      <td>illacceptanything_illacceptanything</td>\n",
       "      <td>NaN</td>\n",
       "      <td>fixed</td>\n",
       "      <td>87b9ad070cf76c0f1e8cf836f7eb86e9ac94e34a</td>\n",
       "      <td>1.191979e+09</td>\n",
       "      <td>0b29669c065f60501e7289e1950fa2a618962358</td>\n",
       "      <td>1197403702</td>\n",
       "      <td>0</td>\n",
       "      <td>...</td>\n",
       "      <td>698</td>\n",
       "      <td>rails_rails</td>\n",
       "      <td>63040</td>\n",
       "      <td>749</td>\n",
       "      <td>23892</td>\n",
       "      <td>673525</td>\n",
       "      <td>25343</td>\n",
       "      <td>20186</td>\n",
       "      <td>C/C++</td>\n",
       "      <td>None</td>\n",
       "    </tr>\n",
       "    <tr>\n",
       "      <th>2</th>\n",
       "      <td>CVE-2007-6761</td>\n",
       "      <td>github.com/Jackeagle/kernel_msm-3.18</td>\n",
       "      <td>Jackeagle_kernel_msm-3.18</td>\n",
       "      <td>NaN</td>\n",
       "      <td>fixed</td>\n",
       "      <td>9734a33f9db52125e6df589615007a0a606d2dfa</td>\n",
       "      <td>1.191974e+09</td>\n",
       "      <td>0b29669c065f60501e7289e1950fa2a618962358</td>\n",
       "      <td>1197403702</td>\n",
       "      <td>0</td>\n",
       "      <td>...</td>\n",
       "      <td>364</td>\n",
       "      <td>torvalds_linux</td>\n",
       "      <td>201441</td>\n",
       "      <td>3769</td>\n",
       "      <td>112489</td>\n",
       "      <td>36468389</td>\n",
       "      <td>237104</td>\n",
       "      <td>109725</td>\n",
       "      <td>C/C++</td>\n",
       "      <td>None</td>\n",
       "    </tr>\n",
       "    <tr>\n",
       "      <th>3</th>\n",
       "      <td>CVE-2007-6761</td>\n",
       "      <td>github.com/spiderworthy/linux</td>\n",
       "      <td>spiderworthy_linux</td>\n",
       "      <td>NaN</td>\n",
       "      <td>fixed</td>\n",
       "      <td>0b4745b6e0a6a0ab13522e28464a527929c12783</td>\n",
       "      <td>1.044304e+09</td>\n",
       "      <td>48b3e3e1d34c859e47cf156da06d06438ac6440c</td>\n",
       "      <td>1044305295</td>\n",
       "      <td>-1771</td>\n",
       "      <td>...</td>\n",
       "      <td>2</td>\n",
       "      <td>-</td>\n",
       "      <td>-</td>\n",
       "      <td>1</td>\n",
       "      <td>1</td>\n",
       "      <td>495786</td>\n",
       "      <td>0</td>\n",
       "      <td>1</td>\n",
       "      <td>C/C++</td>\n",
       "      <td>None</td>\n",
       "    </tr>\n",
       "    <tr>\n",
       "      <th>4</th>\n",
       "      <td>CVE-2007-6761</td>\n",
       "      <td>github.com/ZIDAN44/linux-stable</td>\n",
       "      <td>ZIDAN44_linux-stable</td>\n",
       "      <td>NaN</td>\n",
       "      <td>fixed</td>\n",
       "      <td>7a6b37df3acc3540007ef5420f7e8e7692eb7d2b</td>\n",
       "      <td>1.191979e+09</td>\n",
       "      <td>9fd15959ccd7d05d51eaf1c0a9f028fa178167ec</td>\n",
       "      <td>1197403702</td>\n",
       "      <td>0</td>\n",
       "      <td>...</td>\n",
       "      <td>132</td>\n",
       "      <td>-</td>\n",
       "      <td>-</td>\n",
       "      <td>-</td>\n",
       "      <td>1</td>\n",
       "      <td>381506</td>\n",
       "      <td>0</td>\n",
       "      <td>-</td>\n",
       "      <td>C/C++</td>\n",
       "      <td>None</td>\n",
       "    </tr>\n",
       "    <tr>\n",
       "      <th>...</th>\n",
       "      <td>...</td>\n",
       "      <td>...</td>\n",
       "      <td>...</td>\n",
       "      <td>...</td>\n",
       "      <td>...</td>\n",
       "      <td>...</td>\n",
       "      <td>...</td>\n",
       "      <td>...</td>\n",
       "      <td>...</td>\n",
       "      <td>...</td>\n",
       "      <td>...</td>\n",
       "      <td>...</td>\n",
       "      <td>...</td>\n",
       "      <td>...</td>\n",
       "      <td>...</td>\n",
       "      <td>...</td>\n",
       "      <td>...</td>\n",
       "      <td>...</td>\n",
       "      <td>...</td>\n",
       "      <td>...</td>\n",
       "      <td>...</td>\n",
       "    </tr>\n",
       "    <tr>\n",
       "      <th>96255</th>\n",
       "      <td>CVE-2012-0207</td>\n",
       "      <td>github.com/zarboz/toasty_personal</td>\n",
       "      <td>zarboz_toasty_personal</td>\n",
       "      <td>net/ipv4/igmp.c</td>\n",
       "      <td>unknown</td>\n",
       "      <td>1637fcc7a15eed737519894bee83cea946427774</td>\n",
       "      <td>1.352580e+09</td>\n",
       "      <td>NaN</td>\n",
       "      <td>TimeSinceFix</td>\n",
       "      <td>TimeSinceFixF</td>\n",
       "      <td>...</td>\n",
       "      <td>-</td>\n",
       "      <td>-</td>\n",
       "      <td>1</td>\n",
       "      <td>1</td>\n",
       "      <td>101</td>\n",
       "      <td>0</td>\n",
       "      <td>2</td>\n",
       "      <td>C/C++</td>\n",
       "      <td>None</td>\n",
       "      <td>None</td>\n",
       "    </tr>\n",
       "    <tr>\n",
       "      <th>96256</th>\n",
       "      <td>CVE-2012-0207</td>\n",
       "      <td>github.com/zarboz/Ville-Z_Blackout_edition</td>\n",
       "      <td>zarboz_Ville-Z_Blackout_edition</td>\n",
       "      <td>net/ipv4/igmp.c</td>\n",
       "      <td>unknown</td>\n",
       "      <td>c96f7a85a1220b870c5abe9fbc7ae97b5e693e97</td>\n",
       "      <td>1.350878e+09</td>\n",
       "      <td>NaN</td>\n",
       "      <td>TimeSinceFix</td>\n",
       "      <td>TimeSinceFixF</td>\n",
       "      <td>...</td>\n",
       "      <td>zarboz_Ville-Z_Blackout_edition</td>\n",
       "      <td>-</td>\n",
       "      <td>3</td>\n",
       "      <td>6</td>\n",
       "      <td>196</td>\n",
       "      <td>1</td>\n",
       "      <td>24</td>\n",
       "      <td>C/C++</td>\n",
       "      <td>None</td>\n",
       "      <td>None</td>\n",
       "    </tr>\n",
       "    <tr>\n",
       "      <th>96257</th>\n",
       "      <td>CVE-2012-0207</td>\n",
       "      <td>github.com/zaventh/kernel_sgh-t999</td>\n",
       "      <td>zaventh_kernel_sgh-t999</td>\n",
       "      <td>net/ipv4/igmp.c</td>\n",
       "      <td>unknown</td>\n",
       "      <td>b964e9f401545d740579f430c1209763ae3ed5d0</td>\n",
       "      <td>1.340934e+09</td>\n",
       "      <td>NaN</td>\n",
       "      <td>TimeSinceFix</td>\n",
       "      <td>TimeSinceFixF</td>\n",
       "      <td>...</td>\n",
       "      <td>-</td>\n",
       "      <td>-</td>\n",
       "      <td>3</td>\n",
       "      <td>2</td>\n",
       "      <td>62</td>\n",
       "      <td>0</td>\n",
       "      <td>7</td>\n",
       "      <td>C/C++</td>\n",
       "      <td>None</td>\n",
       "      <td>None</td>\n",
       "    </tr>\n",
       "    <tr>\n",
       "      <th>96258</th>\n",
       "      <td>CVE-2012-0207</td>\n",
       "      <td>github.com/ziozzang/rhel6-kernel</td>\n",
       "      <td>ziozzang_rhel6-kernel</td>\n",
       "      <td>kernel/net/ipv4/igmp.c</td>\n",
       "      <td>unknown</td>\n",
       "      <td>36fc31f7ece25d4f8ccf6a3d2ec7d7541eafa2fd</td>\n",
       "      <td>1.361136e+09</td>\n",
       "      <td>NaN</td>\n",
       "      <td>TimeSinceFix</td>\n",
       "      <td>TimeSinceFixF</td>\n",
       "      <td>...</td>\n",
       "      <td>cybernet_rhel6-kernel</td>\n",
       "      <td>3</td>\n",
       "      <td>1</td>\n",
       "      <td>5</td>\n",
       "      <td>204</td>\n",
       "      <td>2</td>\n",
       "      <td>2</td>\n",
       "      <td>C/C++</td>\n",
       "      <td>None</td>\n",
       "      <td>None</td>\n",
       "    </tr>\n",
       "    <tr>\n",
       "      <th>96259</th>\n",
       "      <td>CVE-2012-0207</td>\n",
       "      <td>github.com/zyr3x/android_kernel_huawei_hws7300u</td>\n",
       "      <td>zyr3x_android_kernel_huawei_hws7300u</td>\n",
       "      <td>net/ipv4/igmp.c</td>\n",
       "      <td>unknown</td>\n",
       "      <td>a7e7705387412b816afb66817ff6bd8eceb3fe6a</td>\n",
       "      <td>1.342970e+09</td>\n",
       "      <td>NaN</td>\n",
       "      <td>TimeSinceFix</td>\n",
       "      <td>TimeSinceFixF</td>\n",
       "      <td>...</td>\n",
       "      <td>aftersilence_android_kernel_huawei_hws7300u</td>\n",
       "      <td>14</td>\n",
       "      <td>250</td>\n",
       "      <td>28</td>\n",
       "      <td>4581</td>\n",
       "      <td>22</td>\n",
       "      <td>678</td>\n",
       "      <td>C/C++</td>\n",
       "      <td>None</td>\n",
       "      <td>None</td>\n",
       "    </tr>\n",
       "  </tbody>\n",
       "</table>\n",
       "<p>96260 rows × 26 columns</p>\n",
       "</div>"
      ],
      "text/plain": [
       "                 CVE                                       ProjectUrl  \\\n",
       "0      CVE-2007-6761            github.com/broftkd/linux-history-repo   \n",
       "1      CVE-2007-6761   github.com/illacceptanything/illacceptanything   \n",
       "2      CVE-2007-6761             github.com/Jackeagle/kernel_msm-3.18   \n",
       "3      CVE-2007-6761                    github.com/spiderworthy/linux   \n",
       "4      CVE-2007-6761                  github.com/ZIDAN44/linux-stable   \n",
       "...              ...                                              ...   \n",
       "96255  CVE-2012-0207                github.com/zarboz/toasty_personal   \n",
       "96256  CVE-2012-0207       github.com/zarboz/Ville-Z_Blackout_edition   \n",
       "96257  CVE-2012-0207               github.com/zaventh/kernel_sgh-t999   \n",
       "96258  CVE-2012-0207                 github.com/ziozzang/rhel6-kernel   \n",
       "96259  CVE-2012-0207  github.com/zyr3x/android_kernel_huawei_hws7300u   \n",
       "\n",
       "                                    Project                    Path   status  \\\n",
       "0                broftkd_linux-history-repo                     NaN    fixed   \n",
       "1       illacceptanything_illacceptanything                     NaN    fixed   \n",
       "2                 Jackeagle_kernel_msm-3.18                     NaN    fixed   \n",
       "3                        spiderworthy_linux                     NaN    fixed   \n",
       "4                      ZIDAN44_linux-stable                     NaN    fixed   \n",
       "...                                     ...                     ...      ...   \n",
       "96255                zarboz_toasty_personal         net/ipv4/igmp.c  unknown   \n",
       "96256       zarboz_Ville-Z_Blackout_edition         net/ipv4/igmp.c  unknown   \n",
       "96257               zaventh_kernel_sgh-t999         net/ipv4/igmp.c  unknown   \n",
       "96258                 ziozzang_rhel6-kernel  kernel/net/ipv4/igmp.c  unknown   \n",
       "96259  zyr3x_android_kernel_huawei_hws7300u         net/ipv4/igmp.c  unknown   \n",
       "\n",
       "                                     1stBadBlob    1stBadTime  \\\n",
       "0      02e3ae7532e6e7f0b71c048fd2ee642053a57f6a  9.591309e+08   \n",
       "1      87b9ad070cf76c0f1e8cf836f7eb86e9ac94e34a  1.191979e+09   \n",
       "2      9734a33f9db52125e6df589615007a0a606d2dfa  1.191974e+09   \n",
       "3      0b4745b6e0a6a0ab13522e28464a527929c12783  1.044304e+09   \n",
       "4      7a6b37df3acc3540007ef5420f7e8e7692eb7d2b  1.191979e+09   \n",
       "...                                         ...           ...   \n",
       "96255  1637fcc7a15eed737519894bee83cea946427774  1.352580e+09   \n",
       "96256  c96f7a85a1220b870c5abe9fbc7ae97b5e693e97  1.350878e+09   \n",
       "96257  b964e9f401545d740579f430c1209763ae3ed5d0  1.340934e+09   \n",
       "96258  36fc31f7ece25d4f8ccf6a3d2ec7d7541eafa2fd  1.361136e+09   \n",
       "96259  a7e7705387412b816afb66817ff6bd8eceb3fe6a  1.342970e+09   \n",
       "\n",
       "                                    1stGoodBlob    1stGoodTime  \\\n",
       "0      00d5a62131d638503d102812092b7bfb7ddc4986      959130900   \n",
       "1      0b29669c065f60501e7289e1950fa2a618962358     1197403702   \n",
       "2      0b29669c065f60501e7289e1950fa2a618962358     1197403702   \n",
       "3      48b3e3e1d34c859e47cf156da06d06438ac6440c     1044305295   \n",
       "4      9fd15959ccd7d05d51eaf1c0a9f028fa178167ec     1197403702   \n",
       "...                                         ...            ...   \n",
       "96255                                       NaN   TimeSinceFix   \n",
       "96256                                       NaN   TimeSinceFix   \n",
       "96257                                       NaN   TimeSinceFix   \n",
       "96258                                       NaN   TimeSinceFix   \n",
       "96259                                       NaN   TimeSinceFix   \n",
       "\n",
       "         TimeSinceFix  ...                                 NumActiveMon  \\\n",
       "0               -2757  ...                                            1   \n",
       "1                   0  ...                                          698   \n",
       "2                   0  ...                                          364   \n",
       "3               -1771  ...                                            2   \n",
       "4                   0  ...                                          132   \n",
       "...               ...  ...                                          ...   \n",
       "96255   TimeSinceFixF  ...                                            -   \n",
       "96256   TimeSinceFixF  ...              zarboz_Ville-Z_Blackout_edition   \n",
       "96257   TimeSinceFixF  ...                                            -   \n",
       "96258   TimeSinceFixF  ...                        cybernet_rhel6-kernel   \n",
       "96259   TimeSinceFixF  ...  aftersilence_android_kernel_huawei_hws7300u   \n",
       "\n",
       "             RootFork      00  NumStars   NumCore   CommunitySize  NumCommits  \\\n",
       "0       2020-06-26 20      34         2       611               2      179968   \n",
       "1         rails_rails   63040       749     23892          673525       25343   \n",
       "2      torvalds_linux  201441      3769    112489        36468389      237104   \n",
       "3                   -       -         1         1          495786           0   \n",
       "4                   -       -         -         1          381506           0   \n",
       "...               ...     ...       ...       ...             ...         ...   \n",
       "96255               -       1         1       101               0           2   \n",
       "96256               -       3         6       196               1          24   \n",
       "96257               -       3         2        62               0           7   \n",
       "96258               3       1         5       204               2           2   \n",
       "96259              14     250        28      4581              22         678   \n",
       "\n",
       "       NumForks  NumAuthors  FileInfo  \n",
       "0             0        6913     C/C++  \n",
       "1         20186       C/C++      None  \n",
       "2        109725       C/C++      None  \n",
       "3             1       C/C++      None  \n",
       "4             -       C/C++      None  \n",
       "...         ...         ...       ...  \n",
       "96255     C/C++        None      None  \n",
       "96256     C/C++        None      None  \n",
       "96257     C/C++        None      None  \n",
       "96258     C/C++        None      None  \n",
       "96259     C/C++        None      None  \n",
       "\n",
       "[96260 rows x 26 columns]"
      ]
     },
     "execution_count": 2,
     "metadata": {},
     "output_type": "execute_result"
    }
   ],
   "source": [
    "df = pd.read_csv(\"../kjd-tmp/out.10.8.cve100/final_report.csv\", sep=\",|:\", header=None)\n",
    "df2 = df.iloc[:,1::2]\n",
    "df2.columns = list(df.iloc[0,0::2])\n",
    "df2"
   ]
  },
  {
   "cell_type": "markdown",
   "id": "1421aceb",
   "metadata": {},
   "source": [
    "# Reading in data"
   ]
  },
  {
   "cell_type": "code",
   "execution_count": 5,
   "id": "36df0016",
   "metadata": {},
   "outputs": [],
   "source": [
    "import pandas as pd"
   ]
  },
  {
   "cell_type": "code",
   "execution_count": 2,
   "id": "742181a1",
   "metadata": {},
   "outputs": [],
   "source": [
    "file = open(\"../kjd-tmp/out.10.8.cve100/final_report.csv\", \"r\")\n",
    "\n",
    "keys = []\n",
    "\n",
    "for line in file:\n",
    "    parts = line.split(\",\")\n",
    "    \n",
    "    for part in parts:\n",
    "        pair = part.split(\":\")\n",
    "        if len(pair) != 2:\n",
    "            continue\n",
    "        keys.append(pair[0])\n",
    "        "
   ]
  },
  {
   "cell_type": "raw",
   "id": "f56a5d14",
   "metadata": {},
   "source": [
    "def append_row(df, row):\n",
    "    return pd.concat([\n",
    "                df, \n",
    "                pd.DataFrame([row], columns=row.index)]\n",
    "           )"
   ]
  },
  {
   "cell_type": "raw",
   "id": "c440eeb7",
   "metadata": {},
   "source": [
    "keys = list(dict.fromkeys(keys))\n",
    "df = pd.DataFrame(columns=keys)\n",
    "\n",
    "file.seek(0)\n",
    "for line in file:\n",
    "    parts = line.split(\",\")\n",
    "    res = {}\n",
    "    \n",
    "    for part in parts:\n",
    "        pair = part.split(\":\")\n",
    "        if len(pair) != 2:\n",
    "            continue\n",
    "            \n",
    "        key = pair[0]\n",
    "        res[key] = pair[1]\n",
    "        \n",
    "    df = append_row(df, pd.Series(res))\n",
    "    \n",
    "df.reset_index(drop=True)"
   ]
  },
  {
   "cell_type": "code",
   "execution_count": 19,
   "id": "11c28c0b",
   "metadata": {},
   "outputs": [],
   "source": [
    "def getCSVLine(keys,row):\n",
    "    txt = \"\"\n",
    "    for key in keys: \n",
    "        txt = f\"{txt}{row[key].strip()},\"\n",
    "    txt = txt[:-1]\n",
    "    txt = txt + \"\\n\"\n",
    "    return txt"
   ]
  },
  {
   "cell_type": "code",
   "execution_count": null,
   "id": "ef8cebaf",
   "metadata": {},
   "outputs": [],
   "source": []
  },
  {
   "cell_type": "code",
   "execution_count": 24,
   "id": "4f156536",
   "metadata": {},
   "outputs": [],
   "source": [
    "file.seek(0)\n",
    "count = 0\n",
    "\n",
    "out_file = open(\"output.csv\", \"w\")\n",
    "\n",
    "txt = \"\"\n",
    "for key in keys: \n",
    "    txt = f\"{txt}{key.strip()},\"\n",
    "txt = txt[:-1]\n",
    "txt = txt + \"\\n\"\n",
    "out_file.write(txt)\n",
    "\n",
    "for line in file:\n",
    "    count = count + 1\n",
    "    parts = line.split(\",\")\n",
    "    res = {}\n",
    "    covered = {}\n",
    "    \n",
    "    for key in keys: \n",
    "        covered[key] = False\n",
    "    \n",
    "    #if count > 10:\n",
    "    #    break\n",
    "    \n",
    "    for part in parts:\n",
    "        pair = part.split(\":\")\n",
    "        if len(pair) != 2:\n",
    "            continue\n",
    "            \n",
    "        key = pair[0]\n",
    "        res[key] = pair[1]\n",
    "        covered[key] = True\n",
    "        \n",
    "    for key in covered:\n",
    "        if covered[key] == False:\n",
    "            res[key] = \"\"\n",
    "        \n",
    "    csvLine = getCSVLine(keys, res)\n",
    "    out_file.write(csvLine)\n",
    "\n",
    "out_file.close()"
   ]
  },
  {
   "cell_type": "code",
   "execution_count": 25,
   "id": "60c24bdf",
   "metadata": {},
   "outputs": [],
   "source": [
    "df = pd.read_csv(\"output.csv\")"
   ]
  },
  {
   "cell_type": "code",
   "execution_count": 27,
   "id": "69f9b845",
   "metadata": {},
   "outputs": [
    {
     "data": {
      "text/html": [
       "<div>\n",
       "<style scoped>\n",
       "    .dataframe tbody tr th:only-of-type {\n",
       "        vertical-align: middle;\n",
       "    }\n",
       "\n",
       "    .dataframe tbody tr th {\n",
       "        vertical-align: top;\n",
       "    }\n",
       "\n",
       "    .dataframe thead th {\n",
       "        text-align: right;\n",
       "    }\n",
       "</style>\n",
       "<table border=\"1\" class=\"dataframe\">\n",
       "  <thead>\n",
       "    <tr style=\"text-align: right;\">\n",
       "      <th></th>\n",
       "      <th>CVE</th>\n",
       "      <th>ProjectUrl</th>\n",
       "      <th>Project</th>\n",
       "      <th>Path</th>\n",
       "      <th>status</th>\n",
       "      <th>1stBadBlob</th>\n",
       "      <th>1stBadTime</th>\n",
       "      <th>1stGoodBlob</th>\n",
       "      <th>1stGoodTime</th>\n",
       "      <th>TimeSinceFix</th>\n",
       "      <th>...</th>\n",
       "      <th>EarliestCommitDate</th>\n",
       "      <th>LatestCommitDate</th>\n",
       "      <th>NumActiveMon</th>\n",
       "      <th>NumStars</th>\n",
       "      <th>NumCore</th>\n",
       "      <th>CommunitySize</th>\n",
       "      <th>NumCommits</th>\n",
       "      <th>NumForks</th>\n",
       "      <th>FileInfo</th>\n",
       "      <th>RootFork</th>\n",
       "    </tr>\n",
       "  </thead>\n",
       "  <tbody>\n",
       "    <tr>\n",
       "      <th>0</th>\n",
       "      <td>CVE-2007-6761</td>\n",
       "      <td>github.com/broftkd/linux-history-repo</td>\n",
       "      <td>broftkd_linux-history-repo</td>\n",
       "      <td>NaN</td>\n",
       "      <td>fixed</td>\n",
       "      <td>02e3ae7532e6e7f0b71c048fd2ee642053a57f6a</td>\n",
       "      <td>9.591309e+08</td>\n",
       "      <td>00d5a62131d638503d102812092b7bfb7ddc4986</td>\n",
       "      <td>9.591309e+08</td>\n",
       "      <td>-2757.0</td>\n",
       "      <td>...</td>\n",
       "      <td>9.591309e+08</td>\n",
       "      <td>9.591309e+08</td>\n",
       "      <td>1.0</td>\n",
       "      <td>2</td>\n",
       "      <td>611</td>\n",
       "      <td>2.0</td>\n",
       "      <td>179968</td>\n",
       "      <td>0.0</td>\n",
       "      <td>C/C++</td>\n",
       "      <td>NaN</td>\n",
       "    </tr>\n",
       "    <tr>\n",
       "      <th>1</th>\n",
       "      <td>CVE-2007-6761</td>\n",
       "      <td>github.com/illacceptanything/illacceptanything</td>\n",
       "      <td>illacceptanything_illacceptanything</td>\n",
       "      <td>NaN</td>\n",
       "      <td>fixed</td>\n",
       "      <td>87b9ad070cf76c0f1e8cf836f7eb86e9ac94e34a</td>\n",
       "      <td>1.191979e+09</td>\n",
       "      <td>0b29669c065f60501e7289e1950fa2a618962358</td>\n",
       "      <td>1.197404e+09</td>\n",
       "      <td>0.0</td>\n",
       "      <td>...</td>\n",
       "      <td>3.153735e+08</td>\n",
       "      <td>2.147472e+09</td>\n",
       "      <td>698.0</td>\n",
       "      <td>63040</td>\n",
       "      <td>749</td>\n",
       "      <td>23892.0</td>\n",
       "      <td>673525</td>\n",
       "      <td>25343.0</td>\n",
       "      <td>C/C++</td>\n",
       "      <td>rails_rails</td>\n",
       "    </tr>\n",
       "    <tr>\n",
       "      <th>2</th>\n",
       "      <td>CVE-2007-6761</td>\n",
       "      <td>github.com/Jackeagle/kernel_msm-3.18</td>\n",
       "      <td>Jackeagle_kernel_msm-3.18</td>\n",
       "      <td>NaN</td>\n",
       "      <td>fixed</td>\n",
       "      <td>9734a33f9db52125e6df589615007a0a606d2dfa</td>\n",
       "      <td>1.191974e+09</td>\n",
       "      <td>0b29669c065f60501e7289e1950fa2a618962358</td>\n",
       "      <td>1.197404e+09</td>\n",
       "      <td>0.0</td>\n",
       "      <td>...</td>\n",
       "      <td>5.683654e+08</td>\n",
       "      <td>3.643718e+09</td>\n",
       "      <td>364.0</td>\n",
       "      <td>201441</td>\n",
       "      <td>3769</td>\n",
       "      <td>112489.0</td>\n",
       "      <td>36468389</td>\n",
       "      <td>237104.0</td>\n",
       "      <td>C/C++</td>\n",
       "      <td>torvalds_linux</td>\n",
       "    </tr>\n",
       "    <tr>\n",
       "      <th>3</th>\n",
       "      <td>CVE-2007-6761</td>\n",
       "      <td>github.com/spiderworthy/linux</td>\n",
       "      <td>spiderworthy_linux</td>\n",
       "      <td>NaN</td>\n",
       "      <td>fixed</td>\n",
       "      <td>0b4745b6e0a6a0ab13522e28464a527929c12783</td>\n",
       "      <td>1.044304e+09</td>\n",
       "      <td>48b3e3e1d34c859e47cf156da06d06438ac6440c</td>\n",
       "      <td>1.044305e+09</td>\n",
       "      <td>-1771.0</td>\n",
       "      <td>...</td>\n",
       "      <td>1.044298e+09</td>\n",
       "      <td>1.423077e+09</td>\n",
       "      <td>2.0</td>\n",
       "      <td>-</td>\n",
       "      <td>1</td>\n",
       "      <td>1.0</td>\n",
       "      <td>495786</td>\n",
       "      <td>0.0</td>\n",
       "      <td>C/C++</td>\n",
       "      <td>-</td>\n",
       "    </tr>\n",
       "    <tr>\n",
       "      <th>4</th>\n",
       "      <td>CVE-2007-6761</td>\n",
       "      <td>github.com/ZIDAN44/linux-stable</td>\n",
       "      <td>ZIDAN44_linux-stable</td>\n",
       "      <td>NaN</td>\n",
       "      <td>fixed</td>\n",
       "      <td>7a6b37df3acc3540007ef5420f7e8e7692eb7d2b</td>\n",
       "      <td>1.191979e+09</td>\n",
       "      <td>9fd15959ccd7d05d51eaf1c0a9f028fa178167ec</td>\n",
       "      <td>1.197404e+09</td>\n",
       "      <td>0.0</td>\n",
       "      <td>...</td>\n",
       "      <td>1.000710e+09</td>\n",
       "      <td>2.124260e+09</td>\n",
       "      <td>132.0</td>\n",
       "      <td>-</td>\n",
       "      <td>-</td>\n",
       "      <td>1.0</td>\n",
       "      <td>381506</td>\n",
       "      <td>0.0</td>\n",
       "      <td>C/C++</td>\n",
       "      <td>-</td>\n",
       "    </tr>\n",
       "  </tbody>\n",
       "</table>\n",
       "<p>5 rows × 24 columns</p>\n",
       "</div>"
      ],
      "text/plain": [
       "             CVE                                      ProjectUrl  \\\n",
       "0  CVE-2007-6761           github.com/broftkd/linux-history-repo   \n",
       "1  CVE-2007-6761  github.com/illacceptanything/illacceptanything   \n",
       "2  CVE-2007-6761            github.com/Jackeagle/kernel_msm-3.18   \n",
       "3  CVE-2007-6761                   github.com/spiderworthy/linux   \n",
       "4  CVE-2007-6761                 github.com/ZIDAN44/linux-stable   \n",
       "\n",
       "                               Project Path status  \\\n",
       "0           broftkd_linux-history-repo  NaN  fixed   \n",
       "1  illacceptanything_illacceptanything  NaN  fixed   \n",
       "2            Jackeagle_kernel_msm-3.18  NaN  fixed   \n",
       "3                   spiderworthy_linux  NaN  fixed   \n",
       "4                 ZIDAN44_linux-stable  NaN  fixed   \n",
       "\n",
       "                                 1stBadBlob    1stBadTime  \\\n",
       "0  02e3ae7532e6e7f0b71c048fd2ee642053a57f6a  9.591309e+08   \n",
       "1  87b9ad070cf76c0f1e8cf836f7eb86e9ac94e34a  1.191979e+09   \n",
       "2  9734a33f9db52125e6df589615007a0a606d2dfa  1.191974e+09   \n",
       "3  0b4745b6e0a6a0ab13522e28464a527929c12783  1.044304e+09   \n",
       "4  7a6b37df3acc3540007ef5420f7e8e7692eb7d2b  1.191979e+09   \n",
       "\n",
       "                                1stGoodBlob   1stGoodTime  TimeSinceFix  ...  \\\n",
       "0  00d5a62131d638503d102812092b7bfb7ddc4986  9.591309e+08       -2757.0  ...   \n",
       "1  0b29669c065f60501e7289e1950fa2a618962358  1.197404e+09           0.0  ...   \n",
       "2  0b29669c065f60501e7289e1950fa2a618962358  1.197404e+09           0.0  ...   \n",
       "3  48b3e3e1d34c859e47cf156da06d06438ac6440c  1.044305e+09       -1771.0  ...   \n",
       "4  9fd15959ccd7d05d51eaf1c0a9f028fa178167ec  1.197404e+09           0.0  ...   \n",
       "\n",
       "  EarliestCommitDate  LatestCommitDate NumActiveMon NumStars  NumCore  \\\n",
       "0       9.591309e+08      9.591309e+08          1.0        2      611   \n",
       "1       3.153735e+08      2.147472e+09        698.0    63040      749   \n",
       "2       5.683654e+08      3.643718e+09        364.0   201441     3769   \n",
       "3       1.044298e+09      1.423077e+09          2.0        -        1   \n",
       "4       1.000710e+09      2.124260e+09        132.0        -        -   \n",
       "\n",
       "   CommunitySize  NumCommits  NumForks FileInfo        RootFork  \n",
       "0            2.0      179968       0.0    C/C++             NaN  \n",
       "1        23892.0      673525   25343.0    C/C++     rails_rails  \n",
       "2       112489.0    36468389  237104.0    C/C++  torvalds_linux  \n",
       "3            1.0      495786       0.0    C/C++               -  \n",
       "4            1.0      381506       0.0    C/C++               -  \n",
       "\n",
       "[5 rows x 24 columns]"
      ]
     },
     "execution_count": 27,
     "metadata": {},
     "output_type": "execute_result"
    }
   ],
   "source": [
    "df.head()"
   ]
  },
  {
   "cell_type": "code",
   "execution_count": 46,
   "id": "9ccd4a3b",
   "metadata": {},
   "outputs": [
    {
     "data": {
      "text/plain": [
       "FileInfo    status  \n",
       "-           notfixed       26\n",
       "C/C++       fixed        6331\n",
       "            notfixed    85029\n",
       "            unknown      4618\n",
       "Go          fixed           1\n",
       "Java        notfixed       32\n",
       "JavaScript  fixed          28\n",
       "            notfixed       75\n",
       "            unknown         4\n",
       "Lisp        fixed           1\n",
       "PHP         fixed           4\n",
       "            notfixed       31\n",
       "            unknown         3\n",
       "Perl        fixed           2\n",
       "            notfixed        2\n",
       "Python      fixed           3\n",
       "            notfixed       20\n",
       "Ruby        fixed           1\n",
       "Name: CVE, dtype: int64"
      ]
     },
     "execution_count": 46,
     "metadata": {},
     "output_type": "execute_result"
    }
   ],
   "source": [
    "df.groupby([\"FileInfo\", \"status\"])[\"CVE\"].count()"
   ]
  },
  {
   "cell_type": "code",
   "execution_count": null,
   "id": "e6109ba9",
   "metadata": {},
   "outputs": [],
   "source": [
    "df.groupby([\"FileInfo\", \"status\"])[\"CVE\"].nunique()"
   ]
  },
  {
   "cell_type": "code",
   "execution_count": 35,
   "id": "7636743a",
   "metadata": {},
   "outputs": [
    {
     "data": {
      "text/plain": [
       "FileInfo    status  \n",
       "-           notfixed    1.000000\n",
       "C/C++       notfixed    0.885922\n",
       "            fixed       0.065963\n",
       "            unknown     0.048115\n",
       "Go          fixed       1.000000\n",
       "Java        notfixed    1.000000\n",
       "JavaScript  notfixed    0.700935\n",
       "            fixed       0.261682\n",
       "            unknown     0.037383\n",
       "Lisp        fixed       1.000000\n",
       "PHP         notfixed    0.815789\n",
       "            fixed       0.105263\n",
       "            unknown     0.078947\n",
       "Perl        fixed       0.500000\n",
       "            notfixed    0.500000\n",
       "Python      notfixed    0.869565\n",
       "            fixed       0.130435\n",
       "Ruby        fixed       1.000000\n",
       "Name: status, dtype: float64"
      ]
     },
     "execution_count": 35,
     "metadata": {},
     "output_type": "execute_result"
    }
   ],
   "source": [
    "df.groupby([\"FileInfo\"])[\"status\"].value_counts(normalize = True)"
   ]
  },
  {
   "cell_type": "code",
   "execution_count": 37,
   "id": "4ca2f7ca",
   "metadata": {},
   "outputs": [
    {
     "data": {
      "text/plain": [
       "FileInfo    status  \n",
       "-           notfixed         2.0\n",
       "C/C++       fixed           38.0\n",
       "            notfixed         5.0\n",
       "            unknown         60.0\n",
       "Go          fixed       634462.0\n",
       "Java        notfixed         3.0\n",
       "JavaScript  fixed        91328.0\n",
       "            notfixed         7.0\n",
       "            unknown         42.0\n",
       "Lisp        fixed         7375.0\n",
       "PHP         fixed        65906.5\n",
       "            notfixed         5.0\n",
       "            unknown         10.0\n",
       "Perl        fixed         9171.5\n",
       "            notfixed        10.5\n",
       "Python      fixed          388.0\n",
       "            notfixed        11.5\n",
       "Ruby        fixed        92091.0\n",
       "Name: NumCommits, dtype: float64"
      ]
     },
     "execution_count": 37,
     "metadata": {},
     "output_type": "execute_result"
    }
   ],
   "source": [
    "df[df[\"NumCommits\"] != \"-\"].groupby([\"FileInfo\", \"status\"])[\"NumCommits\"].median()"
   ]
  },
  {
   "cell_type": "code",
   "execution_count": 41,
   "id": "f9b7cf10",
   "metadata": {},
   "outputs": [
    {
     "data": {
      "text/plain": [
       "FileInfo    status  \n",
       "-           notfixed        2.0\n",
       "C/C++       fixed           2.0\n",
       "            notfixed        1.0\n",
       "            unknown         2.0\n",
       "Go          fixed       53052.0\n",
       "Java        notfixed        1.0\n",
       "JavaScript  fixed        8514.0\n",
       "            notfixed        1.0\n",
       "            unknown         2.5\n",
       "Lisp        fixed         230.0\n",
       "PHP         fixed         651.5\n",
       "            notfixed        1.0\n",
       "            unknown         1.0\n",
       "Perl        fixed         314.5\n",
       "            notfixed        1.0\n",
       "Python      fixed           4.0\n",
       "            notfixed        1.0\n",
       "Ruby        fixed        4712.0\n",
       "Name: CommunitySize, dtype: float64"
      ]
     },
     "execution_count": 41,
     "metadata": {},
     "output_type": "execute_result"
    }
   ],
   "source": [
    "df[df[\"CommunitySize\"] != \"-\"].groupby([\"FileInfo\", \"status\"])[\"CommunitySize\"].median()"
   ]
  },
  {
   "cell_type": "code",
   "execution_count": 44,
   "id": "41112a31",
   "metadata": {},
   "outputs": [
    {
     "data": {
      "text/plain": [
       "FileInfo    status  \n",
       "-           notfixed      2.0\n",
       "C/C++       fixed         1.0\n",
       "            notfixed      1.0\n",
       "            unknown       1.0\n",
       "Go          fixed       577.0\n",
       "Java        notfixed      1.0\n",
       "JavaScript  fixed       432.0\n",
       "            notfixed      1.0\n",
       "            unknown       1.0\n",
       "Lisp        fixed         9.0\n",
       "PHP         fixed        19.0\n",
       "            notfixed      1.0\n",
       "            unknown       1.0\n",
       "Perl        fixed         2.0\n",
       "            notfixed      1.0\n",
       "Python      fixed         1.0\n",
       "            notfixed      1.0\n",
       "Ruby        fixed        71.0\n",
       "Name: NumCore, dtype: float64"
      ]
     },
     "execution_count": 44,
     "metadata": {},
     "output_type": "execute_result"
    }
   ],
   "source": [
    "df[df[\"NumCore\"] != \"-\"].groupby([\"FileInfo\", \"status\"])[\"NumCore\"].median()"
   ]
  },
  {
   "cell_type": "markdown",
   "id": "db93de9d",
   "metadata": {},
   "source": [
    "# Analysis"
   ]
  },
  {
   "cell_type": "markdown",
   "id": "c4edb171",
   "metadata": {},
   "source": [
    "### RQ 1: How prevalent are cloned files with vulnerabilities? \n",
    "\n",
    "- How many vulnerabilities have been cloned?\n",
    "- How many projects have cloned vulnerabilities? \n",
    "- How many projects clone a specific vulnerability? (max, min, average)\n",
    "- Show both numbers over time?\n",
    "\n",
    "\n",
    "- How many CVEs for how many projects\n",
    "    - in total 87 CVE-s\n",
    "    - 5494 projects have copied vulnerabilities\n",
    "    - in total 96260 instances of copied vulnerabilities\n",
    "- which languages are the vulnerable files written in\n",
    "    - C/C++ 77 CVEs\n",
    "    - JavaScript 24 CVEs\n",
    "    - none 13 CVEs\n",
    "    - others less than 6\n",
    "- how many projects that copy vulnerabilities for which languages (all mainly C/C++, other __significantly__ less)\n",
    "    - C/C++ 5296\n",
    "    - JavaScript 89\n",
    "    - PHP 38\n",
    "    - Java 32\n",
    "    - Python 23\n",
    "    - others less than 10\n",
    "- values for specific vulnerabilities\n",
    "    - min 1; 25% 46.5; 50% 863; 75% 2014, mean 1106, max 3054\n"
   ]
  },
  {
   "cell_type": "code",
   "execution_count": 190,
   "id": "7e2e568a",
   "metadata": {},
   "outputs": [
    {
     "data": {
      "text/plain": [
       "87"
      ]
     },
     "execution_count": 190,
     "metadata": {},
     "output_type": "execute_result"
    }
   ],
   "source": [
    "df['CVE'].nunique()"
   ]
  },
  {
   "cell_type": "code",
   "execution_count": 192,
   "id": "b345c7ee",
   "metadata": {},
   "outputs": [
    {
     "data": {
      "text/plain": [
       "5494"
      ]
     },
     "execution_count": 192,
     "metadata": {},
     "output_type": "execute_result"
    }
   ],
   "source": [
    "df['Project'].nunique()"
   ]
  },
  {
   "cell_type": "code",
   "execution_count": 193,
   "id": "805c6f8b",
   "metadata": {},
   "outputs": [
    {
     "data": {
      "text/plain": [
       "96260"
      ]
     },
     "execution_count": 193,
     "metadata": {},
     "output_type": "execute_result"
    }
   ],
   "source": [
    "df['CVE'].count()"
   ]
  },
  {
   "cell_type": "code",
   "execution_count": 198,
   "id": "a66d1fbb",
   "metadata": {},
   "outputs": [
    {
     "data": {
      "text/plain": [
       "FileInfo\n",
       "Go             1\n",
       "Lisp           1\n",
       "Perl           1\n",
       "Ruby           1\n",
       "Python         3\n",
       "Java           4\n",
       "PHP            5\n",
       "-             13\n",
       "JavaScript    24\n",
       "C/C++         77\n",
       "Name: CVE, dtype: int64"
      ]
     },
     "execution_count": 198,
     "metadata": {},
     "output_type": "execute_result"
    }
   ],
   "source": [
    "df.groupby('FileInfo')['CVE'].nunique().sort_values()"
   ]
  },
  {
   "cell_type": "code",
   "execution_count": 199,
   "id": "3cb6b07c",
   "metadata": {},
   "outputs": [
    {
     "data": {
      "text/plain": [
       "FileInfo\n",
       "Go               1\n",
       "Lisp             1\n",
       "Ruby             1\n",
       "Perl             4\n",
       "-                8\n",
       "Python          23\n",
       "Java            32\n",
       "PHP             38\n",
       "JavaScript      89\n",
       "C/C++         5296\n",
       "Name: Project, dtype: int64"
      ]
     },
     "execution_count": 199,
     "metadata": {},
     "output_type": "execute_result"
    }
   ],
   "source": [
    "df.groupby('FileInfo')['Project'].nunique().sort_values()"
   ]
  },
  {
   "cell_type": "code",
   "execution_count": 202,
   "id": "0737a25b",
   "metadata": {},
   "outputs": [
    {
     "data": {
      "text/plain": [
       "count      87.000000\n",
       "mean     1106.436782\n",
       "std       954.625894\n",
       "min         1.000000\n",
       "25%        46.500000\n",
       "50%       863.000000\n",
       "75%      2014.000000\n",
       "max      3054.000000\n",
       "Name: Project, dtype: float64"
      ]
     },
     "execution_count": 202,
     "metadata": {},
     "output_type": "execute_result"
    }
   ],
   "source": [
    "df.groupby('CVE')['Project'].nunique().describe()"
   ]
  },
  {
   "cell_type": "code",
   "execution_count": 191,
   "id": "e9d4363f",
   "metadata": {},
   "outputs": [
    {
     "data": {
      "text/html": [
       "<div>\n",
       "<style scoped>\n",
       "    .dataframe tbody tr th:only-of-type {\n",
       "        vertical-align: middle;\n",
       "    }\n",
       "\n",
       "    .dataframe tbody tr th {\n",
       "        vertical-align: top;\n",
       "    }\n",
       "\n",
       "    .dataframe thead th {\n",
       "        text-align: right;\n",
       "    }\n",
       "</style>\n",
       "<table border=\"1\" class=\"dataframe\">\n",
       "  <thead>\n",
       "    <tr style=\"text-align: right;\">\n",
       "      <th></th>\n",
       "      <th>CVE</th>\n",
       "      <th>ProjectUrl</th>\n",
       "      <th>Project</th>\n",
       "      <th>Path</th>\n",
       "      <th>status</th>\n",
       "      <th>1stBadBlob</th>\n",
       "      <th>1stBadTime</th>\n",
       "      <th>1stGoodBlob</th>\n",
       "      <th>1stGoodTime</th>\n",
       "      <th>TimeSinceFix</th>\n",
       "      <th>...</th>\n",
       "      <th>EarliestCommitDate</th>\n",
       "      <th>LatestCommitDate</th>\n",
       "      <th>NumActiveMon</th>\n",
       "      <th>NumStars</th>\n",
       "      <th>NumCore</th>\n",
       "      <th>CommunitySize</th>\n",
       "      <th>NumCommits</th>\n",
       "      <th>NumForks</th>\n",
       "      <th>FileInfo</th>\n",
       "      <th>RootFork</th>\n",
       "    </tr>\n",
       "  </thead>\n",
       "  <tbody>\n",
       "    <tr>\n",
       "      <th>0</th>\n",
       "      <td>CVE-2007-6761</td>\n",
       "      <td>github.com/broftkd/linux-history-repo</td>\n",
       "      <td>broftkd_linux-history-repo</td>\n",
       "      <td>NaN</td>\n",
       "      <td>fixed</td>\n",
       "      <td>02e3ae7532e6e7f0b71c048fd2ee642053a57f6a</td>\n",
       "      <td>9.591309e+08</td>\n",
       "      <td>00d5a62131d638503d102812092b7bfb7ddc4986</td>\n",
       "      <td>9.591309e+08</td>\n",
       "      <td>-2757.0</td>\n",
       "      <td>...</td>\n",
       "      <td>9.591309e+08</td>\n",
       "      <td>9.591309e+08</td>\n",
       "      <td>1.0</td>\n",
       "      <td>2</td>\n",
       "      <td>611</td>\n",
       "      <td>2.0</td>\n",
       "      <td>179968</td>\n",
       "      <td>0.0</td>\n",
       "      <td>C/C++</td>\n",
       "      <td>NaN</td>\n",
       "    </tr>\n",
       "    <tr>\n",
       "      <th>1</th>\n",
       "      <td>CVE-2007-6761</td>\n",
       "      <td>github.com/illacceptanything/illacceptanything</td>\n",
       "      <td>illacceptanything_illacceptanything</td>\n",
       "      <td>NaN</td>\n",
       "      <td>fixed</td>\n",
       "      <td>87b9ad070cf76c0f1e8cf836f7eb86e9ac94e34a</td>\n",
       "      <td>1.191979e+09</td>\n",
       "      <td>0b29669c065f60501e7289e1950fa2a618962358</td>\n",
       "      <td>1.197404e+09</td>\n",
       "      <td>0.0</td>\n",
       "      <td>...</td>\n",
       "      <td>3.153735e+08</td>\n",
       "      <td>2.147472e+09</td>\n",
       "      <td>698.0</td>\n",
       "      <td>63040</td>\n",
       "      <td>749</td>\n",
       "      <td>23892.0</td>\n",
       "      <td>673525</td>\n",
       "      <td>25343.0</td>\n",
       "      <td>C/C++</td>\n",
       "      <td>rails_rails</td>\n",
       "    </tr>\n",
       "    <tr>\n",
       "      <th>2</th>\n",
       "      <td>CVE-2007-6761</td>\n",
       "      <td>github.com/Jackeagle/kernel_msm-3.18</td>\n",
       "      <td>Jackeagle_kernel_msm-3.18</td>\n",
       "      <td>NaN</td>\n",
       "      <td>fixed</td>\n",
       "      <td>9734a33f9db52125e6df589615007a0a606d2dfa</td>\n",
       "      <td>1.191974e+09</td>\n",
       "      <td>0b29669c065f60501e7289e1950fa2a618962358</td>\n",
       "      <td>1.197404e+09</td>\n",
       "      <td>0.0</td>\n",
       "      <td>...</td>\n",
       "      <td>5.683654e+08</td>\n",
       "      <td>3.643718e+09</td>\n",
       "      <td>364.0</td>\n",
       "      <td>201441</td>\n",
       "      <td>3769</td>\n",
       "      <td>112489.0</td>\n",
       "      <td>36468389</td>\n",
       "      <td>237104.0</td>\n",
       "      <td>C/C++</td>\n",
       "      <td>torvalds_linux</td>\n",
       "    </tr>\n",
       "    <tr>\n",
       "      <th>3</th>\n",
       "      <td>CVE-2007-6761</td>\n",
       "      <td>github.com/spiderworthy/linux</td>\n",
       "      <td>spiderworthy_linux</td>\n",
       "      <td>NaN</td>\n",
       "      <td>fixed</td>\n",
       "      <td>0b4745b6e0a6a0ab13522e28464a527929c12783</td>\n",
       "      <td>1.044304e+09</td>\n",
       "      <td>48b3e3e1d34c859e47cf156da06d06438ac6440c</td>\n",
       "      <td>1.044305e+09</td>\n",
       "      <td>-1771.0</td>\n",
       "      <td>...</td>\n",
       "      <td>1.044298e+09</td>\n",
       "      <td>1.423077e+09</td>\n",
       "      <td>2.0</td>\n",
       "      <td>-</td>\n",
       "      <td>1</td>\n",
       "      <td>1.0</td>\n",
       "      <td>495786</td>\n",
       "      <td>0.0</td>\n",
       "      <td>C/C++</td>\n",
       "      <td>-</td>\n",
       "    </tr>\n",
       "    <tr>\n",
       "      <th>4</th>\n",
       "      <td>CVE-2007-6761</td>\n",
       "      <td>github.com/ZIDAN44/linux-stable</td>\n",
       "      <td>ZIDAN44_linux-stable</td>\n",
       "      <td>NaN</td>\n",
       "      <td>fixed</td>\n",
       "      <td>7a6b37df3acc3540007ef5420f7e8e7692eb7d2b</td>\n",
       "      <td>1.191979e+09</td>\n",
       "      <td>9fd15959ccd7d05d51eaf1c0a9f028fa178167ec</td>\n",
       "      <td>1.197404e+09</td>\n",
       "      <td>0.0</td>\n",
       "      <td>...</td>\n",
       "      <td>1.000710e+09</td>\n",
       "      <td>2.124260e+09</td>\n",
       "      <td>132.0</td>\n",
       "      <td>-</td>\n",
       "      <td>-</td>\n",
       "      <td>1.0</td>\n",
       "      <td>381506</td>\n",
       "      <td>0.0</td>\n",
       "      <td>C/C++</td>\n",
       "      <td>-</td>\n",
       "    </tr>\n",
       "  </tbody>\n",
       "</table>\n",
       "<p>5 rows × 24 columns</p>\n",
       "</div>"
      ],
      "text/plain": [
       "             CVE                                      ProjectUrl  \\\n",
       "0  CVE-2007-6761           github.com/broftkd/linux-history-repo   \n",
       "1  CVE-2007-6761  github.com/illacceptanything/illacceptanything   \n",
       "2  CVE-2007-6761            github.com/Jackeagle/kernel_msm-3.18   \n",
       "3  CVE-2007-6761                   github.com/spiderworthy/linux   \n",
       "4  CVE-2007-6761                 github.com/ZIDAN44/linux-stable   \n",
       "\n",
       "                               Project Path status  \\\n",
       "0           broftkd_linux-history-repo  NaN  fixed   \n",
       "1  illacceptanything_illacceptanything  NaN  fixed   \n",
       "2            Jackeagle_kernel_msm-3.18  NaN  fixed   \n",
       "3                   spiderworthy_linux  NaN  fixed   \n",
       "4                 ZIDAN44_linux-stable  NaN  fixed   \n",
       "\n",
       "                                 1stBadBlob    1stBadTime  \\\n",
       "0  02e3ae7532e6e7f0b71c048fd2ee642053a57f6a  9.591309e+08   \n",
       "1  87b9ad070cf76c0f1e8cf836f7eb86e9ac94e34a  1.191979e+09   \n",
       "2  9734a33f9db52125e6df589615007a0a606d2dfa  1.191974e+09   \n",
       "3  0b4745b6e0a6a0ab13522e28464a527929c12783  1.044304e+09   \n",
       "4  7a6b37df3acc3540007ef5420f7e8e7692eb7d2b  1.191979e+09   \n",
       "\n",
       "                                1stGoodBlob   1stGoodTime  TimeSinceFix  ...  \\\n",
       "0  00d5a62131d638503d102812092b7bfb7ddc4986  9.591309e+08       -2757.0  ...   \n",
       "1  0b29669c065f60501e7289e1950fa2a618962358  1.197404e+09           0.0  ...   \n",
       "2  0b29669c065f60501e7289e1950fa2a618962358  1.197404e+09           0.0  ...   \n",
       "3  48b3e3e1d34c859e47cf156da06d06438ac6440c  1.044305e+09       -1771.0  ...   \n",
       "4  9fd15959ccd7d05d51eaf1c0a9f028fa178167ec  1.197404e+09           0.0  ...   \n",
       "\n",
       "  EarliestCommitDate  LatestCommitDate NumActiveMon NumStars  NumCore  \\\n",
       "0       9.591309e+08      9.591309e+08          1.0        2      611   \n",
       "1       3.153735e+08      2.147472e+09        698.0    63040      749   \n",
       "2       5.683654e+08      3.643718e+09        364.0   201441     3769   \n",
       "3       1.044298e+09      1.423077e+09          2.0        -        1   \n",
       "4       1.000710e+09      2.124260e+09        132.0        -        -   \n",
       "\n",
       "   CommunitySize  NumCommits  NumForks FileInfo        RootFork  \n",
       "0            2.0      179968       0.0    C/C++             NaN  \n",
       "1        23892.0      673525   25343.0    C/C++     rails_rails  \n",
       "2       112489.0    36468389  237104.0    C/C++  torvalds_linux  \n",
       "3            1.0      495786       0.0    C/C++               -  \n",
       "4            1.0      381506       0.0    C/C++               -  \n",
       "\n",
       "[5 rows x 24 columns]"
      ]
     },
     "execution_count": 191,
     "metadata": {},
     "output_type": "execute_result"
    }
   ],
   "source": [
    "df.head()"
   ]
  },
  {
   "cell_type": "markdown",
   "id": "7ab5d120",
   "metadata": {},
   "source": []
  },
  {
   "cell_type": "markdown",
   "id": "b8e0367c",
   "metadata": {},
   "source": [
    "### RQ2: What percentage of cloned vulnerabilities are fixed?\n",
    "\n",
    "- Percentage of projects that have fixed the cloned vulnerability\n",
    "    - 88.6 percentage of projects have not fixed it, 6.6% have fixed the vulnerability\n",
    "- Variance of percentage of fixed projects for different vulnerabilities\n",
    "    - for most vulnerabilities the percentage of projects that have not fixed the vulnerability is larger than 80%\n",
    "- maybe how this changes over time? "
   ]
  },
  {
   "cell_type": "code",
   "execution_count": 209,
   "id": "685f88c0",
   "metadata": {},
   "outputs": [
    {
     "data": {
      "text/plain": [
       "notfixed    0.885757\n",
       "fixed       0.066196\n",
       "unknown     0.048047\n",
       "Name: status, dtype: float64"
      ]
     },
     "execution_count": 209,
     "metadata": {},
     "output_type": "execute_result"
    }
   ],
   "source": [
    "df[\"status\"].value_counts(normalize = True)"
   ]
  },
  {
   "cell_type": "code",
   "execution_count": 225,
   "id": "56dd8a8d",
   "metadata": {},
   "outputs": [
    {
     "data": {
      "text/html": [
       "<div>\n",
       "<style scoped>\n",
       "    .dataframe tbody tr th:only-of-type {\n",
       "        vertical-align: middle;\n",
       "    }\n",
       "\n",
       "    .dataframe tbody tr th {\n",
       "        vertical-align: top;\n",
       "    }\n",
       "\n",
       "    .dataframe thead th {\n",
       "        text-align: right;\n",
       "    }\n",
       "</style>\n",
       "<table border=\"1\" class=\"dataframe\">\n",
       "  <thead>\n",
       "    <tr style=\"text-align: right;\">\n",
       "      <th>status</th>\n",
       "      <th>fixed</th>\n",
       "      <th>notfixed</th>\n",
       "      <th>unknown</th>\n",
       "    </tr>\n",
       "  </thead>\n",
       "  <tbody>\n",
       "    <tr>\n",
       "      <th>count</th>\n",
       "      <td>85.000000</td>\n",
       "      <td>82.000000</td>\n",
       "      <td>68.000000</td>\n",
       "    </tr>\n",
       "    <tr>\n",
       "      <th>mean</th>\n",
       "      <td>0.186567</td>\n",
       "      <td>0.818953</td>\n",
       "      <td>0.058641</td>\n",
       "    </tr>\n",
       "    <tr>\n",
       "      <th>std</th>\n",
       "      <td>0.256765</td>\n",
       "      <td>0.167782</td>\n",
       "      <td>0.088378</td>\n",
       "    </tr>\n",
       "    <tr>\n",
       "      <th>min</th>\n",
       "      <td>0.029412</td>\n",
       "      <td>0.066667</td>\n",
       "      <td>0.002950</td>\n",
       "    </tr>\n",
       "    <tr>\n",
       "      <th>25%</th>\n",
       "      <td>0.057890</td>\n",
       "      <td>0.830581</td>\n",
       "      <td>0.032615</td>\n",
       "    </tr>\n",
       "    <tr>\n",
       "      <th>50%</th>\n",
       "      <td>0.077170</td>\n",
       "      <td>0.873559</td>\n",
       "      <td>0.051354</td>\n",
       "    </tr>\n",
       "    <tr>\n",
       "      <th>75%</th>\n",
       "      <td>0.166667</td>\n",
       "      <td>0.893329</td>\n",
       "      <td>0.063207</td>\n",
       "    </tr>\n",
       "    <tr>\n",
       "      <th>max</th>\n",
       "      <td>1.000000</td>\n",
       "      <td>1.000000</td>\n",
       "      <td>0.750000</td>\n",
       "    </tr>\n",
       "  </tbody>\n",
       "</table>\n",
       "</div>"
      ],
      "text/plain": [
       "status      fixed   notfixed    unknown\n",
       "count   85.000000  82.000000  68.000000\n",
       "mean     0.186567   0.818953   0.058641\n",
       "std      0.256765   0.167782   0.088378\n",
       "min      0.029412   0.066667   0.002950\n",
       "25%      0.057890   0.830581   0.032615\n",
       "50%      0.077170   0.873559   0.051354\n",
       "75%      0.166667   0.893329   0.063207\n",
       "max      1.000000   1.000000   0.750000"
      ]
     },
     "execution_count": 225,
     "metadata": {},
     "output_type": "execute_result"
    }
   ],
   "source": [
    "df.groupby('CVE')[\"status\"].value_counts(normalize = True).unstack().reset_index().describe()"
   ]
  },
  {
   "cell_type": "code",
   "execution_count": 228,
   "id": "379a0771",
   "metadata": {},
   "outputs": [
    {
     "data": {
      "text/plain": [
       "count     85.000000\n",
       "mean      74.964706\n",
       "std       64.562714\n",
       "min        1.000000\n",
       "25%       14.000000\n",
       "50%       66.000000\n",
       "75%      112.000000\n",
       "max      261.000000\n",
       "Name: Project, dtype: float64"
      ]
     },
     "execution_count": 228,
     "metadata": {},
     "output_type": "execute_result"
    }
   ],
   "source": [
    "df[df.status == 'fixed'].groupby('CVE')['Project'].nunique().describe()"
   ]
  },
  {
   "cell_type": "code",
   "execution_count": 227,
   "id": "9907d3f7",
   "metadata": {},
   "outputs": [
    {
     "data": {
      "text/plain": [
       "count      82.000000\n",
       "mean     1039.792683\n",
       "std       847.509667\n",
       "min         1.000000\n",
       "25%       119.000000\n",
       "50%      1138.500000\n",
       "75%      1872.000000\n",
       "max      2808.000000\n",
       "Name: Project, dtype: float64"
      ]
     },
     "execution_count": 227,
     "metadata": {},
     "output_type": "execute_result"
    }
   ],
   "source": [
    "df[df.status == 'notfixed'].groupby('CVE')['Project'].nunique().describe()"
   ]
  },
  {
   "cell_type": "code",
   "execution_count": 226,
   "id": "bba58971",
   "metadata": {},
   "outputs": [
    {
     "data": {
      "text/plain": [
       "count     68.000000\n",
       "mean      68.014706\n",
       "std       50.184880\n",
       "min        1.000000\n",
       "25%       22.750000\n",
       "50%       59.000000\n",
       "75%      110.000000\n",
       "max      193.000000\n",
       "Name: Project, dtype: float64"
      ]
     },
     "execution_count": 226,
     "metadata": {},
     "output_type": "execute_result"
    }
   ],
   "source": [
    "df[df.status == 'unknown'].groupby('CVE')['Project'].nunique().describe()"
   ]
  },
  {
   "cell_type": "markdown",
   "id": "acf94a02",
   "metadata": {},
   "source": [
    "### RQ3: How long does it take to fix a cloned vulnerability? \n",
    "\n",
    "- Plot survival time over time (+ the variance?)\n",
    "\n"
   ]
  },
  {
   "cell_type": "code",
   "execution_count": 230,
   "id": "fdc08ce7",
   "metadata": {},
   "outputs": [
    {
     "data": {
      "text/plain": [
       "count    6372.000000\n",
       "mean     1108.898148\n",
       "std      1086.221938\n",
       "min     -3545.000000\n",
       "25%       350.750000\n",
       "50%       725.000000\n",
       "75%      1951.250000\n",
       "max      4864.000000\n",
       "Name: TimeSinceFix, dtype: float64"
      ]
     },
     "execution_count": 230,
     "metadata": {},
     "output_type": "execute_result"
    }
   ],
   "source": [
    "df['TimeSinceFix'].describe()"
   ]
  },
  {
   "cell_type": "markdown",
   "id": "10ad2ca5",
   "metadata": {},
   "source": [
    "### RQ4: What are the characteristics of projects that have cloned vulnerabilities? \n",
    "\n",
    "- size of projects\n",
    "- number of commits for project\n",
    "- number of contributors\n",
    "\n",
    "TODO: now thinking about it, would this info not make more sense when describing the data in the beginning (since we have no comparison set of data)?"
   ]
  },
  {
   "cell_type": "markdown",
   "id": "39173d93",
   "metadata": {},
   "source": [
    "### RQ 5: What are the characteristics of projects that fix cloned vulnerabilities? \n",
    "\n",
    "- compare projects that fix, maybe fix and do not fix cloned vulnerabilities\n",
    "- comparison on: number of commits, size, number of contributors, community size, active months, number of stars, number of core contributors, language \n",
    "\n",
    "#### Results: \n",
    "- values considerably larger for projects that fix the vulnerabilities\n",
    "- for most properties, if value is larger then the percentage of fixed vulnerabilities is larger\n",
    "- Language wise differences: \n",
    "    - 88.6% of C/C++ projects do not fix the vulnerability, only 6.6% fix the vulnerability\n",
    "    - For JavaScript: 70% do not fix, 26% fix\n",
    "    - For PHP: 81.5% do not fix, 10.5% fix\n",
    "    - For Python: 87% do not fix, 13% fix"
   ]
  },
  {
   "cell_type": "code",
   "execution_count": 64,
   "id": "6f0550ba",
   "metadata": {},
   "outputs": [
    {
     "data": {
      "text/html": [
       "<div>\n",
       "<style scoped>\n",
       "    .dataframe tbody tr th:only-of-type {\n",
       "        vertical-align: middle;\n",
       "    }\n",
       "\n",
       "    .dataframe tbody tr th {\n",
       "        vertical-align: top;\n",
       "    }\n",
       "\n",
       "    .dataframe thead th {\n",
       "        text-align: right;\n",
       "    }\n",
       "</style>\n",
       "<table border=\"1\" class=\"dataframe\">\n",
       "  <thead>\n",
       "    <tr style=\"text-align: right;\">\n",
       "      <th></th>\n",
       "      <th></th>\n",
       "      <th>NumCommits</th>\n",
       "      <th>NumStars</th>\n",
       "      <th>NumCore</th>\n",
       "      <th>NumCommits</th>\n",
       "    </tr>\n",
       "    <tr>\n",
       "      <th>FileInfo</th>\n",
       "      <th>status</th>\n",
       "      <th></th>\n",
       "      <th></th>\n",
       "      <th></th>\n",
       "      <th></th>\n",
       "    </tr>\n",
       "  </thead>\n",
       "  <tbody>\n",
       "    <tr>\n",
       "      <th>-</th>\n",
       "      <th>notfixed</th>\n",
       "      <td>5.0</td>\n",
       "      <td>2.0</td>\n",
       "      <td>2.0</td>\n",
       "      <td>5.0</td>\n",
       "    </tr>\n",
       "    <tr>\n",
       "      <th rowspan=\"3\" valign=\"top\">C/C++</th>\n",
       "      <th>fixed</th>\n",
       "      <td>117.0</td>\n",
       "      <td>4.0</td>\n",
       "      <td>2.0</td>\n",
       "      <td>117.0</td>\n",
       "    </tr>\n",
       "    <tr>\n",
       "      <th>notfixed</th>\n",
       "      <td>11.0</td>\n",
       "      <td>2.0</td>\n",
       "      <td>1.0</td>\n",
       "      <td>11.0</td>\n",
       "    </tr>\n",
       "    <tr>\n",
       "      <th>unknown</th>\n",
       "      <td>148.0</td>\n",
       "      <td>2.0</td>\n",
       "      <td>3.0</td>\n",
       "      <td>148.0</td>\n",
       "    </tr>\n",
       "    <tr>\n",
       "      <th>Go</th>\n",
       "      <th>fixed</th>\n",
       "      <td>634462.0</td>\n",
       "      <td>150490.0</td>\n",
       "      <td>577.0</td>\n",
       "      <td>634462.0</td>\n",
       "    </tr>\n",
       "    <tr>\n",
       "      <th>Java</th>\n",
       "      <th>notfixed</th>\n",
       "      <td>13.5</td>\n",
       "      <td>1.5</td>\n",
       "      <td>1.0</td>\n",
       "      <td>13.5</td>\n",
       "    </tr>\n",
       "    <tr>\n",
       "      <th rowspan=\"3\" valign=\"top\">JavaScript</th>\n",
       "      <th>fixed</th>\n",
       "      <td>91328.0</td>\n",
       "      <td>5325.0</td>\n",
       "      <td>432.0</td>\n",
       "      <td>91328.0</td>\n",
       "    </tr>\n",
       "    <tr>\n",
       "      <th>notfixed</th>\n",
       "      <td>59.0</td>\n",
       "      <td>2.0</td>\n",
       "      <td>1.0</td>\n",
       "      <td>59.0</td>\n",
       "    </tr>\n",
       "    <tr>\n",
       "      <th>unknown</th>\n",
       "      <td>49.0</td>\n",
       "      <td>2.5</td>\n",
       "      <td>1.0</td>\n",
       "      <td>49.0</td>\n",
       "    </tr>\n",
       "    <tr>\n",
       "      <th>Lisp</th>\n",
       "      <th>fixed</th>\n",
       "      <td>7375.0</td>\n",
       "      <td>988.0</td>\n",
       "      <td>9.0</td>\n",
       "      <td>7375.0</td>\n",
       "    </tr>\n",
       "    <tr>\n",
       "      <th rowspan=\"3\" valign=\"top\">PHP</th>\n",
       "      <th>fixed</th>\n",
       "      <td>356650.5</td>\n",
       "      <td>3782.0</td>\n",
       "      <td>100.0</td>\n",
       "      <td>356650.5</td>\n",
       "    </tr>\n",
       "    <tr>\n",
       "      <th>notfixed</th>\n",
       "      <td>106.0</td>\n",
       "      <td>1.0</td>\n",
       "      <td>1.0</td>\n",
       "      <td>106.0</td>\n",
       "    </tr>\n",
       "    <tr>\n",
       "      <th>unknown</th>\n",
       "      <td>10.0</td>\n",
       "      <td>1.0</td>\n",
       "      <td>1.0</td>\n",
       "      <td>10.0</td>\n",
       "    </tr>\n",
       "    <tr>\n",
       "      <th rowspan=\"2\" valign=\"top\">Perl</th>\n",
       "      <th>fixed</th>\n",
       "      <td>17872.0</td>\n",
       "      <td>2217.0</td>\n",
       "      <td>3.0</td>\n",
       "      <td>17872.0</td>\n",
       "    </tr>\n",
       "    <tr>\n",
       "      <th>notfixed</th>\n",
       "      <td>11.0</td>\n",
       "      <td>1.0</td>\n",
       "      <td>1.0</td>\n",
       "      <td>11.0</td>\n",
       "    </tr>\n",
       "    <tr>\n",
       "      <th rowspan=\"2\" valign=\"top\">Python</th>\n",
       "      <th>fixed</th>\n",
       "      <td>773.5</td>\n",
       "      <td>6.5</td>\n",
       "      <td>1.0</td>\n",
       "      <td>773.5</td>\n",
       "    </tr>\n",
       "    <tr>\n",
       "      <th>notfixed</th>\n",
       "      <td>36.5</td>\n",
       "      <td>4.0</td>\n",
       "      <td>1.0</td>\n",
       "      <td>36.5</td>\n",
       "    </tr>\n",
       "    <tr>\n",
       "      <th>Ruby</th>\n",
       "      <th>fixed</th>\n",
       "      <td>92091.0</td>\n",
       "      <td>8578.0</td>\n",
       "      <td>71.0</td>\n",
       "      <td>92091.0</td>\n",
       "    </tr>\n",
       "  </tbody>\n",
       "</table>\n",
       "</div>"
      ],
      "text/plain": [
       "                     NumCommits  NumStars  NumCore  NumCommits\n",
       "FileInfo   status                                             \n",
       "-          notfixed         5.0       2.0      2.0         5.0\n",
       "C/C++      fixed          117.0       4.0      2.0       117.0\n",
       "           notfixed        11.0       2.0      1.0        11.0\n",
       "           unknown        148.0       2.0      3.0       148.0\n",
       "Go         fixed       634462.0  150490.0    577.0    634462.0\n",
       "Java       notfixed        13.5       1.5      1.0        13.5\n",
       "JavaScript fixed        91328.0    5325.0    432.0     91328.0\n",
       "           notfixed        59.0       2.0      1.0        59.0\n",
       "           unknown         49.0       2.5      1.0        49.0\n",
       "Lisp       fixed         7375.0     988.0      9.0      7375.0\n",
       "PHP        fixed       356650.5    3782.0    100.0    356650.5\n",
       "           notfixed       106.0       1.0      1.0       106.0\n",
       "           unknown         10.0       1.0      1.0        10.0\n",
       "Perl       fixed        17872.0    2217.0      3.0     17872.0\n",
       "           notfixed        11.0       1.0      1.0        11.0\n",
       "Python     fixed          773.5       6.5      1.0       773.5\n",
       "           notfixed        36.5       4.0      1.0        36.5\n",
       "Ruby       fixed        92091.0    8578.0     71.0     92091.0"
      ]
     },
     "execution_count": 64,
     "metadata": {},
     "output_type": "execute_result"
    }
   ],
   "source": [
    "df[(df[\"NumCommits\"] != \"-\") & (df[\"NumStars\"] != \"-\") & (df[\"NumCore\"] != \"-\")].groupby([\"FileInfo\", \"status\"])[[\"NumCommits\", \"NumStars\", \"NumCore\", \"NumCommits\"]].median()"
   ]
  },
  {
   "cell_type": "code",
   "execution_count": 60,
   "id": "5b263e49",
   "metadata": {},
   "outputs": [
    {
     "data": {
      "text/html": [
       "<div>\n",
       "<style scoped>\n",
       "    .dataframe tbody tr th:only-of-type {\n",
       "        vertical-align: middle;\n",
       "    }\n",
       "\n",
       "    .dataframe tbody tr th {\n",
       "        vertical-align: top;\n",
       "    }\n",
       "\n",
       "    .dataframe thead th {\n",
       "        text-align: right;\n",
       "    }\n",
       "</style>\n",
       "<table border=\"1\" class=\"dataframe\">\n",
       "  <thead>\n",
       "    <tr style=\"text-align: right;\">\n",
       "      <th></th>\n",
       "      <th></th>\n",
       "      <th>CommunitySize</th>\n",
       "      <th>NumActiveMon</th>\n",
       "      <th>NumForks</th>\n",
       "    </tr>\n",
       "    <tr>\n",
       "      <th>FileInfo</th>\n",
       "      <th>status</th>\n",
       "      <th></th>\n",
       "      <th></th>\n",
       "      <th></th>\n",
       "    </tr>\n",
       "  </thead>\n",
       "  <tbody>\n",
       "    <tr>\n",
       "      <th>-</th>\n",
       "      <th>notfixed</th>\n",
       "      <td>2.0</td>\n",
       "      <td>1.0</td>\n",
       "      <td>0.0</td>\n",
       "    </tr>\n",
       "    <tr>\n",
       "      <th rowspan=\"3\" valign=\"top\">C/C++</th>\n",
       "      <th>fixed</th>\n",
       "      <td>2.0</td>\n",
       "      <td>5.0</td>\n",
       "      <td>1.0</td>\n",
       "    </tr>\n",
       "    <tr>\n",
       "      <th>notfixed</th>\n",
       "      <td>1.0</td>\n",
       "      <td>1.0</td>\n",
       "      <td>0.0</td>\n",
       "    </tr>\n",
       "    <tr>\n",
       "      <th>unknown</th>\n",
       "      <td>2.0</td>\n",
       "      <td>4.0</td>\n",
       "      <td>0.0</td>\n",
       "    </tr>\n",
       "    <tr>\n",
       "      <th>Go</th>\n",
       "      <th>fixed</th>\n",
       "      <td>53052.0</td>\n",
       "      <td>267.0</td>\n",
       "      <td>57571.0</td>\n",
       "    </tr>\n",
       "    <tr>\n",
       "      <th>Java</th>\n",
       "      <th>notfixed</th>\n",
       "      <td>1.0</td>\n",
       "      <td>1.0</td>\n",
       "      <td>0.0</td>\n",
       "    </tr>\n",
       "    <tr>\n",
       "      <th rowspan=\"3\" valign=\"top\">JavaScript</th>\n",
       "      <th>fixed</th>\n",
       "      <td>8514.0</td>\n",
       "      <td>161.0</td>\n",
       "      <td>1249.0</td>\n",
       "    </tr>\n",
       "    <tr>\n",
       "      <th>notfixed</th>\n",
       "      <td>1.0</td>\n",
       "      <td>1.0</td>\n",
       "      <td>0.0</td>\n",
       "    </tr>\n",
       "    <tr>\n",
       "      <th>unknown</th>\n",
       "      <td>2.5</td>\n",
       "      <td>3.0</td>\n",
       "      <td>2.0</td>\n",
       "    </tr>\n",
       "    <tr>\n",
       "      <th>Lisp</th>\n",
       "      <th>fixed</th>\n",
       "      <td>230.0</td>\n",
       "      <td>137.0</td>\n",
       "      <td>221.0</td>\n",
       "    </tr>\n",
       "    <tr>\n",
       "      <th rowspan=\"3\" valign=\"top\">PHP</th>\n",
       "      <th>fixed</th>\n",
       "      <td>651.5</td>\n",
       "      <td>178.0</td>\n",
       "      <td>710.0</td>\n",
       "    </tr>\n",
       "    <tr>\n",
       "      <th>notfixed</th>\n",
       "      <td>1.0</td>\n",
       "      <td>1.0</td>\n",
       "      <td>0.0</td>\n",
       "    </tr>\n",
       "    <tr>\n",
       "      <th>unknown</th>\n",
       "      <td>1.0</td>\n",
       "      <td>5.0</td>\n",
       "      <td>0.0</td>\n",
       "    </tr>\n",
       "    <tr>\n",
       "      <th rowspan=\"2\" valign=\"top\">Perl</th>\n",
       "      <th>fixed</th>\n",
       "      <td>314.5</td>\n",
       "      <td>106.5</td>\n",
       "      <td>324.0</td>\n",
       "    </tr>\n",
       "    <tr>\n",
       "      <th>notfixed</th>\n",
       "      <td>1.0</td>\n",
       "      <td>1.5</td>\n",
       "      <td>0.0</td>\n",
       "    </tr>\n",
       "    <tr>\n",
       "      <th rowspan=\"2\" valign=\"top\">Python</th>\n",
       "      <th>fixed</th>\n",
       "      <td>4.0</td>\n",
       "      <td>28.0</td>\n",
       "      <td>2.0</td>\n",
       "    </tr>\n",
       "    <tr>\n",
       "      <th>notfixed</th>\n",
       "      <td>1.0</td>\n",
       "      <td>2.0</td>\n",
       "      <td>0.0</td>\n",
       "    </tr>\n",
       "    <tr>\n",
       "      <th>Ruby</th>\n",
       "      <th>fixed</th>\n",
       "      <td>4712.0</td>\n",
       "      <td>165.0</td>\n",
       "      <td>4658.0</td>\n",
       "    </tr>\n",
       "  </tbody>\n",
       "</table>\n",
       "</div>"
      ],
      "text/plain": [
       "                     CommunitySize  NumActiveMon  NumForks\n",
       "FileInfo   status                                         \n",
       "-          notfixed            2.0           1.0       0.0\n",
       "C/C++      fixed               2.0           5.0       1.0\n",
       "           notfixed            1.0           1.0       0.0\n",
       "           unknown             2.0           4.0       0.0\n",
       "Go         fixed           53052.0         267.0   57571.0\n",
       "Java       notfixed            1.0           1.0       0.0\n",
       "JavaScript fixed            8514.0         161.0    1249.0\n",
       "           notfixed            1.0           1.0       0.0\n",
       "           unknown             2.5           3.0       2.0\n",
       "Lisp       fixed             230.0         137.0     221.0\n",
       "PHP        fixed             651.5         178.0     710.0\n",
       "           notfixed            1.0           1.0       0.0\n",
       "           unknown             1.0           5.0       0.0\n",
       "Perl       fixed             314.5         106.5     324.0\n",
       "           notfixed            1.0           1.5       0.0\n",
       "Python     fixed               4.0          28.0       2.0\n",
       "           notfixed            1.0           2.0       0.0\n",
       "Ruby       fixed            4712.0         165.0    4658.0"
      ]
     },
     "execution_count": 60,
     "metadata": {},
     "output_type": "execute_result"
    }
   ],
   "source": [
    "df.groupby([\"FileInfo\", \"status\"])[[\"NumCore\", \"CommunitySize\", \"NumActiveMon\", \"NumStars\", \"NumCommits\", \"NumForks\"]].median()"
   ]
  },
  {
   "cell_type": "code",
   "execution_count": 66,
   "id": "c89a0d01",
   "metadata": {},
   "outputs": [
    {
     "data": {
      "text/html": [
       "<div>\n",
       "<style scoped>\n",
       "    .dataframe tbody tr th:only-of-type {\n",
       "        vertical-align: middle;\n",
       "    }\n",
       "\n",
       "    .dataframe tbody tr th {\n",
       "        vertical-align: top;\n",
       "    }\n",
       "\n",
       "    .dataframe thead th {\n",
       "        text-align: right;\n",
       "    }\n",
       "</style>\n",
       "<table border=\"1\" class=\"dataframe\">\n",
       "  <thead>\n",
       "    <tr style=\"text-align: right;\">\n",
       "      <th></th>\n",
       "      <th></th>\n",
       "      <th>CommunitySize</th>\n",
       "      <th>NumActiveMon</th>\n",
       "      <th>NumForks</th>\n",
       "    </tr>\n",
       "    <tr>\n",
       "      <th>FileInfo</th>\n",
       "      <th>status</th>\n",
       "      <th></th>\n",
       "      <th></th>\n",
       "      <th></th>\n",
       "    </tr>\n",
       "  </thead>\n",
       "  <tbody>\n",
       "    <tr>\n",
       "      <th>-</th>\n",
       "      <th>notfixed</th>\n",
       "      <td>2.846154</td>\n",
       "      <td>1.038462</td>\n",
       "      <td>0.807692</td>\n",
       "    </tr>\n",
       "    <tr>\n",
       "      <th rowspan=\"3\" valign=\"top\">C/C++</th>\n",
       "      <th>fixed</th>\n",
       "      <td>1952.643816</td>\n",
       "      <td>33.591850</td>\n",
       "      <td>3171.701153</td>\n",
       "    </tr>\n",
       "    <tr>\n",
       "      <th>notfixed</th>\n",
       "      <td>3.051547</td>\n",
       "      <td>3.592151</td>\n",
       "      <td>1.680650</td>\n",
       "    </tr>\n",
       "    <tr>\n",
       "      <th>unknown</th>\n",
       "      <td>6.034430</td>\n",
       "      <td>13.329580</td>\n",
       "      <td>4.232785</td>\n",
       "    </tr>\n",
       "    <tr>\n",
       "      <th>Go</th>\n",
       "      <th>fixed</th>\n",
       "      <td>53052.000000</td>\n",
       "      <td>267.000000</td>\n",
       "      <td>57571.000000</td>\n",
       "    </tr>\n",
       "    <tr>\n",
       "      <th>Java</th>\n",
       "      <th>notfixed</th>\n",
       "      <td>6.000000</td>\n",
       "      <td>3.156250</td>\n",
       "      <td>4.156250</td>\n",
       "    </tr>\n",
       "    <tr>\n",
       "      <th rowspan=\"3\" valign=\"top\">JavaScript</th>\n",
       "      <th>fixed</th>\n",
       "      <td>9985.678571</td>\n",
       "      <td>157.035714</td>\n",
       "      <td>2855.214286</td>\n",
       "    </tr>\n",
       "    <tr>\n",
       "      <th>notfixed</th>\n",
       "      <td>114.906667</td>\n",
       "      <td>5.106667</td>\n",
       "      <td>120.346667</td>\n",
       "    </tr>\n",
       "    <tr>\n",
       "      <th>unknown</th>\n",
       "      <td>3.000000</td>\n",
       "      <td>4.000000</td>\n",
       "      <td>2.250000</td>\n",
       "    </tr>\n",
       "    <tr>\n",
       "      <th>Lisp</th>\n",
       "      <th>fixed</th>\n",
       "      <td>230.000000</td>\n",
       "      <td>137.000000</td>\n",
       "      <td>221.000000</td>\n",
       "    </tr>\n",
       "    <tr>\n",
       "      <th rowspan=\"3\" valign=\"top\">PHP</th>\n",
       "      <th>fixed</th>\n",
       "      <td>2046.500000</td>\n",
       "      <td>153.500000</td>\n",
       "      <td>2048.750000</td>\n",
       "    </tr>\n",
       "    <tr>\n",
       "      <th>notfixed</th>\n",
       "      <td>1.290323</td>\n",
       "      <td>4.225806</td>\n",
       "      <td>0.161290</td>\n",
       "    </tr>\n",
       "    <tr>\n",
       "      <th>unknown</th>\n",
       "      <td>1.333333</td>\n",
       "      <td>4.666667</td>\n",
       "      <td>0.333333</td>\n",
       "    </tr>\n",
       "    <tr>\n",
       "      <th rowspan=\"2\" valign=\"top\">Perl</th>\n",
       "      <th>fixed</th>\n",
       "      <td>314.500000</td>\n",
       "      <td>106.500000</td>\n",
       "      <td>324.000000</td>\n",
       "    </tr>\n",
       "    <tr>\n",
       "      <th>notfixed</th>\n",
       "      <td>1.000000</td>\n",
       "      <td>1.500000</td>\n",
       "      <td>0.000000</td>\n",
       "    </tr>\n",
       "    <tr>\n",
       "      <th rowspan=\"2\" valign=\"top\">Python</th>\n",
       "      <th>fixed</th>\n",
       "      <td>3.000000</td>\n",
       "      <td>45.666667</td>\n",
       "      <td>1.666667</td>\n",
       "    </tr>\n",
       "    <tr>\n",
       "      <th>notfixed</th>\n",
       "      <td>6.150000</td>\n",
       "      <td>4.050000</td>\n",
       "      <td>5.150000</td>\n",
       "    </tr>\n",
       "    <tr>\n",
       "      <th>Ruby</th>\n",
       "      <th>fixed</th>\n",
       "      <td>4712.000000</td>\n",
       "      <td>165.000000</td>\n",
       "      <td>4658.000000</td>\n",
       "    </tr>\n",
       "  </tbody>\n",
       "</table>\n",
       "</div>"
      ],
      "text/plain": [
       "                     CommunitySize  NumActiveMon      NumForks\n",
       "FileInfo   status                                             \n",
       "-          notfixed       2.846154      1.038462      0.807692\n",
       "C/C++      fixed       1952.643816     33.591850   3171.701153\n",
       "           notfixed       3.051547      3.592151      1.680650\n",
       "           unknown        6.034430     13.329580      4.232785\n",
       "Go         fixed      53052.000000    267.000000  57571.000000\n",
       "Java       notfixed       6.000000      3.156250      4.156250\n",
       "JavaScript fixed       9985.678571    157.035714   2855.214286\n",
       "           notfixed     114.906667      5.106667    120.346667\n",
       "           unknown        3.000000      4.000000      2.250000\n",
       "Lisp       fixed        230.000000    137.000000    221.000000\n",
       "PHP        fixed       2046.500000    153.500000   2048.750000\n",
       "           notfixed       1.290323      4.225806      0.161290\n",
       "           unknown        1.333333      4.666667      0.333333\n",
       "Perl       fixed        314.500000    106.500000    324.000000\n",
       "           notfixed       1.000000      1.500000      0.000000\n",
       "Python     fixed          3.000000     45.666667      1.666667\n",
       "           notfixed       6.150000      4.050000      5.150000\n",
       "Ruby       fixed       4712.000000    165.000000   4658.000000"
      ]
     },
     "execution_count": 66,
     "metadata": {},
     "output_type": "execute_result"
    }
   ],
   "source": [
    "df.groupby([\"FileInfo\", \"status\"])[[\"NumCore\", \"CommunitySize\", \"NumActiveMon\", \"NumStars\", \"NumCommits\", \"NumForks\"]].mean()"
   ]
  },
  {
   "cell_type": "code",
   "execution_count": 67,
   "id": "9895b894",
   "metadata": {},
   "outputs": [
    {
     "data": {
      "text/plain": [
       "FileInfo    status  \n",
       "-           notfixed    1.000000\n",
       "C/C++       notfixed    0.885922\n",
       "            fixed       0.065963\n",
       "            unknown     0.048115\n",
       "Go          fixed       1.000000\n",
       "Java        notfixed    1.000000\n",
       "JavaScript  notfixed    0.700935\n",
       "            fixed       0.261682\n",
       "            unknown     0.037383\n",
       "Lisp        fixed       1.000000\n",
       "PHP         notfixed    0.815789\n",
       "            fixed       0.105263\n",
       "            unknown     0.078947\n",
       "Perl        fixed       0.500000\n",
       "            notfixed    0.500000\n",
       "Python      notfixed    0.869565\n",
       "            fixed       0.130435\n",
       "Ruby        fixed       1.000000\n",
       "Name: status, dtype: float64"
      ]
     },
     "execution_count": 67,
     "metadata": {},
     "output_type": "execute_result"
    }
   ],
   "source": [
    "df.groupby([\"FileInfo\"])[\"status\"].value_counts(normalize = True)"
   ]
  },
  {
   "cell_type": "code",
   "execution_count": 68,
   "id": "706ec5ad",
   "metadata": {},
   "outputs": [
    {
     "data": {
      "text/plain": [
       "FileInfo    status  \n",
       "-           notfixed       26\n",
       "C/C++       fixed        6331\n",
       "            notfixed    85029\n",
       "            unknown      4618\n",
       "Go          fixed           1\n",
       "Java        notfixed       32\n",
       "JavaScript  fixed          28\n",
       "            notfixed       75\n",
       "            unknown         4\n",
       "Lisp        fixed           1\n",
       "PHP         fixed           4\n",
       "            notfixed       31\n",
       "            unknown         3\n",
       "Perl        fixed           2\n",
       "            notfixed        2\n",
       "Python      fixed           3\n",
       "            notfixed       20\n",
       "Ruby        fixed           1\n",
       "Name: CVE, dtype: int64"
      ]
     },
     "execution_count": 68,
     "metadata": {},
     "output_type": "execute_result"
    }
   ],
   "source": [
    "df.groupby([\"FileInfo\", \"status\"])[\"CVE\"].count()"
   ]
  },
  {
   "cell_type": "code",
   "execution_count": 145,
   "id": "18ddf394",
   "metadata": {},
   "outputs": [],
   "source": [
    "def plotByValueIncreasing(key, step, data, limit, numeric = False):\n",
    "    values_fixed = []\n",
    "    values_notfixed = []\n",
    "    values_unknown = []\n",
    "    index = []\n",
    "    \n",
    "    upper = step\n",
    "    lower = 0\n",
    "    \n",
    "    if numeric == False:\n",
    "        data = data[(data[key].str.isnumeric() == True)]\n",
    "        \n",
    "    data = data[~(pd.isna(data[key]))]\n",
    "    \n",
    "    while(data[(data[key].astype(\"int\") > lower)][key].count() > 0):\n",
    "        subset = data[(data[key].astype(\"int\") > lower) & (data[key].astype(\"int\") < upper)]\n",
    "        \n",
    "        count = subset[key].count()\n",
    "        values_fixed.append(subset[subset['status'] == \"fixed\"][key].count() / count)\n",
    "        values_notfixed.append(subset[subset['status'] == \"notfixed\"][key].count() / count)\n",
    "        values_unknown.append(subset[subset['status'] == \"unknown\"][key].count() / count)\n",
    "        index.append(lower)\n",
    "        \n",
    "        upper = upper + step\n",
    "        lower = lower + step\n",
    "        \n",
    "        if lower > limit:\n",
    "            break\n",
    "        \n",
    "    results = pd.DataFrame({'Fixed': values_fixed, 'Not fixed': values_notfixed, 'Unknown': values_unknown, key: index})\n",
    "    results.set_index(key)\n",
    "    results.plot(x=key)"
   ]
  },
  {
   "cell_type": "code",
   "execution_count": 118,
   "id": "5372e392",
   "metadata": {},
   "outputs": [
    {
     "data": {
      "text/plain": [
       "0        True\n",
       "1        True\n",
       "2        True\n",
       "3        True\n",
       "4        True\n",
       "         ... \n",
       "96255    True\n",
       "96256    True\n",
       "96257    True\n",
       "96258    True\n",
       "96259    True\n",
       "Name: NumCommits, Length: 95734, dtype: bool"
      ]
     },
     "execution_count": 118,
     "metadata": {},
     "output_type": "execute_result"
    }
   ],
   "source": [
    "df[(df[\"NumCommits\"].str.isnumeric() == True)][\"NumCommits\"].astype(\"int\") > 10"
   ]
  },
  {
   "cell_type": "code",
   "execution_count": 150,
   "id": "4be2ae78",
   "metadata": {},
   "outputs": [
    {
     "data": {
      "image/png": "[encoded data removed]",
      "text/plain": [
       "<Figure size 432x288 with 1 Axes>"
      ]
     },
     "metadata": {
      "needs_background": "light"
     },
     "output_type": "display_data"
    }
   ],
   "source": [
    "plotByValueIncreasing(\"NumCommits\", 50, df, 600)"
   ]
  },
  {
   "cell_type": "code",
   "execution_count": 149,
   "id": "c61ff186",
   "metadata": {},
   "outputs": [
    {
     "data": {
      "image/png": "[encoded data removed]",
      "text/plain": [
       "<Figure size 432x288 with 1 Axes>"
      ]
     },
     "metadata": {
      "needs_background": "light"
     },
     "output_type": "display_data"
    }
   ],
   "source": [
    "plotByValueIncreasing(\"NumActiveMon\", 20, df, 150, True)"
   ]
  },
  {
   "cell_type": "code",
   "execution_count": 161,
   "id": "12ccb883",
   "metadata": {},
   "outputs": [
    {
     "data": {
      "image/png": "[encoded data removed]",
      "text/plain": [
       "<Figure size 432x288 with 1 Axes>"
      ]
     },
     "metadata": {
      "needs_background": "light"
     },
     "output_type": "display_data"
    }
   ],
   "source": [
    "plotByValueIncreasing(\"CommunitySize\", 30, df, 160, True)"
   ]
  },
  {
   "cell_type": "code",
   "execution_count": 168,
   "id": "0fa9c59a",
   "metadata": {},
   "outputs": [
    {
     "data": {
      "image/png": "[encoded data removed]",
      "text/plain": [
       "<Figure size 432x288 with 1 Axes>"
      ]
     },
     "metadata": {
      "needs_background": "light"
     },
     "output_type": "display_data"
    }
   ],
   "source": [
    "plotByValueIncreasing(\"NumStars\", 30, df, 120, False)"
   ]
  },
  {
   "cell_type": "code",
   "execution_count": 183,
   "id": "acedc007",
   "metadata": {},
   "outputs": [
    {
     "data": {
      "image/png": "[encoded data removed]",
      "text/plain": [
       "<Figure size 432x288 with 1 Axes>"
      ]
     },
     "metadata": {
      "needs_background": "light"
     },
     "output_type": "display_data"
    }
   ],
   "source": [
    "plotByValueIncreasing(\"NumForks\", 20, df, 80, True)"
   ]
  },
  {
   "cell_type": "code",
   "execution_count": 184,
   "id": "ccb4a20a",
   "metadata": {},
   "outputs": [
    {
     "data": {
      "image/png": "[encoded data removed]",
      "text/plain": [
       "<Figure size 432x288 with 1 Axes>"
      ]
     },
     "metadata": {
      "needs_background": "light"
     },
     "output_type": "display_data"
    }
   ],
   "source": [
    "plotByValueIncreasing(\"NumCore\", 100, df, 600, False)"
   ]
  },
  {
   "cell_type": "code",
   "execution_count": 162,
   "id": "a0d0e25e",
   "metadata": {},
   "outputs": [
    {
     "data": {
      "text/html": [
       "<div>\n",
       "<style scoped>\n",
       "    .dataframe tbody tr th:only-of-type {\n",
       "        vertical-align: middle;\n",
       "    }\n",
       "\n",
       "    .dataframe tbody tr th {\n",
       "        vertical-align: top;\n",
       "    }\n",
       "\n",
       "    .dataframe thead th {\n",
       "        text-align: right;\n",
       "    }\n",
       "</style>\n",
       "<table border=\"1\" class=\"dataframe\">\n",
       "  <thead>\n",
       "    <tr style=\"text-align: right;\">\n",
       "      <th></th>\n",
       "      <th>CVE</th>\n",
       "      <th>ProjectUrl</th>\n",
       "      <th>Project</th>\n",
       "      <th>Path</th>\n",
       "      <th>status</th>\n",
       "      <th>1stBadBlob</th>\n",
       "      <th>1stBadTime</th>\n",
       "      <th>1stGoodBlob</th>\n",
       "      <th>1stGoodTime</th>\n",
       "      <th>TimeSinceFix</th>\n",
       "      <th>...</th>\n",
       "      <th>EarliestCommitDate</th>\n",
       "      <th>LatestCommitDate</th>\n",
       "      <th>NumActiveMon</th>\n",
       "      <th>NumStars</th>\n",
       "      <th>NumCore</th>\n",
       "      <th>CommunitySize</th>\n",
       "      <th>NumCommits</th>\n",
       "      <th>NumForks</th>\n",
       "      <th>FileInfo</th>\n",
       "      <th>RootFork</th>\n",
       "    </tr>\n",
       "  </thead>\n",
       "  <tbody>\n",
       "    <tr>\n",
       "      <th>0</th>\n",
       "      <td>CVE-2007-6761</td>\n",
       "      <td>github.com/broftkd/linux-history-repo</td>\n",
       "      <td>broftkd_linux-history-repo</td>\n",
       "      <td>NaN</td>\n",
       "      <td>fixed</td>\n",
       "      <td>02e3ae7532e6e7f0b71c048fd2ee642053a57f6a</td>\n",
       "      <td>9.591309e+08</td>\n",
       "      <td>00d5a62131d638503d102812092b7bfb7ddc4986</td>\n",
       "      <td>9.591309e+08</td>\n",
       "      <td>-2757.0</td>\n",
       "      <td>...</td>\n",
       "      <td>9.591309e+08</td>\n",
       "      <td>9.591309e+08</td>\n",
       "      <td>1.0</td>\n",
       "      <td>2</td>\n",
       "      <td>611</td>\n",
       "      <td>2.0</td>\n",
       "      <td>179968</td>\n",
       "      <td>0.0</td>\n",
       "      <td>C/C++</td>\n",
       "      <td>NaN</td>\n",
       "    </tr>\n",
       "    <tr>\n",
       "      <th>1</th>\n",
       "      <td>CVE-2007-6761</td>\n",
       "      <td>github.com/illacceptanything/illacceptanything</td>\n",
       "      <td>illacceptanything_illacceptanything</td>\n",
       "      <td>NaN</td>\n",
       "      <td>fixed</td>\n",
       "      <td>87b9ad070cf76c0f1e8cf836f7eb86e9ac94e34a</td>\n",
       "      <td>1.191979e+09</td>\n",
       "      <td>0b29669c065f60501e7289e1950fa2a618962358</td>\n",
       "      <td>1.197404e+09</td>\n",
       "      <td>0.0</td>\n",
       "      <td>...</td>\n",
       "      <td>3.153735e+08</td>\n",
       "      <td>2.147472e+09</td>\n",
       "      <td>698.0</td>\n",
       "      <td>63040</td>\n",
       "      <td>749</td>\n",
       "      <td>23892.0</td>\n",
       "      <td>673525</td>\n",
       "      <td>25343.0</td>\n",
       "      <td>C/C++</td>\n",
       "      <td>rails_rails</td>\n",
       "    </tr>\n",
       "    <tr>\n",
       "      <th>2</th>\n",
       "      <td>CVE-2007-6761</td>\n",
       "      <td>github.com/Jackeagle/kernel_msm-3.18</td>\n",
       "      <td>Jackeagle_kernel_msm-3.18</td>\n",
       "      <td>NaN</td>\n",
       "      <td>fixed</td>\n",
       "      <td>9734a33f9db52125e6df589615007a0a606d2dfa</td>\n",
       "      <td>1.191974e+09</td>\n",
       "      <td>0b29669c065f60501e7289e1950fa2a618962358</td>\n",
       "      <td>1.197404e+09</td>\n",
       "      <td>0.0</td>\n",
       "      <td>...</td>\n",
       "      <td>5.683654e+08</td>\n",
       "      <td>3.643718e+09</td>\n",
       "      <td>364.0</td>\n",
       "      <td>201441</td>\n",
       "      <td>3769</td>\n",
       "      <td>112489.0</td>\n",
       "      <td>36468389</td>\n",
       "      <td>237104.0</td>\n",
       "      <td>C/C++</td>\n",
       "      <td>torvalds_linux</td>\n",
       "    </tr>\n",
       "    <tr>\n",
       "      <th>3</th>\n",
       "      <td>CVE-2007-6761</td>\n",
       "      <td>github.com/spiderworthy/linux</td>\n",
       "      <td>spiderworthy_linux</td>\n",
       "      <td>NaN</td>\n",
       "      <td>fixed</td>\n",
       "      <td>0b4745b6e0a6a0ab13522e28464a527929c12783</td>\n",
       "      <td>1.044304e+09</td>\n",
       "      <td>48b3e3e1d34c859e47cf156da06d06438ac6440c</td>\n",
       "      <td>1.044305e+09</td>\n",
       "      <td>-1771.0</td>\n",
       "      <td>...</td>\n",
       "      <td>1.044298e+09</td>\n",
       "      <td>1.423077e+09</td>\n",
       "      <td>2.0</td>\n",
       "      <td>-</td>\n",
       "      <td>1</td>\n",
       "      <td>1.0</td>\n",
       "      <td>495786</td>\n",
       "      <td>0.0</td>\n",
       "      <td>C/C++</td>\n",
       "      <td>-</td>\n",
       "    </tr>\n",
       "    <tr>\n",
       "      <th>4</th>\n",
       "      <td>CVE-2007-6761</td>\n",
       "      <td>github.com/ZIDAN44/linux-stable</td>\n",
       "      <td>ZIDAN44_linux-stable</td>\n",
       "      <td>NaN</td>\n",
       "      <td>fixed</td>\n",
       "      <td>7a6b37df3acc3540007ef5420f7e8e7692eb7d2b</td>\n",
       "      <td>1.191979e+09</td>\n",
       "      <td>9fd15959ccd7d05d51eaf1c0a9f028fa178167ec</td>\n",
       "      <td>1.197404e+09</td>\n",
       "      <td>0.0</td>\n",
       "      <td>...</td>\n",
       "      <td>1.000710e+09</td>\n",
       "      <td>2.124260e+09</td>\n",
       "      <td>132.0</td>\n",
       "      <td>-</td>\n",
       "      <td>-</td>\n",
       "      <td>1.0</td>\n",
       "      <td>381506</td>\n",
       "      <td>0.0</td>\n",
       "      <td>C/C++</td>\n",
       "      <td>-</td>\n",
       "    </tr>\n",
       "  </tbody>\n",
       "</table>\n",
       "<p>5 rows × 24 columns</p>\n",
       "</div>"
      ],
      "text/plain": [
       "             CVE                                      ProjectUrl  \\\n",
       "0  CVE-2007-6761           github.com/broftkd/linux-history-repo   \n",
       "1  CVE-2007-6761  github.com/illacceptanything/illacceptanything   \n",
       "2  CVE-2007-6761            github.com/Jackeagle/kernel_msm-3.18   \n",
       "3  CVE-2007-6761                   github.com/spiderworthy/linux   \n",
       "4  CVE-2007-6761                 github.com/ZIDAN44/linux-stable   \n",
       "\n",
       "                               Project Path status  \\\n",
       "0           broftkd_linux-history-repo  NaN  fixed   \n",
       "1  illacceptanything_illacceptanything  NaN  fixed   \n",
       "2            Jackeagle_kernel_msm-3.18  NaN  fixed   \n",
       "3                   spiderworthy_linux  NaN  fixed   \n",
       "4                 ZIDAN44_linux-stable  NaN  fixed   \n",
       "\n",
       "                                 1stBadBlob    1stBadTime  \\\n",
       "0  02e3ae7532e6e7f0b71c048fd2ee642053a57f6a  9.591309e+08   \n",
       "1  87b9ad070cf76c0f1e8cf836f7eb86e9ac94e34a  1.191979e+09   \n",
       "2  9734a33f9db52125e6df589615007a0a606d2dfa  1.191974e+09   \n",
       "3  0b4745b6e0a6a0ab13522e28464a527929c12783  1.044304e+09   \n",
       "4  7a6b37df3acc3540007ef5420f7e8e7692eb7d2b  1.191979e+09   \n",
       "\n",
       "                                1stGoodBlob   1stGoodTime  TimeSinceFix  ...  \\\n",
       "0  00d5a62131d638503d102812092b7bfb7ddc4986  9.591309e+08       -2757.0  ...   \n",
       "1  0b29669c065f60501e7289e1950fa2a618962358  1.197404e+09           0.0  ...   \n",
       "2  0b29669c065f60501e7289e1950fa2a618962358  1.197404e+09           0.0  ...   \n",
       "3  48b3e3e1d34c859e47cf156da06d06438ac6440c  1.044305e+09       -1771.0  ...   \n",
       "4  9fd15959ccd7d05d51eaf1c0a9f028fa178167ec  1.197404e+09           0.0  ...   \n",
       "\n",
       "  EarliestCommitDate  LatestCommitDate NumActiveMon NumStars  NumCore  \\\n",
       "0       9.591309e+08      9.591309e+08          1.0        2      611   \n",
       "1       3.153735e+08      2.147472e+09        698.0    63040      749   \n",
       "2       5.683654e+08      3.643718e+09        364.0   201441     3769   \n",
       "3       1.044298e+09      1.423077e+09          2.0        -        1   \n",
       "4       1.000710e+09      2.124260e+09        132.0        -        -   \n",
       "\n",
       "   CommunitySize  NumCommits  NumForks FileInfo        RootFork  \n",
       "0            2.0      179968       0.0    C/C++             NaN  \n",
       "1        23892.0      673525   25343.0    C/C++     rails_rails  \n",
       "2       112489.0    36468389  237104.0    C/C++  torvalds_linux  \n",
       "3            1.0      495786       0.0    C/C++               -  \n",
       "4            1.0      381506       0.0    C/C++               -  \n",
       "\n",
       "[5 rows x 24 columns]"
      ]
     },
     "execution_count": 162,
     "metadata": {},
     "output_type": "execute_result"
    }
   ],
   "source": [
    "df.head()"
   ]
  },
  {
   "cell_type": "code",
   "execution_count": 70,
   "id": "12c12159",
   "metadata": {},
   "outputs": [
    {
     "data": {
      "text/plain": [
       "FileInfo    status  \n",
       "C/C++       notfixed    0.664874\n",
       "            fixed       0.213902\n",
       "            unknown     0.121225\n",
       "Go          fixed       1.000000\n",
       "Java        notfixed    1.000000\n",
       "JavaScript  fixed       0.961538\n",
       "            notfixed    0.038462\n",
       "Lisp        fixed       1.000000\n",
       "PHP         fixed       1.000000\n",
       "Perl        fixed       1.000000\n",
       "Python      notfixed    1.000000\n",
       "Ruby        fixed       1.000000\n",
       "Name: status, dtype: float64"
      ]
     },
     "execution_count": 70,
     "metadata": {},
     "output_type": "execute_result"
    }
   ],
   "source": [
    "df[df[\"CommunitySize\"] > 10].groupby([\"FileInfo\"])[\"status\"].value_counts(normalize = True)"
   ]
  }
 ],
 "metadata": {
  "kernelspec": {
   "display_name": "Python 3 (ipykernel)",
   "language": "python",
   "name": "python3"
  },
  "language_info": {
   "codemirror_mode": {
    "name": "ipython",
    "version": 3
   },
   "file_extension": ".py",
   "mimetype": "text/x-python",
   "name": "python",
   "nbconvert_exporter": "python",
   "pygments_lexer": "ipython3",
   "version": "3.10.6"
  }
 },
 "nbformat": 4,
 "nbformat_minor": 5
}
