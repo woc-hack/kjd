{
 "cells": [
  {
   "cell_type": "code",
   "execution_count": 1,
   "id": "33ee8e52",
   "metadata": {},
   "outputs": [],
   "source": [
    "folder_with_results = \"../kjd-tmp/output.8-15/\""
   ]
  },
  {
   "cell_type": "code",
   "execution_count": 2,
   "id": "c4a240bb",
   "metadata": {},
   "outputs": [],
   "source": [
    "file_name = folder_with_results + \"out1/CVE-1999-0731/results.fixed.csv\""
   ]
  },
  {
   "cell_type": "code",
   "execution_count": 3,
   "id": "ce608910",
   "metadata": {},
   "outputs": [],
   "source": [
    "import pandas as pd\n",
    "\n",
    "df = pd.read_csv(file_name)"
   ]
  },
  {
   "cell_type": "code",
   "execution_count": null,
   "id": "db3976da",
   "metadata": {},
   "outputs": [],
   "source": []
  },
  {
   "cell_type": "code",
   "execution_count": 4,
   "id": "74e36bdb",
   "metadata": {},
   "outputs": [
    {
     "data": {
      "text/html": [
       "<div>\n",
       "<style scoped>\n",
       "    .dataframe tbody tr th:only-of-type {\n",
       "        vertical-align: middle;\n",
       "    }\n",
       "\n",
       "    .dataframe tbody tr th {\n",
       "        vertical-align: top;\n",
       "    }\n",
       "\n",
       "    .dataframe thead th {\n",
       "        text-align: right;\n",
       "    }\n",
       "</style>\n",
       "<table border=\"1\" class=\"dataframe\">\n",
       "  <thead>\n",
       "    <tr style=\"text-align: right;\">\n",
       "      <th></th>\n",
       "      <th>index</th>\n",
       "      <th>project</th>\n",
       "      <th>first bad blob commit</th>\n",
       "      <th>first bad commit time</th>\n",
       "      <th>formatted time</th>\n",
       "      <th>num commits</th>\n",
       "      <th>CVE</th>\n",
       "      <th>from_file</th>\n",
       "    </tr>\n",
       "  </thead>\n",
       "  <tbody>\n",
       "    <tr>\n",
       "      <th>0</th>\n",
       "      <td>0</td>\n",
       "      <td>Broadcom_stblinux-2.6.18</td>\n",
       "      <td>fa7fc3b9cc81eb1a186189157aa10dcf0936fc50</td>\n",
       "      <td>1171670293</td>\n",
       "      <td>2007-02-16:18:58:13</td>\n",
       "      <td>30</td>\n",
       "      <td>CVE-2006-5331</td>\n",
       "      <td>../kjd-tmp/output.8-15/out1/CVE-2006-5331/resu...</td>\n",
       "    </tr>\n",
       "    <tr>\n",
       "      <th>1</th>\n",
       "      <td>1</td>\n",
       "      <td>gitlab.com_untangle.com_ngfw_kernels</td>\n",
       "      <td>fe8eb448622e700a643828ca197b7235552963e4</td>\n",
       "      <td>1273159376</td>\n",
       "      <td>2010-05-06:11:22:56</td>\n",
       "      <td>unknown (gitlab)</td>\n",
       "      <td>CVE-2006-5331</td>\n",
       "      <td>../kjd-tmp/output.8-15/out1/CVE-2006-5331/resu...</td>\n",
       "    </tr>\n",
       "    <tr>\n",
       "      <th>2</th>\n",
       "      <td>0</td>\n",
       "      <td>791254467_u8500_kernel</td>\n",
       "      <td>3f8d98ce83e231ac462e865f06f8a3e75cd06a90</td>\n",
       "      <td>1388656090.0</td>\n",
       "      <td>2014-01-02:04:48:10</td>\n",
       "      <td>169</td>\n",
       "      <td>CVE-2012-6544</td>\n",
       "      <td>../kjd-tmp/output.8-15/out2/CVE-2012-6544/resu...</td>\n",
       "    </tr>\n",
       "    <tr>\n",
       "      <th>3</th>\n",
       "      <td>1</td>\n",
       "      <td>7zrcn_hwp6s-kernel</td>\n",
       "      <td>3f299fba0b32e919d7bc116c25bf86e926c67d4b</td>\n",
       "      <td>1425052154.0</td>\n",
       "      <td>2015-02-27:10:49:14</td>\n",
       "      <td>1484</td>\n",
       "      <td>CVE-2012-6544</td>\n",
       "      <td>../kjd-tmp/output.8-15/out2/CVE-2012-6544/resu...</td>\n",
       "    </tr>\n",
       "    <tr>\n",
       "      <th>4</th>\n",
       "      <td>2</td>\n",
       "      <td>Abhinav1997_kernel-diff</td>\n",
       "      <td>1a7a30143d8b5658436d2cfe0b32ae84a53ea0f6</td>\n",
       "      <td>1399582779.0</td>\n",
       "      <td>2014-05-08:16:59:39</td>\n",
       "      <td>19</td>\n",
       "      <td>CVE-2012-6544</td>\n",
       "      <td>../kjd-tmp/output.8-15/out2/CVE-2012-6544/resu...</td>\n",
       "    </tr>\n",
       "    <tr>\n",
       "      <th>...</th>\n",
       "      <td>...</td>\n",
       "      <td>...</td>\n",
       "      <td>...</td>\n",
       "      <td>...</td>\n",
       "      <td>...</td>\n",
       "      <td>...</td>\n",
       "      <td>...</td>\n",
       "      <td>...</td>\n",
       "    </tr>\n",
       "    <tr>\n",
       "      <th>940</th>\n",
       "      <td>58</td>\n",
       "      <td>n0thing2speak_macos</td>\n",
       "      <td>46f313a4a89f2118c03c2c96deb7e99ea7a43c5f</td>\n",
       "      <td>985392000.0</td>\n",
       "      <td>2001-03-23:19:00:00</td>\n",
       "      <td>107</td>\n",
       "      <td>CVE-2021-28041</td>\n",
       "      <td>../kjd-tmp/output.8-15/out16/CVE-2021-28041/re...</td>\n",
       "    </tr>\n",
       "    <tr>\n",
       "      <th>941</th>\n",
       "      <td>59</td>\n",
       "      <td>pexip_os-openssh</td>\n",
       "      <td>be8cc99f2cd92fdc8add27ba516a98a8c8df9342</td>\n",
       "      <td>1387933976.0</td>\n",
       "      <td>2013-12-24:20:12:56</td>\n",
       "      <td>112</td>\n",
       "      <td>CVE-2021-28041</td>\n",
       "      <td>../kjd-tmp/output.8-15/out16/CVE-2021-28041/re...</td>\n",
       "    </tr>\n",
       "    <tr>\n",
       "      <th>942</th>\n",
       "      <td>60</td>\n",
       "      <td>tizenorg_platform.upstream.openssh</td>\n",
       "      <td>a6bbcaaac6f8ad258bc174c3e5c5c18f617921b0</td>\n",
       "      <td>1352152557.0</td>\n",
       "      <td>2012-11-05:16:55:57</td>\n",
       "      <td>39</td>\n",
       "      <td>CVE-2021-28041</td>\n",
       "      <td>../kjd-tmp/output.8-15/out16/CVE-2021-28041/re...</td>\n",
       "    </tr>\n",
       "    <tr>\n",
       "      <th>943</th>\n",
       "      <td>61</td>\n",
       "      <td>unofficial-opensource-apple_OpenSSH</td>\n",
       "      <td>0d184af8bddc7fecfc53ede22593e705bcb61c40</td>\n",
       "      <td>1233864770.0</td>\n",
       "      <td>2009-02-05:15:12:50</td>\n",
       "      <td>25</td>\n",
       "      <td>CVE-2021-28041</td>\n",
       "      <td>../kjd-tmp/output.8-15/out16/CVE-2021-28041/re...</td>\n",
       "    </tr>\n",
       "    <tr>\n",
       "      <th>944</th>\n",
       "      <td>0</td>\n",
       "      <td>serghey-rodin_vesta</td>\n",
       "      <td>067a2c862a10057d478420395cc84227d4d9b0df</td>\n",
       "      <td>1432854475</td>\n",
       "      <td>2015-05-28:19:07:55</td>\n",
       "      <td>5123</td>\n",
       "      <td>CVE-2021-28379</td>\n",
       "      <td>../kjd-tmp/output.8-15/out16/CVE-2021-28379/re...</td>\n",
       "    </tr>\n",
       "  </tbody>\n",
       "</table>\n",
       "<p>945 rows × 8 columns</p>\n",
       "</div>"
      ],
      "text/plain": [
       "     index                               project  \\\n",
       "0        0              Broadcom_stblinux-2.6.18   \n",
       "1        1  gitlab.com_untangle.com_ngfw_kernels   \n",
       "2        0                791254467_u8500_kernel   \n",
       "3        1                    7zrcn_hwp6s-kernel   \n",
       "4        2               Abhinav1997_kernel-diff   \n",
       "..     ...                                   ...   \n",
       "940     58                   n0thing2speak_macos   \n",
       "941     59                      pexip_os-openssh   \n",
       "942     60    tizenorg_platform.upstream.openssh   \n",
       "943     61   unofficial-opensource-apple_OpenSSH   \n",
       "944      0                   serghey-rodin_vesta   \n",
       "\n",
       "                        first bad blob commit first bad commit time  \\\n",
       "0    fa7fc3b9cc81eb1a186189157aa10dcf0936fc50            1171670293   \n",
       "1    fe8eb448622e700a643828ca197b7235552963e4            1273159376   \n",
       "2    3f8d98ce83e231ac462e865f06f8a3e75cd06a90          1388656090.0   \n",
       "3    3f299fba0b32e919d7bc116c25bf86e926c67d4b          1425052154.0   \n",
       "4    1a7a30143d8b5658436d2cfe0b32ae84a53ea0f6          1399582779.0   \n",
       "..                                        ...                   ...   \n",
       "940  46f313a4a89f2118c03c2c96deb7e99ea7a43c5f           985392000.0   \n",
       "941  be8cc99f2cd92fdc8add27ba516a98a8c8df9342          1387933976.0   \n",
       "942  a6bbcaaac6f8ad258bc174c3e5c5c18f617921b0          1352152557.0   \n",
       "943  0d184af8bddc7fecfc53ede22593e705bcb61c40          1233864770.0   \n",
       "944  067a2c862a10057d478420395cc84227d4d9b0df            1432854475   \n",
       "\n",
       "          formatted time       num commits             CVE  \\\n",
       "0    2007-02-16:18:58:13                30   CVE-2006-5331   \n",
       "1    2010-05-06:11:22:56  unknown (gitlab)   CVE-2006-5331   \n",
       "2    2014-01-02:04:48:10               169   CVE-2012-6544   \n",
       "3    2015-02-27:10:49:14              1484   CVE-2012-6544   \n",
       "4    2014-05-08:16:59:39                19   CVE-2012-6544   \n",
       "..                   ...               ...             ...   \n",
       "940  2001-03-23:19:00:00               107  CVE-2021-28041   \n",
       "941  2013-12-24:20:12:56               112  CVE-2021-28041   \n",
       "942  2012-11-05:16:55:57                39  CVE-2021-28041   \n",
       "943  2009-02-05:15:12:50                25  CVE-2021-28041   \n",
       "944  2015-05-28:19:07:55              5123  CVE-2021-28379   \n",
       "\n",
       "                                             from_file  \n",
       "0    ../kjd-tmp/output.8-15/out1/CVE-2006-5331/resu...  \n",
       "1    ../kjd-tmp/output.8-15/out1/CVE-2006-5331/resu...  \n",
       "2    ../kjd-tmp/output.8-15/out2/CVE-2012-6544/resu...  \n",
       "3    ../kjd-tmp/output.8-15/out2/CVE-2012-6544/resu...  \n",
       "4    ../kjd-tmp/output.8-15/out2/CVE-2012-6544/resu...  \n",
       "..                                                 ...  \n",
       "940  ../kjd-tmp/output.8-15/out16/CVE-2021-28041/re...  \n",
       "941  ../kjd-tmp/output.8-15/out16/CVE-2021-28041/re...  \n",
       "942  ../kjd-tmp/output.8-15/out16/CVE-2021-28041/re...  \n",
       "943  ../kjd-tmp/output.8-15/out16/CVE-2021-28041/re...  \n",
       "944  ../kjd-tmp/output.8-15/out16/CVE-2021-28379/re...  \n",
       "\n",
       "[945 rows x 8 columns]"
      ]
     },
     "execution_count": 4,
     "metadata": {},
     "output_type": "execute_result"
    }
   ],
   "source": [
    "import os\n",
    "\n",
    "df_notfixed = pd.DataFrame()\n",
    "df_fixed = pd.DataFrame()\n",
    "df_unknown = pd.DataFrame()\n",
    "\n",
    "notfixed_file = \"/results.notfixed.csv\"\n",
    "fixed_file = \"/results.fixed.csv\"\n",
    "unknown_file = \"/results.unknown.csv\"\n",
    "\n",
    "for i in range(1,17):\n",
    "    subfolder = folder_with_results + \"out\" + str(i) + \"/\"\n",
    "    for f in os.scandir(subfolder):\n",
    "        if \"CVE\" in f.name:\n",
    "        \n",
    "            temp_notfixed_file = subfolder + f.name + notfixed_file\n",
    "            if (os.path.isfile(temp_notfixed_file)):\n",
    "                df_temp_notfixed = pd.read_csv(temp_notfixed_file, skipinitialspace=True)\n",
    "                df_temp_notfixed['CVE'] = f.name\n",
    "                df_temp_notfixed['from_file'] = temp_notfixed_file\n",
    "                df_notfixed = pd.concat([df_notfixed, df_temp_notfixed])\n",
    "            \n",
    "            temp_fixed_file = subfolder + f.name + fixed_file\n",
    "            if (os.path.isfile(temp_fixed_file)):\n",
    "                df_temp_fixed = pd.read_csv(temp_fixed_file, skipinitialspace=True)\n",
    "                df_temp_fixed['CVE'] = f.name\n",
    "                df_temp_fixed['from_file'] = temp_fixed_file\n",
    "                df_fixed = pd.concat([df_fixed, df_temp_fixed])\n",
    "            \n",
    "            temp_unknown_file = subfolder + f.name + unknown_file\n",
    "            if (os.path.isfile(temp_unknown_file)):\n",
    "                df_temp_unknown = pd.read_csv(temp_unknown_file, skipinitialspace=True)\n",
    "                df_temp_unknown['CVE'] = f.name\n",
    "                df_temp_unknown['from_file'] = temp_unknown_file\n",
    "                df_unknown = pd.concat([df_unknown, df_temp_unknown])\n",
    "        \n",
    "df_notfixed.reset_index()\n",
    "df_fixed.reset_index()\n",
    "df_unknown.reset_index()"
   ]
  },
  {
   "cell_type": "code",
   "execution_count": 5,
   "id": "c1225dc6",
   "metadata": {},
   "outputs": [
    {
     "name": "stdout",
     "output_type": "stream",
     "text": [
      "../kjd-tmp/output.8-15/out1/CVE-2006-5331/results.fixed.csv\n",
      "../kjd-tmp/output.8-15/out1/CVE-2006-5331/results.fixed.csv\n",
      "../kjd-tmp/output.8-15/out1/CVE-2006-5331/results.fixed.csv\n",
      "../kjd-tmp/output.8-15/out1/CVE-2006-5331/results.fixed.csv\n",
      "../kjd-tmp/output.8-15/out1/CVE-2006-5331/results.fixed.csv\n",
      "../kjd-tmp/output.8-15/out1/CVE-2006-5331/results.fixed.csv\n",
      "../kjd-tmp/output.8-15/out1/CVE-2006-5331/results.fixed.csv\n",
      "../kjd-tmp/output.8-15/out1/CVE-2006-5331/results.fixed.csv\n",
      "../kjd-tmp/output.8-15/out1/CVE-2006-5331/results.fixed.csv\n",
      "../kjd-tmp/output.8-15/out1/CVE-2006-5331/results.fixed.csv\n",
      "../kjd-tmp/output.8-15/out1/CVE-2006-5331/results.fixed.csv\n",
      "../kjd-tmp/output.8-15/out1/CVE-2006-5331/results.fixed.csv\n",
      "../kjd-tmp/output.8-15/out1/CVE-2006-5331/results.fixed.csv\n",
      "../kjd-tmp/output.8-15/out1/CVE-2006-5331/results.fixed.csv\n",
      "../kjd-tmp/output.8-15/out1/CVE-2006-5331/results.fixed.csv\n",
      "../kjd-tmp/output.8-15/out1/CVE-2007-6761/results.fixed.csv\n",
      "../kjd-tmp/output.8-15/out1/CVE-2007-6761/results.fixed.csv\n",
      "../kjd-tmp/output.8-15/out1/CVE-2007-6761/results.fixed.csv\n",
      "../kjd-tmp/output.8-15/out1/CVE-2007-6761/results.fixed.csv\n",
      "../kjd-tmp/output.8-15/out1/CVE-2007-6761/results.fixed.csv\n",
      "../kjd-tmp/output.8-15/out1/CVE-2007-6762/results.fixed.csv\n",
      "../kjd-tmp/output.8-15/out1/CVE-2007-6762/results.fixed.csv\n",
      "../kjd-tmp/output.8-15/out1/CVE-2007-6762/results.fixed.csv\n",
      "../kjd-tmp/output.8-15/out1/CVE-2007-6762/results.fixed.csv\n",
      "../kjd-tmp/output.8-15/out1/CVE-2007-6762/results.fixed.csv\n",
      "../kjd-tmp/output.8-15/out1/CVE-2007-6762/results.fixed.csv\n",
      "../kjd-tmp/output.8-15/out1/CVE-2007-6762/results.fixed.csv\n",
      "../kjd-tmp/output.8-15/out1/CVE-2007-6762/results.fixed.csv\n",
      "../kjd-tmp/output.8-15/out1/CVE-2007-6762/results.fixed.csv\n",
      "../kjd-tmp/output.8-15/out1/CVE-2007-6762/results.fixed.csv\n",
      "../kjd-tmp/output.8-15/out1/CVE-2007-6762/results.fixed.csv\n",
      "../kjd-tmp/output.8-15/out1/CVE-2007-6762/results.fixed.csv\n",
      "../kjd-tmp/output.8-15/out1/CVE-2007-6762/results.fixed.csv\n",
      "../kjd-tmp/output.8-15/out1/CVE-2007-6762/results.fixed.csv\n",
      "../kjd-tmp/output.8-15/out1/CVE-2002-2443/results.fixed.csv\n",
      "../kjd-tmp/output.8-15/out1/CVE-2002-2443/results.fixed.csv\n",
      "../kjd-tmp/output.8-15/out1/CVE-2002-2443/results.fixed.csv\n",
      "../kjd-tmp/output.8-15/out1/CVE-2002-2443/results.fixed.csv\n",
      "../kjd-tmp/output.8-15/out3/CVE-2013-7022/results.fixed.csv\n",
      "../kjd-tmp/output.8-15/out3/CVE-2013-7022/results.fixed.csv\n",
      "../kjd-tmp/output.8-15/out3/CVE-2013-7022/results.fixed.csv\n",
      "../kjd-tmp/output.8-15/out3/CVE-2013-7022/results.fixed.csv\n",
      "../kjd-tmp/output.8-15/out3/CVE-2013-7022/results.fixed.csv\n",
      "../kjd-tmp/output.8-15/out3/CVE-2013-7022/results.fixed.csv\n",
      "../kjd-tmp/output.8-15/out3/CVE-2013-7022/results.fixed.csv\n",
      "../kjd-tmp/output.8-15/out3/CVE-2013-7020/results.fixed.csv\n",
      "../kjd-tmp/output.8-15/out3/CVE-2013-7020/results.fixed.csv\n",
      "../kjd-tmp/output.8-15/out3/CVE-2013-7020/results.fixed.csv\n",
      "../kjd-tmp/output.8-15/out3/CVE-2013-7020/results.fixed.csv\n",
      "../kjd-tmp/output.8-15/out3/CVE-2013-7020/results.fixed.csv\n",
      "../kjd-tmp/output.8-15/out3/CVE-2013-7020/results.fixed.csv\n",
      "../kjd-tmp/output.8-15/out3/CVE-2013-7020/results.fixed.csv\n",
      "../kjd-tmp/output.8-15/out3/CVE-2013-7020/results.fixed.csv\n",
      "../kjd-tmp/output.8-15/out3/CVE-2013-7020/results.fixed.csv\n",
      "../kjd-tmp/output.8-15/out3/CVE-2013-7020/results.fixed.csv\n",
      "../kjd-tmp/output.8-15/out3/CVE-2013-7020/results.fixed.csv\n",
      "../kjd-tmp/output.8-15/out3/CVE-2013-7020/results.fixed.csv\n",
      "../kjd-tmp/output.8-15/out3/CVE-2013-7020/results.fixed.csv\n",
      "../kjd-tmp/output.8-15/out3/CVE-2013-7020/results.fixed.csv\n",
      "../kjd-tmp/output.8-15/out3/CVE-2013-7020/results.fixed.csv\n",
      "../kjd-tmp/output.8-15/out3/CVE-2013-7020/results.fixed.csv\n",
      "../kjd-tmp/output.8-15/out3/CVE-2013-7020/results.fixed.csv\n",
      "../kjd-tmp/output.8-15/out3/CVE-2013-7018/results.fixed.csv\n",
      "../kjd-tmp/output.8-15/out3/CVE-2013-7018/results.fixed.csv\n",
      "../kjd-tmp/output.8-15/out3/CVE-2013-7018/results.fixed.csv\n",
      "../kjd-tmp/output.8-15/out3/CVE-2013-7018/results.fixed.csv\n",
      "../kjd-tmp/output.8-15/out3/CVE-2013-7018/results.fixed.csv\n",
      "../kjd-tmp/output.8-15/out3/CVE-2013-7018/results.fixed.csv\n",
      "../kjd-tmp/output.8-15/out3/CVE-2013-7018/results.fixed.csv\n",
      "../kjd-tmp/output.8-15/out3/CVE-2013-7018/results.fixed.csv\n",
      "../kjd-tmp/output.8-15/out3/CVE-2013-7018/results.fixed.csv\n",
      "../kjd-tmp/output.8-15/out3/CVE-2013-7018/results.fixed.csv\n",
      "../kjd-tmp/output.8-15/out3/CVE-2013-7018/results.fixed.csv\n",
      "../kjd-tmp/output.8-15/out3/CVE-2013-7018/results.fixed.csv\n",
      "../kjd-tmp/output.8-15/out3/CVE-2013-7016/results.fixed.csv\n",
      "../kjd-tmp/output.8-15/out3/CVE-2013-7016/results.fixed.csv\n",
      "../kjd-tmp/output.8-15/out3/CVE-2013-7016/results.fixed.csv\n",
      "../kjd-tmp/output.8-15/out3/CVE-2013-7016/results.fixed.csv\n",
      "../kjd-tmp/output.8-15/out3/CVE-2013-7016/results.fixed.csv\n",
      "../kjd-tmp/output.8-15/out3/CVE-2013-7016/results.fixed.csv\n",
      "../kjd-tmp/output.8-15/out3/CVE-2013-7016/results.fixed.csv\n",
      "../kjd-tmp/output.8-15/out3/CVE-2013-7016/results.fixed.csv\n",
      "../kjd-tmp/output.8-15/out3/CVE-2013-7016/results.fixed.csv\n",
      "../kjd-tmp/output.8-15/out3/CVE-2013-7016/results.fixed.csv\n",
      "../kjd-tmp/output.8-15/out3/CVE-2013-7016/results.fixed.csv\n",
      "../kjd-tmp/output.8-15/out3/CVE-2013-7016/results.fixed.csv\n",
      "../kjd-tmp/output.8-15/out3/CVE-2013-7017/results.fixed.csv\n",
      "../kjd-tmp/output.8-15/out3/CVE-2013-7017/results.fixed.csv\n",
      "../kjd-tmp/output.8-15/out3/CVE-2013-7017/results.fixed.csv\n",
      "../kjd-tmp/output.8-15/out3/CVE-2013-7017/results.fixed.csv\n",
      "../kjd-tmp/output.8-15/out3/CVE-2013-7017/results.fixed.csv\n",
      "../kjd-tmp/output.8-15/out3/CVE-2013-7017/results.fixed.csv\n",
      "../kjd-tmp/output.8-15/out3/CVE-2013-7017/results.fixed.csv\n",
      "../kjd-tmp/output.8-15/out3/CVE-2013-7017/results.fixed.csv\n",
      "../kjd-tmp/output.8-15/out3/CVE-2013-7017/results.fixed.csv\n",
      "../kjd-tmp/output.8-15/out3/CVE-2013-7017/results.fixed.csv\n",
      "../kjd-tmp/output.8-15/out3/CVE-2013-7017/results.fixed.csv\n",
      "../kjd-tmp/output.8-15/out3/CVE-2013-7017/results.fixed.csv\n",
      "../kjd-tmp/output.8-15/out3/CVE-2013-7019/results.fixed.csv\n",
      "../kjd-tmp/output.8-15/out3/CVE-2013-7019/results.fixed.csv\n",
      "../kjd-tmp/output.8-15/out3/CVE-2013-7019/results.fixed.csv\n",
      "../kjd-tmp/output.8-15/out3/CVE-2013-7019/results.fixed.csv\n",
      "../kjd-tmp/output.8-15/out3/CVE-2013-7019/results.fixed.csv\n",
      "../kjd-tmp/output.8-15/out3/CVE-2013-7019/results.fixed.csv\n",
      "../kjd-tmp/output.8-15/out3/CVE-2013-7019/results.fixed.csv\n",
      "../kjd-tmp/output.8-15/out3/CVE-2013-7019/results.fixed.csv\n",
      "../kjd-tmp/output.8-15/out3/CVE-2013-7019/results.fixed.csv\n",
      "../kjd-tmp/output.8-15/out3/CVE-2013-7019/results.fixed.csv\n",
      "../kjd-tmp/output.8-15/out3/CVE-2013-7019/results.fixed.csv\n",
      "../kjd-tmp/output.8-15/out3/CVE-2013-7019/results.fixed.csv\n",
      "../kjd-tmp/output.8-15/out3/CVE-2013-7021/results.fixed.csv\n",
      "../kjd-tmp/output.8-15/out3/CVE-2013-7021/results.fixed.csv\n",
      "../kjd-tmp/output.8-15/out3/CVE-2013-7021/results.fixed.csv\n",
      "../kjd-tmp/output.8-15/out3/CVE-2013-7021/results.fixed.csv\n",
      "../kjd-tmp/output.8-15/out3/CVE-2013-7021/results.fixed.csv\n",
      "../kjd-tmp/output.8-15/out3/CVE-2013-7021/results.fixed.csv\n",
      "../kjd-tmp/output.8-15/out3/CVE-2013-7021/results.fixed.csv\n",
      "../kjd-tmp/output.8-15/out3/CVE-2013-7021/results.fixed.csv\n",
      "../kjd-tmp/output.8-15/out3/CVE-2013-7021/results.fixed.csv\n",
      "../kjd-tmp/output.8-15/out3/CVE-2013-7021/results.fixed.csv\n",
      "../kjd-tmp/output.8-15/out3/CVE-2013-7021/results.fixed.csv\n",
      "../kjd-tmp/output.8-15/out3/CVE-2013-7021/results.fixed.csv\n",
      "../kjd-tmp/output.8-15/out3/CVE-2013-7021/results.fixed.csv\n",
      "../kjd-tmp/output.8-15/out3/CVE-2013-7021/results.fixed.csv\n",
      "../kjd-tmp/output.8-15/out3/CVE-2013-7021/results.fixed.csv\n",
      "../kjd-tmp/output.8-15/out3/CVE-2013-7021/results.fixed.csv\n",
      "../kjd-tmp/output.8-15/out3/CVE-2013-7021/results.fixed.csv\n",
      "../kjd-tmp/output.8-15/out3/CVE-2013-7021/results.fixed.csv\n",
      "../kjd-tmp/output.8-15/out3/CVE-2013-7021/results.fixed.csv\n",
      "../kjd-tmp/output.8-15/out3/CVE-2013-7021/results.fixed.csv\n",
      "../kjd-tmp/output.8-15/out3/CVE-2013-7021/results.fixed.csv\n",
      "../kjd-tmp/output.8-15/out3/CVE-2013-7021/results.fixed.csv\n",
      "../kjd-tmp/output.8-15/out3/CVE-2013-7021/results.fixed.csv\n",
      "../kjd-tmp/output.8-15/out3/CVE-2013-7021/results.fixed.csv\n",
      "../kjd-tmp/output.8-15/out3/CVE-2013-7021/results.fixed.csv\n",
      "../kjd-tmp/output.8-15/out3/CVE-2013-7021/results.fixed.csv\n",
      "../kjd-tmp/output.8-15/out4/CVE-2014-8324/results.fixed.csv\n",
      "../kjd-tmp/output.8-15/out4/CVE-2014-8324/results.fixed.csv\n",
      "../kjd-tmp/output.8-15/out4/CVE-2014-8324/results.fixed.csv\n",
      "../kjd-tmp/output.8-15/out4/CVE-2014-8324/results.fixed.csv\n",
      "../kjd-tmp/output.8-15/out4/CVE-2014-8324/results.fixed.csv\n",
      "../kjd-tmp/output.8-15/out4/CVE-2014-8324/results.fixed.csv\n",
      "../kjd-tmp/output.8-15/out4/CVE-2014-8324/results.fixed.csv\n",
      "../kjd-tmp/output.8-15/out4/CVE-2014-8324/results.fixed.csv\n",
      "../kjd-tmp/output.8-15/out4/CVE-2014-8324/results.fixed.csv\n",
      "../kjd-tmp/output.8-15/out4/CVE-2014-8324/results.fixed.csv\n",
      "../kjd-tmp/output.8-15/out4/CVE-2014-8324/results.fixed.csv\n",
      "../kjd-tmp/output.8-15/out4/CVE-2014-8324/results.fixed.csv\n",
      "../kjd-tmp/output.8-15/out4/CVE-2014-8324/results.fixed.csv\n",
      "../kjd-tmp/output.8-15/out4/CVE-2014-8324/results.fixed.csv\n",
      "../kjd-tmp/output.8-15/out4/CVE-2014-8323/results.fixed.csv\n",
      "../kjd-tmp/output.8-15/out4/CVE-2014-8323/results.fixed.csv\n",
      "../kjd-tmp/output.8-15/out4/CVE-2014-8323/results.fixed.csv\n",
      "../kjd-tmp/output.8-15/out4/CVE-2014-8323/results.fixed.csv\n",
      "../kjd-tmp/output.8-15/out4/CVE-2014-8323/results.fixed.csv\n",
      "../kjd-tmp/output.8-15/out4/CVE-2014-8323/results.fixed.csv\n",
      "../kjd-tmp/output.8-15/out4/CVE-2014-8323/results.fixed.csv\n",
      "../kjd-tmp/output.8-15/out4/CVE-2014-8326/results.fixed.csv\n",
      "../kjd-tmp/output.8-15/out4/CVE-2014-8326/results.fixed.csv\n",
      "../kjd-tmp/output.8-15/out4/CVE-2014-8326/results.fixed.csv\n",
      "../kjd-tmp/output.8-15/out4/CVE-2014-8326/results.fixed.csv\n",
      "../kjd-tmp/output.8-15/out4/CVE-2014-8326/results.fixed.csv\n",
      "../kjd-tmp/output.8-15/out4/CVE-2014-8326/results.fixed.csv\n",
      "../kjd-tmp/output.8-15/out4/CVE-2014-8326/results.fixed.csv\n",
      "../kjd-tmp/output.8-15/out4/CVE-2014-8326/results.fixed.csv\n",
      "../kjd-tmp/output.8-15/out4/CVE-2014-8326/results.fixed.csv\n",
      "../kjd-tmp/output.8-15/out4/CVE-2014-8326/results.fixed.csv\n",
      "../kjd-tmp/output.8-15/out4/CVE-2014-8326/results.fixed.csv\n",
      "../kjd-tmp/output.8-15/out4/CVE-2014-8326/results.fixed.csv\n",
      "../kjd-tmp/output.8-15/out4/CVE-2014-8326/results.fixed.csv\n",
      "../kjd-tmp/output.8-15/out4/CVE-2014-8326/results.fixed.csv\n",
      "../kjd-tmp/output.8-15/out4/CVE-2014-8326/results.fixed.csv\n",
      "../kjd-tmp/output.8-15/out4/CVE-2014-8326/results.fixed.csv\n",
      "../kjd-tmp/output.8-15/out4/CVE-2014-8326/results.fixed.csv\n",
      "../kjd-tmp/output.8-15/out4/CVE-2014-8326/results.fixed.csv\n",
      "../kjd-tmp/output.8-15/out4/CVE-2014-8326/results.fixed.csv\n",
      "../kjd-tmp/output.8-15/out4/CVE-2014-8326/results.fixed.csv\n",
      "../kjd-tmp/output.8-15/out4/CVE-2014-8326/results.fixed.csv\n",
      "../kjd-tmp/output.8-15/out4/CVE-2014-8326/results.fixed.csv\n",
      "../kjd-tmp/output.8-15/out4/CVE-2014-8326/results.fixed.csv\n",
      "../kjd-tmp/output.8-15/out4/CVE-2014-8326/results.fixed.csv\n",
      "../kjd-tmp/output.8-15/out4/CVE-2014-8326/results.fixed.csv\n",
      "../kjd-tmp/output.8-15/out4/CVE-2014-8326/results.fixed.csv\n",
      "../kjd-tmp/output.8-15/out4/CVE-2014-8326/results.fixed.csv\n",
      "../kjd-tmp/output.8-15/out4/CVE-2014-8326/results.fixed.csv\n",
      "../kjd-tmp/output.8-15/out4/CVE-2014-8326/results.fixed.csv\n",
      "../kjd-tmp/output.8-15/out4/CVE-2014-8326/results.fixed.csv\n",
      "../kjd-tmp/output.8-15/out6/CVE-2016-1245/results.fixed.csv\n",
      "../kjd-tmp/output.8-15/out6/CVE-2016-1245/results.fixed.csv\n",
      "../kjd-tmp/output.8-15/out6/CVE-2016-1245/results.fixed.csv\n",
      "../kjd-tmp/output.8-15/out6/CVE-2016-1541/results.fixed.csv\n",
      "../kjd-tmp/output.8-15/out6/CVE-2016-1541/results.fixed.csv\n",
      "../kjd-tmp/output.8-15/out6/CVE-2016-1541/results.fixed.csv\n",
      "../kjd-tmp/output.8-15/out6/CVE-2016-1541/results.fixed.csv\n",
      "../kjd-tmp/output.8-15/out6/CVE-2016-1541/results.fixed.csv\n",
      "../kjd-tmp/output.8-15/out6/CVE-2016-1541/results.fixed.csv\n",
      "../kjd-tmp/output.8-15/out6/CVE-2016-1541/results.fixed.csv\n",
      "../kjd-tmp/output.8-15/out6/CVE-2016-1541/results.fixed.csv\n",
      "../kjd-tmp/output.8-15/out6/CVE-2016-1541/results.fixed.csv\n",
      "../kjd-tmp/output.8-15/out6/CVE-2016-1541/results.fixed.csv\n",
      "../kjd-tmp/output.8-15/out6/CVE-2016-1541/results.fixed.csv\n",
      "../kjd-tmp/output.8-15/out6/CVE-2016-1541/results.fixed.csv\n",
      "../kjd-tmp/output.8-15/out6/CVE-2016-1541/results.fixed.csv\n",
      "../kjd-tmp/output.8-15/out6/CVE-2016-1541/results.fixed.csv\n",
      "../kjd-tmp/output.8-15/out6/CVE-2016-1541/results.fixed.csv\n",
      "../kjd-tmp/output.8-15/out6/CVE-2016-1246/results.fixed.csv\n",
      "../kjd-tmp/output.8-15/out7/CVE-2016-7537/results.fixed.csv\n",
      "../kjd-tmp/output.8-15/out7/CVE-2016-7537/results.fixed.csv\n",
      "../kjd-tmp/output.8-15/out7/CVE-2016-7553/results.fixed.csv\n",
      "../kjd-tmp/output.8-15/out7/CVE-2016-7538/results.fixed.csv\n",
      "../kjd-tmp/output.8-15/out7/CVE-2016-7538/results.fixed.csv\n",
      "../kjd-tmp/output.8-15/out7/CVE-2016-7525/results.fixed.csv\n",
      "../kjd-tmp/output.8-15/out7/CVE-2016-7525/results.fixed.csv\n",
      "../kjd-tmp/output.8-15/out7/CVE-2016-7524/results.fixed.csv\n",
      "../kjd-tmp/output.8-15/out7/CVE-2016-7524/results.fixed.csv\n",
      "../kjd-tmp/output.8-15/out7/CVE-2016-7533/results.fixed.csv\n",
      "../kjd-tmp/output.8-15/out7/CVE-2016-7533/results.fixed.csv\n",
      "../kjd-tmp/output.8-15/out7/CVE-2016-7797/results.fixed.csv\n",
      "../kjd-tmp/output.8-15/out7/CVE-2016-7797/results.fixed.csv\n",
      "../kjd-tmp/output.8-15/out7/CVE-2016-7532/results.fixed.csv\n",
      "../kjd-tmp/output.8-15/out7/CVE-2016-7532/results.fixed.csv\n",
      "../kjd-tmp/output.8-15/out7/CVE-2016-7528/results.fixed.csv\n",
      "../kjd-tmp/output.8-15/out7/CVE-2016-7528/results.fixed.csv\n",
      "../kjd-tmp/output.8-15/out7/CVE-2016-7526/results.fixed.csv\n",
      "../kjd-tmp/output.8-15/out7/CVE-2016-7526/results.fixed.csv\n",
      "../kjd-tmp/output.8-15/out7/CVE-2016-7545/results.fixed.csv\n",
      "../kjd-tmp/output.8-15/out7/CVE-2016-7545/results.fixed.csv\n",
      "../kjd-tmp/output.8-15/out7/CVE-2016-7545/results.fixed.csv\n",
      "../kjd-tmp/output.8-15/out7/CVE-2016-7545/results.fixed.csv\n",
      "../kjd-tmp/output.8-15/out7/CVE-2016-7545/results.fixed.csv\n",
      "../kjd-tmp/output.8-15/out7/CVE-2016-7545/results.fixed.csv\n",
      "../kjd-tmp/output.8-15/out7/CVE-2016-7545/results.fixed.csv\n",
      "../kjd-tmp/output.8-15/out7/CVE-2016-7545/results.fixed.csv\n",
      "../kjd-tmp/output.8-15/out7/CVE-2016-7545/results.fixed.csv\n",
      "../kjd-tmp/output.8-15/out7/CVE-2016-7545/results.fixed.csv\n",
      "../kjd-tmp/output.8-15/out7/CVE-2016-7545/results.fixed.csv\n",
      "../kjd-tmp/output.8-15/out7/CVE-2016-7545/results.fixed.csv\n",
      "../kjd-tmp/output.8-15/out7/CVE-2016-7545/results.fixed.csv\n",
      "../kjd-tmp/output.8-15/out7/CVE-2016-7545/results.fixed.csv\n",
      "../kjd-tmp/output.8-15/out7/CVE-2016-7545/results.fixed.csv\n",
      "../kjd-tmp/output.8-15/out7/CVE-2016-7545/results.fixed.csv\n",
      "../kjd-tmp/output.8-15/out7/CVE-2016-7545/results.fixed.csv\n",
      "../kjd-tmp/output.8-15/out7/CVE-2016-7545/results.fixed.csv\n",
      "../kjd-tmp/output.8-15/out7/CVE-2016-7545/results.fixed.csv\n",
      "../kjd-tmp/output.8-15/out7/CVE-2016-7545/results.fixed.csv\n",
      "../kjd-tmp/output.8-15/out7/CVE-2016-7545/results.fixed.csv\n",
      "../kjd-tmp/output.8-15/out7/CVE-2016-7545/results.fixed.csv\n",
      "../kjd-tmp/output.8-15/out7/CVE-2016-7545/results.fixed.csv\n",
      "../kjd-tmp/output.8-15/out7/CVE-2016-7545/results.fixed.csv\n",
      "../kjd-tmp/output.8-15/out7/CVE-2016-7545/results.fixed.csv\n",
      "../kjd-tmp/output.8-15/out7/CVE-2016-7545/results.fixed.csv\n",
      "../kjd-tmp/output.8-15/out7/CVE-2016-7545/results.fixed.csv\n",
      "../kjd-tmp/output.8-15/out7/CVE-2016-7545/results.fixed.csv\n",
      "../kjd-tmp/output.8-15/out7/CVE-2016-7545/results.fixed.csv\n",
      "../kjd-tmp/output.8-15/out7/CVE-2016-7545/results.fixed.csv\n",
      "../kjd-tmp/output.8-15/out7/CVE-2016-7545/results.fixed.csv\n",
      "../kjd-tmp/output.8-15/out7/CVE-2016-7545/results.fixed.csv\n",
      "../kjd-tmp/output.8-15/out7/CVE-2016-7545/results.fixed.csv\n",
      "../kjd-tmp/output.8-15/out7/CVE-2016-7545/results.fixed.csv\n",
      "../kjd-tmp/output.8-15/out7/CVE-2016-7545/results.fixed.csv\n",
      "../kjd-tmp/output.8-15/out7/CVE-2016-7545/results.fixed.csv\n",
      "../kjd-tmp/output.8-15/out7/CVE-2016-7545/results.fixed.csv\n",
      "../kjd-tmp/output.8-15/out7/CVE-2016-7545/results.fixed.csv\n",
      "../kjd-tmp/output.8-15/out7/CVE-2016-7545/results.fixed.csv\n",
      "../kjd-tmp/output.8-15/out7/CVE-2016-7545/results.fixed.csv\n",
      "../kjd-tmp/output.8-15/out7/CVE-2016-7545/results.fixed.csv\n",
      "../kjd-tmp/output.8-15/out7/CVE-2016-7545/results.fixed.csv\n",
      "../kjd-tmp/output.8-15/out7/CVE-2016-7545/results.fixed.csv\n",
      "../kjd-tmp/output.8-15/out7/CVE-2016-7545/results.fixed.csv\n",
      "../kjd-tmp/output.8-15/out7/CVE-2016-7545/results.fixed.csv\n",
      "../kjd-tmp/output.8-15/out7/CVE-2016-7545/results.fixed.csv\n",
      "../kjd-tmp/output.8-15/out7/CVE-2016-7545/results.fixed.csv\n",
      "../kjd-tmp/output.8-15/out7/CVE-2016-7545/results.fixed.csv\n",
      "../kjd-tmp/output.8-15/out7/CVE-2016-7545/results.fixed.csv\n",
      "../kjd-tmp/output.8-15/out7/CVE-2016-7545/results.fixed.csv\n",
      "../kjd-tmp/output.8-15/out7/CVE-2016-7545/results.fixed.csv\n",
      "../kjd-tmp/output.8-15/out7/CVE-2016-7545/results.fixed.csv\n",
      "../kjd-tmp/output.8-15/out7/CVE-2016-7545/results.fixed.csv\n",
      "../kjd-tmp/output.8-15/out7/CVE-2016-7545/results.fixed.csv\n",
      "../kjd-tmp/output.8-15/out7/CVE-2016-7545/results.fixed.csv\n",
      "../kjd-tmp/output.8-15/out7/CVE-2016-7545/results.fixed.csv\n",
      "../kjd-tmp/output.8-15/out7/CVE-2016-7545/results.fixed.csv\n",
      "../kjd-tmp/output.8-15/out7/CVE-2016-7545/results.fixed.csv\n",
      "../kjd-tmp/output.8-15/out7/CVE-2016-7545/results.fixed.csv\n",
      "../kjd-tmp/output.8-15/out7/CVE-2016-7545/results.fixed.csv\n",
      "../kjd-tmp/output.8-15/out7/CVE-2016-7545/results.fixed.csv\n",
      "../kjd-tmp/output.8-15/out7/CVE-2016-7545/results.fixed.csv\n",
      "../kjd-tmp/output.8-15/out7/CVE-2016-7545/results.fixed.csv\n",
      "../kjd-tmp/output.8-15/out7/CVE-2016-7545/results.fixed.csv\n",
      "../kjd-tmp/output.8-15/out7/CVE-2016-7545/results.fixed.csv\n",
      "../kjd-tmp/output.8-15/out7/CVE-2016-7545/results.fixed.csv\n",
      "../kjd-tmp/output.8-15/out7/CVE-2016-7545/results.fixed.csv\n",
      "../kjd-tmp/output.8-15/out7/CVE-2016-7545/results.fixed.csv\n",
      "../kjd-tmp/output.8-15/out7/CVE-2016-7545/results.fixed.csv\n",
      "../kjd-tmp/output.8-15/out7/CVE-2016-7545/results.fixed.csv\n",
      "../kjd-tmp/output.8-15/out7/CVE-2016-7545/results.fixed.csv\n",
      "../kjd-tmp/output.8-15/out7/CVE-2016-7545/results.fixed.csv\n",
      "../kjd-tmp/output.8-15/out7/CVE-2016-7545/results.fixed.csv\n",
      "../kjd-tmp/output.8-15/out7/CVE-2016-7545/results.fixed.csv\n",
      "../kjd-tmp/output.8-15/out7/CVE-2016-7545/results.fixed.csv\n",
      "../kjd-tmp/output.8-15/out7/CVE-2016-7545/results.fixed.csv\n",
      "../kjd-tmp/output.8-15/out7/CVE-2016-7545/results.fixed.csv\n",
      "../kjd-tmp/output.8-15/out7/CVE-2016-7545/results.fixed.csv\n",
      "../kjd-tmp/output.8-15/out7/CVE-2016-7545/results.fixed.csv\n",
      "../kjd-tmp/output.8-15/out7/CVE-2016-7545/results.fixed.csv\n",
      "../kjd-tmp/output.8-15/out7/CVE-2016-7545/results.fixed.csv\n",
      "../kjd-tmp/output.8-15/out7/CVE-2016-7545/results.fixed.csv\n",
      "../kjd-tmp/output.8-15/out7/CVE-2016-7545/results.fixed.csv\n",
      "../kjd-tmp/output.8-15/out7/CVE-2016-7545/results.fixed.csv\n",
      "../kjd-tmp/output.8-15/out7/CVE-2016-7545/results.fixed.csv\n",
      "../kjd-tmp/output.8-15/out7/CVE-2016-7545/results.fixed.csv\n",
      "../kjd-tmp/output.8-15/out7/CVE-2016-7545/results.fixed.csv\n",
      "../kjd-tmp/output.8-15/out7/CVE-2016-7545/results.fixed.csv\n",
      "../kjd-tmp/output.8-15/out7/CVE-2016-7545/results.fixed.csv\n",
      "../kjd-tmp/output.8-15/out7/CVE-2016-7545/results.fixed.csv\n",
      "../kjd-tmp/output.8-15/out7/CVE-2016-7545/results.fixed.csv\n",
      "../kjd-tmp/output.8-15/out7/CVE-2016-7545/results.fixed.csv\n",
      "../kjd-tmp/output.8-15/out7/CVE-2016-7545/results.fixed.csv\n",
      "../kjd-tmp/output.8-15/out7/CVE-2016-7545/results.fixed.csv\n",
      "../kjd-tmp/output.8-15/out7/CVE-2016-7545/results.fixed.csv\n",
      "../kjd-tmp/output.8-15/out7/CVE-2016-7545/results.fixed.csv\n",
      "../kjd-tmp/output.8-15/out7/CVE-2016-7545/results.fixed.csv\n",
      "../kjd-tmp/output.8-15/out7/CVE-2016-7545/results.fixed.csv\n",
      "../kjd-tmp/output.8-15/out7/CVE-2016-7545/results.fixed.csv\n",
      "../kjd-tmp/output.8-15/out7/CVE-2016-7545/results.fixed.csv\n",
      "../kjd-tmp/output.8-15/out7/CVE-2016-7545/results.fixed.csv\n",
      "../kjd-tmp/output.8-15/out7/CVE-2016-7545/results.fixed.csv\n",
      "../kjd-tmp/output.8-15/out7/CVE-2016-7545/results.fixed.csv\n",
      "../kjd-tmp/output.8-15/out7/CVE-2016-7545/results.fixed.csv\n",
      "../kjd-tmp/output.8-15/out7/CVE-2016-7545/results.fixed.csv\n",
      "../kjd-tmp/output.8-15/out7/CVE-2016-7545/results.fixed.csv\n",
      "../kjd-tmp/output.8-15/out7/CVE-2016-7545/results.fixed.csv\n",
      "../kjd-tmp/output.8-15/out7/CVE-2016-7545/results.fixed.csv\n",
      "../kjd-tmp/output.8-15/out7/CVE-2016-7545/results.fixed.csv\n",
      "../kjd-tmp/output.8-15/out7/CVE-2016-7545/results.fixed.csv\n",
      "../kjd-tmp/output.8-15/out7/CVE-2016-7545/results.fixed.csv\n",
      "../kjd-tmp/output.8-15/out7/CVE-2016-7545/results.fixed.csv\n",
      "../kjd-tmp/output.8-15/out7/CVE-2016-7545/results.fixed.csv\n",
      "../kjd-tmp/output.8-15/out7/CVE-2016-7545/results.fixed.csv\n",
      "../kjd-tmp/output.8-15/out7/CVE-2016-7545/results.fixed.csv\n",
      "../kjd-tmp/output.8-15/out7/CVE-2016-7545/results.fixed.csv\n",
      "../kjd-tmp/output.8-15/out7/CVE-2016-7545/results.fixed.csv\n",
      "../kjd-tmp/output.8-15/out7/CVE-2016-7545/results.fixed.csv\n",
      "../kjd-tmp/output.8-15/out7/CVE-2016-7545/results.fixed.csv\n",
      "../kjd-tmp/output.8-15/out7/CVE-2016-7545/results.fixed.csv\n",
      "../kjd-tmp/output.8-15/out7/CVE-2016-7545/results.fixed.csv\n",
      "../kjd-tmp/output.8-15/out7/CVE-2016-7545/results.fixed.csv\n",
      "../kjd-tmp/output.8-15/out7/CVE-2016-7545/results.fixed.csv\n",
      "../kjd-tmp/output.8-15/out7/CVE-2016-7545/results.fixed.csv\n",
      "../kjd-tmp/output.8-15/out7/CVE-2016-7545/results.fixed.csv\n",
      "../kjd-tmp/output.8-15/out7/CVE-2016-7545/results.fixed.csv\n",
      "../kjd-tmp/output.8-15/out7/CVE-2016-7545/results.fixed.csv\n",
      "../kjd-tmp/output.8-15/out7/CVE-2016-7545/results.fixed.csv\n",
      "../kjd-tmp/output.8-15/out7/CVE-2016-7545/results.fixed.csv\n",
      "../kjd-tmp/output.8-15/out7/CVE-2016-7545/results.fixed.csv\n",
      "../kjd-tmp/output.8-15/out7/CVE-2016-7545/results.fixed.csv\n",
      "../kjd-tmp/output.8-15/out7/CVE-2016-7545/results.fixed.csv\n",
      "../kjd-tmp/output.8-15/out7/CVE-2016-7545/results.fixed.csv\n",
      "../kjd-tmp/output.8-15/out7/CVE-2016-7545/results.fixed.csv\n",
      "../kjd-tmp/output.8-15/out7/CVE-2016-7545/results.fixed.csv\n",
      "../kjd-tmp/output.8-15/out7/CVE-2016-7545/results.fixed.csv\n",
      "../kjd-tmp/output.8-15/out7/CVE-2016-7545/results.fixed.csv\n",
      "../kjd-tmp/output.8-15/out7/CVE-2016-7545/results.fixed.csv\n",
      "../kjd-tmp/output.8-15/out7/CVE-2016-7545/results.fixed.csv\n",
      "../kjd-tmp/output.8-15/out7/CVE-2016-7545/results.fixed.csv\n",
      "../kjd-tmp/output.8-15/out7/CVE-2016-7545/results.fixed.csv\n",
      "../kjd-tmp/output.8-15/out7/CVE-2016-7545/results.fixed.csv\n",
      "../kjd-tmp/output.8-15/out7/CVE-2016-7545/results.fixed.csv\n",
      "../kjd-tmp/output.8-15/out7/CVE-2016-7545/results.fixed.csv\n",
      "../kjd-tmp/output.8-15/out7/CVE-2016-7545/results.fixed.csv\n",
      "../kjd-tmp/output.8-15/out7/CVE-2016-7545/results.fixed.csv\n",
      "../kjd-tmp/output.8-15/out7/CVE-2016-7545/results.fixed.csv\n",
      "../kjd-tmp/output.8-15/out7/CVE-2016-7527/results.fixed.csv\n",
      "../kjd-tmp/output.8-15/out7/CVE-2016-7527/results.fixed.csv\n",
      "../kjd-tmp/output.8-15/out7/CVE-2016-7529/results.fixed.csv\n",
      "../kjd-tmp/output.8-15/out7/CVE-2016-7529/results.fixed.csv\n",
      "../kjd-tmp/output.8-15/out8/CVE-2017-14056/results.fixed.csv\n",
      "../kjd-tmp/output.8-15/out8/CVE-2017-14056/results.fixed.csv\n",
      "../kjd-tmp/output.8-15/out8/CVE-2017-14056/results.fixed.csv\n",
      "../kjd-tmp/output.8-15/out8/CVE-2017-14056/results.fixed.csv\n",
      "../kjd-tmp/output.8-15/out8/CVE-2017-14056/results.fixed.csv\n",
      "../kjd-tmp/output.8-15/out8/CVE-2017-14056/results.fixed.csv\n",
      "../kjd-tmp/output.8-15/out8/CVE-2017-14056/results.fixed.csv\n",
      "../kjd-tmp/output.8-15/out8/CVE-2017-14056/results.fixed.csv\n",
      "../kjd-tmp/output.8-15/out8/CVE-2017-14056/results.fixed.csv\n",
      "../kjd-tmp/output.8-15/out8/CVE-2017-14056/results.fixed.csv\n",
      "../kjd-tmp/output.8-15/out8/CVE-2017-14056/results.fixed.csv\n",
      "../kjd-tmp/output.8-15/out8/CVE-2017-14056/results.fixed.csv\n",
      "../kjd-tmp/output.8-15/out8/CVE-2017-14056/results.fixed.csv\n",
      "../kjd-tmp/output.8-15/out8/CVE-2017-14056/results.fixed.csv\n",
      "../kjd-tmp/output.8-15/out8/CVE-2017-14056/results.fixed.csv\n",
      "../kjd-tmp/output.8-15/out8/CVE-2017-14056/results.fixed.csv\n",
      "../kjd-tmp/output.8-15/out8/CVE-2017-14056/results.fixed.csv\n",
      "../kjd-tmp/output.8-15/out8/CVE-2017-14056/results.fixed.csv\n",
      "../kjd-tmp/output.8-15/out8/CVE-2017-14056/results.fixed.csv\n",
      "../kjd-tmp/output.8-15/out8/CVE-2017-14056/results.fixed.csv\n",
      "../kjd-tmp/output.8-15/out8/CVE-2017-14056/results.fixed.csv\n",
      "../kjd-tmp/output.8-15/out8/CVE-2017-14056/results.fixed.csv\n",
      "../kjd-tmp/output.8-15/out8/CVE-2017-14056/results.fixed.csv\n",
      "../kjd-tmp/output.8-15/out8/CVE-2017-14056/results.fixed.csv\n",
      "../kjd-tmp/output.8-15/out8/CVE-2017-14056/results.fixed.csv\n",
      "../kjd-tmp/output.8-15/out8/CVE-2017-14056/results.fixed.csv\n",
      "../kjd-tmp/output.8-15/out8/CVE-2017-14056/results.fixed.csv\n",
      "../kjd-tmp/output.8-15/out8/CVE-2017-14056/results.fixed.csv\n",
      "../kjd-tmp/output.8-15/out8/CVE-2017-14056/results.fixed.csv\n",
      "../kjd-tmp/output.8-15/out8/CVE-2017-14056/results.fixed.csv\n",
      "../kjd-tmp/output.8-15/out8/CVE-2017-14056/results.fixed.csv\n",
      "../kjd-tmp/output.8-15/out8/CVE-2017-14056/results.fixed.csv\n",
      "../kjd-tmp/output.8-15/out8/CVE-2017-14056/results.fixed.csv\n",
      "../kjd-tmp/output.8-15/out8/CVE-2017-14056/results.fixed.csv\n",
      "../kjd-tmp/output.8-15/out8/CVE-2017-14056/results.fixed.csv\n",
      "../kjd-tmp/output.8-15/out8/CVE-2017-14056/results.fixed.csv\n",
      "../kjd-tmp/output.8-15/out8/CVE-2017-14056/results.fixed.csv\n",
      "../kjd-tmp/output.8-15/out8/CVE-2017-14056/results.fixed.csv\n",
      "../kjd-tmp/output.8-15/out8/CVE-2017-14056/results.fixed.csv\n",
      "../kjd-tmp/output.8-15/out8/CVE-2017-14056/results.fixed.csv\n",
      "../kjd-tmp/output.8-15/out8/CVE-2017-14056/results.fixed.csv\n",
      "../kjd-tmp/output.8-15/out8/CVE-2017-14056/results.fixed.csv\n",
      "../kjd-tmp/output.8-15/out8/CVE-2017-14056/results.fixed.csv\n",
      "../kjd-tmp/output.8-15/out8/CVE-2017-14056/results.fixed.csv\n",
      "../kjd-tmp/output.8-15/out8/CVE-2017-14056/results.fixed.csv\n",
      "../kjd-tmp/output.8-15/out8/CVE-2017-14056/results.fixed.csv\n",
      "../kjd-tmp/output.8-15/out8/CVE-2017-14056/results.fixed.csv\n",
      "../kjd-tmp/output.8-15/out8/CVE-2017-14056/results.fixed.csv\n",
      "../kjd-tmp/output.8-15/out8/CVE-2017-14056/results.fixed.csv\n",
      "../kjd-tmp/output.8-15/out8/CVE-2017-14056/results.fixed.csv\n",
      "../kjd-tmp/output.8-15/out8/CVE-2017-14056/results.fixed.csv\n",
      "../kjd-tmp/output.8-15/out8/CVE-2017-14056/results.fixed.csv\n",
      "../kjd-tmp/output.8-15/out8/CVE-2017-14056/results.fixed.csv\n",
      "../kjd-tmp/output.8-15/out8/CVE-2017-14056/results.fixed.csv\n",
      "../kjd-tmp/output.8-15/out8/CVE-2017-14056/results.fixed.csv\n",
      "../kjd-tmp/output.8-15/out8/CVE-2017-14056/results.fixed.csv\n",
      "../kjd-tmp/output.8-15/out8/CVE-2017-14056/results.fixed.csv\n",
      "../kjd-tmp/output.8-15/out8/CVE-2017-14056/results.fixed.csv\n",
      "../kjd-tmp/output.8-15/out8/CVE-2017-14056/results.fixed.csv\n",
      "../kjd-tmp/output.8-15/out8/CVE-2017-14056/results.fixed.csv\n",
      "../kjd-tmp/output.8-15/out8/CVE-2017-14056/results.fixed.csv\n",
      "../kjd-tmp/output.8-15/out8/CVE-2017-14056/results.fixed.csv\n",
      "../kjd-tmp/output.8-15/out8/CVE-2017-14056/results.fixed.csv\n",
      "../kjd-tmp/output.8-15/out8/CVE-2017-14056/results.fixed.csv\n",
      "../kjd-tmp/output.8-15/out8/CVE-2017-14056/results.fixed.csv\n",
      "../kjd-tmp/output.8-15/out8/CVE-2017-14056/results.fixed.csv\n",
      "../kjd-tmp/output.8-15/out8/CVE-2017-14056/results.fixed.csv\n",
      "../kjd-tmp/output.8-15/out8/CVE-2017-14056/results.fixed.csv\n",
      "../kjd-tmp/output.8-15/out8/CVE-2017-14056/results.fixed.csv\n",
      "../kjd-tmp/output.8-15/out8/CVE-2017-14056/results.fixed.csv\n",
      "../kjd-tmp/output.8-15/out8/CVE-2017-14056/results.fixed.csv\n",
      "../kjd-tmp/output.8-15/out8/CVE-2017-14056/results.fixed.csv\n",
      "../kjd-tmp/output.8-15/out8/CVE-2017-14056/results.fixed.csv\n",
      "../kjd-tmp/output.8-15/out9/CVE-2017-5511/results.fixed.csv\n",
      "../kjd-tmp/output.8-15/out9/CVE-2017-5545/results.fixed.csv\n",
      "../kjd-tmp/output.8-15/out9/CVE-2017-5545/results.fixed.csv\n",
      "../kjd-tmp/output.8-15/out10/CVE-2018-1000658/results.fixed.csv\n",
      "../kjd-tmp/output.8-15/out10/CVE-2018-1000658/results.fixed.csv\n",
      "../kjd-tmp/output.8-15/out10/CVE-2018-1000528/results.fixed.csv\n",
      "../kjd-tmp/output.8-15/out10/CVE-2018-10017/results.fixed.csv\n",
      "../kjd-tmp/output.8-15/out10/CVE-2018-10017/results.fixed.csv\n",
      "../kjd-tmp/output.8-15/out10/CVE-2018-10017/results.fixed.csv\n",
      "../kjd-tmp/output.8-15/out10/CVE-2018-10017/results.fixed.csv\n",
      "../kjd-tmp/output.8-15/out12/CVE-2019-11596/results.fixed.csv\n",
      "../kjd-tmp/output.8-15/out12/CVE-2019-11596/results.fixed.csv\n",
      "../kjd-tmp/output.8-15/out14/CVE-2020-11940/results.fixed.csv\n",
      "../kjd-tmp/output.8-15/out14/CVE-2020-12284/results.fixed.csv\n",
      "../kjd-tmp/output.8-15/out14/CVE-2020-12284/results.fixed.csv\n",
      "../kjd-tmp/output.8-15/out14/CVE-2020-12284/results.fixed.csv\n",
      "../kjd-tmp/output.8-15/out14/CVE-2020-12284/results.fixed.csv\n",
      "../kjd-tmp/output.8-15/out14/CVE-2020-12284/results.fixed.csv\n",
      "../kjd-tmp/output.8-15/out14/CVE-2020-12284/results.fixed.csv\n",
      "../kjd-tmp/output.8-15/out14/CVE-2020-12284/results.fixed.csv\n",
      "../kjd-tmp/output.8-15/out14/CVE-2020-12284/results.fixed.csv\n",
      "../kjd-tmp/output.8-15/out14/CVE-2020-12284/results.fixed.csv\n",
      "../kjd-tmp/output.8-15/out14/CVE-2020-12284/results.fixed.csv\n",
      "../kjd-tmp/output.8-15/out14/CVE-2020-12284/results.fixed.csv\n",
      "../kjd-tmp/output.8-15/out14/CVE-2020-12284/results.fixed.csv\n",
      "../kjd-tmp/output.8-15/out14/CVE-2020-11810/results.fixed.csv\n",
      "../kjd-tmp/output.8-15/out14/CVE-2020-11810/results.fixed.csv\n",
      "../kjd-tmp/output.8-15/out14/CVE-2020-11810/results.fixed.csv\n",
      "../kjd-tmp/output.8-15/out14/CVE-2020-11810/results.fixed.csv\n",
      "../kjd-tmp/output.8-15/out14/CVE-2020-11810/results.fixed.csv\n",
      "../kjd-tmp/output.8-15/out14/CVE-2020-12066/results.fixed.csv\n",
      "../kjd-tmp/output.8-15/out14/CVE-2020-11939/results.fixed.csv\n",
      "../kjd-tmp/output.8-15/out14/CVE-2020-12268/results.fixed.csv\n",
      "../kjd-tmp/output.8-15/out14/CVE-2020-12268/results.fixed.csv\n",
      "../kjd-tmp/output.8-15/out14/CVE-2020-12268/results.fixed.csv\n",
      "../kjd-tmp/output.8-15/out14/CVE-2020-12268/results.fixed.csv\n",
      "../kjd-tmp/output.8-15/out14/CVE-2020-12268/results.fixed.csv\n",
      "../kjd-tmp/output.8-15/out14/CVE-2020-12062/results.fixed.csv\n",
      "../kjd-tmp/output.8-15/out14/CVE-2020-12062/results.fixed.csv\n",
      "../kjd-tmp/output.8-15/out14/CVE-2020-12062/results.fixed.csv\n",
      "../kjd-tmp/output.8-15/out14/CVE-2020-12062/results.fixed.csv\n",
      "../kjd-tmp/output.8-15/out14/CVE-2020-12062/results.fixed.csv\n",
      "../kjd-tmp/output.8-15/out14/CVE-2020-11958/results.fixed.csv\n",
      "../kjd-tmp/output.8-15/out15/CVE-2020-28896/results.fixed.csv\n",
      "../kjd-tmp/output.8-15/out15/CVE-2020-29367/results.fixed.csv\n",
      "../kjd-tmp/output.8-15/out15/CVE-2020-28941/results.fixed.csv\n",
      "../kjd-tmp/output.8-15/out15/CVE-2020-28941/results.fixed.csv\n",
      "../kjd-tmp/output.8-15/out15/CVE-2020-28941/results.fixed.csv\n",
      "../kjd-tmp/output.8-15/out15/CVE-2020-28941/results.fixed.csv\n",
      "../kjd-tmp/output.8-15/out15/CVE-2020-28941/results.fixed.csv\n",
      "../kjd-tmp/output.8-15/out15/CVE-2020-28941/results.fixed.csv\n",
      "../kjd-tmp/output.8-15/out15/CVE-2020-28941/results.fixed.csv\n",
      "../kjd-tmp/output.8-15/out15/CVE-2020-28941/results.fixed.csv\n",
      "../kjd-tmp/output.8-15/out15/CVE-2020-28941/results.fixed.csv\n",
      "../kjd-tmp/output.8-15/out15/CVE-2020-28941/results.fixed.csv\n",
      "../kjd-tmp/output.8-15/out15/CVE-2020-28954/results.fixed.csv\n",
      "../kjd-tmp/output.8-15/out16/CVE-2021-28041/results.fixed.csv\n"
     ]
    }
   ],
   "source": [
    "for value in df_fixed['from_file']:\n",
    "    print(value)"
   ]
  },
  {
   "cell_type": "code",
   "execution_count": 21,
   "id": "cffc87a1",
   "metadata": {},
   "outputs": [
    {
     "data": {
      "text/plain": [
       "Index(['time_diff', 'project', 'first good blob commit',\n",
       "       'first good commit time', 'first bad blob commit',\n",
       "       'first bad commit time', 'cve publication date', 'num commits', 'CVE',\n",
       "       'from_file', 'fix_time', 'intro_time', 'cve_time', 'diff_fix_intro'],\n",
       "      dtype='object')"
      ]
     },
     "execution_count": 21,
     "metadata": {},
     "output_type": "execute_result"
    }
   ],
   "source": [
    "df_fixed.columns"
   ]
  },
  {
   "cell_type": "code",
   "execution_count": 6,
   "id": "03ca291c",
   "metadata": {},
   "outputs": [],
   "source": [
    "df_fixed['fix_time'] = pd.to_datetime(df_fixed[\"first good commit time\"], format=\"%Y-%m-%d:%H:%M:%S\")\n",
    "df_fixed['intro_time'] = pd.to_datetime(df_fixed[\"first bad commit time\"], format=\"%Y-%m-%d:%H:%M:%S\")\n",
    "df_fixed['cve_time'] = pd.to_datetime(df_fixed[\"cve publication date\"], format=\"%Y-%m-%d_%H:%M:%S\")"
   ]
  },
  {
   "cell_type": "code",
   "execution_count": 16,
   "id": "19e91b1e",
   "metadata": {},
   "outputs": [],
   "source": [
    "df_fixed['diff_fix_intro'] = (df_fixed['fix_time'] - df_fixed['intro_time']).dt.days"
   ]
  },
  {
   "cell_type": "code",
   "execution_count": 14,
   "id": "0c3e9152",
   "metadata": {},
   "outputs": [
    {
     "data": {
      "text/plain": [
       "0   2017-10-29 02:29:00\n",
       "1   2017-10-29 02:29:00\n",
       "2   2017-10-29 02:29:00\n",
       "3   2017-10-29 02:29:00\n",
       "4   2017-10-29 02:29:00\n",
       "            ...        \n",
       "7   2020-11-19 14:15:00\n",
       "8   2020-11-19 14:15:00\n",
       "9   2020-11-19 14:15:00\n",
       "0   2020-11-19 17:15:00\n",
       "0   2021-03-05 16:15:00\n",
       "Name: cve_time, Length: 506, dtype: datetime64[ns]"
      ]
     },
     "execution_count": 14,
     "metadata": {},
     "output_type": "execute_result"
    }
   ],
   "source": [
    "df_fixed['cve_time']"
   ]
  },
  {
   "cell_type": "code",
   "execution_count": 15,
   "id": "ec8cfb3e",
   "metadata": {},
   "outputs": [
    {
     "data": {
      "text/plain": [
       "0      0 days 00:00:00\n",
       "1    320 days 23:52:12\n",
       "2    384 days 23:49:09\n",
       "3    384 days 23:49:09\n",
       "4      0 days 00:12:44\n",
       "           ...        \n",
       "7    157 days 13:48:10\n",
       "8    149 days 23:33:44\n",
       "9      0 days 00:20:08\n",
       "0      0 days 00:18:38\n",
       "0   7784 days 00:20:58\n",
       "Name: diff_fix_intro, Length: 506, dtype: timedelta64[ns]"
      ]
     },
     "execution_count": 15,
     "metadata": {},
     "output_type": "execute_result"
    }
   ],
   "source": [
    "df_fixed['diff_fix_intro']"
   ]
  },
  {
   "cell_type": "code",
   "execution_count": 17,
   "id": "71dd4ca7",
   "metadata": {},
   "outputs": [
    {
     "name": "stderr",
     "output_type": "stream",
     "text": [
      "/opt/homebrew/lib/python3.10/site-packages/pandas/plotting/_matplotlib/core.py:1114: UserWarning: No data for colormapping provided via 'c'. Parameters 'cmap' will be ignored\n",
      "  scatter = ax.scatter(\n"
     ]
    },
    {
     "data": {
      "text/plain": [
       "<AxesSubplot: xlabel='cve_time', ylabel='diff_fix_intro'>"
      ]
     },
     "execution_count": 17,
     "metadata": {},
     "output_type": "execute_result"
    },
    {
     "data": {
      "image/png": "[encoded data removed]",
      "text/plain": [
       "<Figure size 432x288 with 1 Axes>"
      ]
     },
     "metadata": {
      "needs_background": "light"
     },
     "output_type": "display_data"
    }
   ],
   "source": [
    "import matplotlib\n",
    "\n",
    "df_fixed.plot(kind='scatter', x='cve_time', y='diff_fix_intro')"
   ]
  },
  {
   "cell_type": "code",
   "execution_count": 18,
   "id": "87c3405c",
   "metadata": {},
   "outputs": [
    {
     "data": {
      "text/plain": [
       "<AxesSubplot: xlabel='intro_time', ylabel='diff_fix_intro'>"
      ]
     },
     "execution_count": 18,
     "metadata": {},
     "output_type": "execute_result"
    },
    {
     "data": {
      "image/png": "[encoded data removed]",
      "text/plain": [
       "<Figure size 432x288 with 1 Axes>"
      ]
     },
     "metadata": {
      "needs_background": "light"
     },
     "output_type": "display_data"
    }
   ],
   "source": [
    "df_fixed.plot(kind='scatter', x='intro_time', y='diff_fix_intro')"
   ]
  },
  {
   "cell_type": "code",
   "execution_count": 19,
   "id": "dedf63be",
   "metadata": {},
   "outputs": [
    {
     "data": {
      "text/plain": [
       "<AxesSubplot: xlabel='fix_time', ylabel='diff_fix_intro'>"
      ]
     },
     "execution_count": 19,
     "metadata": {},
     "output_type": "execute_result"
    },
    {
     "data": {
      "image/png": "[encoded data removed]",
      "text/plain": [
       "<Figure size 432x288 with 1 Axes>"
      ]
     },
     "metadata": {
      "needs_background": "light"
     },
     "output_type": "display_data"
    }
   ],
   "source": [
    "df_fixed.plot(kind='scatter', x='fix_time', y='diff_fix_intro')"
   ]
  },
  {
   "cell_type": "code",
   "execution_count": 20,
   "id": "85b9984c",
   "metadata": {},
   "outputs": [
    {
     "data": {
      "text/plain": [
       "<AxesSubplot: xlabel='intro_time', ylabel='fix_time'>"
      ]
     },
     "execution_count": 20,
     "metadata": {},
     "output_type": "execute_result"
    },
    {
     "data": {
      "image/png": "[encoded data removed]",
      "text/plain": [
       "<Figure size 432x288 with 1 Axes>"
      ]
     },
     "metadata": {
      "needs_background": "light"
     },
     "output_type": "display_data"
    }
   ],
   "source": [
    "df_fixed.plot(kind='scatter', x='intro_time', y='fix_time')"
   ]
  },
  {
   "cell_type": "code",
   "execution_count": 8,
   "id": "5b1b8907",
   "metadata": {},
   "outputs": [
    {
     "data": {
      "text/html": [
       "<div>\n",
       "<style scoped>\n",
       "    .dataframe tbody tr th:only-of-type {\n",
       "        vertical-align: middle;\n",
       "    }\n",
       "\n",
       "    .dataframe tbody tr th {\n",
       "        vertical-align: top;\n",
       "    }\n",
       "\n",
       "    .dataframe thead th {\n",
       "        text-align: right;\n",
       "    }\n",
       "</style>\n",
       "<table border=\"1\" class=\"dataframe\">\n",
       "  <thead>\n",
       "    <tr style=\"text-align: right;\">\n",
       "      <th></th>\n",
       "      <th>time_diff</th>\n",
       "      <th>project</th>\n",
       "      <th>first good blob commit</th>\n",
       "      <th>first good commit time</th>\n",
       "      <th>first bad blob commit</th>\n",
       "      <th>first bad commit time</th>\n",
       "      <th>cve publication date</th>\n",
       "      <th>num commits</th>\n",
       "      <th>CVE</th>\n",
       "      <th>from_file</th>\n",
       "      <th>fix_time</th>\n",
       "      <th>intro_time</th>\n",
       "      <th>cve_time</th>\n",
       "    </tr>\n",
       "  </thead>\n",
       "  <tbody>\n",
       "    <tr>\n",
       "      <th>0</th>\n",
       "      <td>-17 years and 43 days</td>\n",
       "      <td>broftkd_linux-history-repo</td>\n",
       "      <td>025cc935ee23e9eb632f8b964811907d730841a7</td>\n",
       "      <td>2000-05-23:20:15:00</td>\n",
       "      <td>03378c0fd8095db80b02d351f2ddfc01ff547261</td>\n",
       "      <td>2000-05-23:20:15:00</td>\n",
       "      <td>2017-10-29_02:29:00</td>\n",
       "      <td>179968</td>\n",
       "      <td>CVE-2006-5331</td>\n",
       "      <td>../kjd-tmp/output.8-15/out1/CVE-2006-5331/resu...</td>\n",
       "      <td>2000-05-23 20:15:00</td>\n",
       "      <td>2000-05-23 20:15:00</td>\n",
       "      <td>2017-10-29 02:29:00</td>\n",
       "    </tr>\n",
       "    <tr>\n",
       "      <th>1</th>\n",
       "      <td>-10 years and 91 days</td>\n",
       "      <td>git.kernel.org_pub_scm_linux_kernel_git_ralf_l...</td>\n",
       "      <td>3de5789e2efe2906867921a12f376dd645389561</td>\n",
       "      <td>2006-12-01:17:57:34</td>\n",
       "      <td>1bdaf50ba1e9a7c9991e3fdb92c3fca63b776178</td>\n",
       "      <td>2006-01-14:18:05:22</td>\n",
       "      <td>2017-10-29_02:29:00</td>\n",
       "      <td>unknown (git.kernel)</td>\n",
       "      <td>CVE-2006-5331</td>\n",
       "      <td>../kjd-tmp/output.8-15/out1/CVE-2006-5331/resu...</td>\n",
       "      <td>2006-12-01 17:57:34</td>\n",
       "      <td>2006-01-14 18:05:22</td>\n",
       "      <td>2017-10-29 02:29:00</td>\n",
       "    </tr>\n",
       "    <tr>\n",
       "      <th>2</th>\n",
       "      <td>-11 years and 04 days</td>\n",
       "      <td>illacceptanything_illacceptanything</td>\n",
       "      <td>6c4841c2b6c32a134f9f36e5e08857138cc12b10</td>\n",
       "      <td>2006-10-16:01:53:30</td>\n",
       "      <td>14cf11af6cf608eb8c23e989ddb17a715ddce109</td>\n",
       "      <td>2005-09-26:02:04:21</td>\n",
       "      <td>2017-10-29_02:29:00</td>\n",
       "      <td>140501</td>\n",
       "      <td>CVE-2006-5331</td>\n",
       "      <td>../kjd-tmp/output.8-15/out1/CVE-2006-5331/resu...</td>\n",
       "      <td>2006-10-16 01:53:30</td>\n",
       "      <td>2005-09-26 02:04:21</td>\n",
       "      <td>2017-10-29 02:29:00</td>\n",
       "    </tr>\n",
       "    <tr>\n",
       "      <th>3</th>\n",
       "      <td>-11 years and 04 days</td>\n",
       "      <td>Jackeagle_kernel_msm-3.18</td>\n",
       "      <td>09893fc4f22f2db953dbfb5149ea437781cabca0</td>\n",
       "      <td>2006-10-16:01:53:30</td>\n",
       "      <td>14cf11af6cf608eb8c23e989ddb17a715ddce109</td>\n",
       "      <td>2005-09-26:02:04:21</td>\n",
       "      <td>2017-10-29_02:29:00</td>\n",
       "      <td>499042</td>\n",
       "      <td>CVE-2006-5331</td>\n",
       "      <td>../kjd-tmp/output.8-15/out1/CVE-2006-5331/resu...</td>\n",
       "      <td>2006-10-16 01:53:30</td>\n",
       "      <td>2005-09-26 02:04:21</td>\n",
       "      <td>2017-10-29 02:29:00</td>\n",
       "    </tr>\n",
       "    <tr>\n",
       "      <th>4</th>\n",
       "      <td>-3 years and 06 days</td>\n",
       "      <td>jikk_kernel</td>\n",
       "      <td>68ccdc7062ba923d2975134cfa9c68a22aab3331</td>\n",
       "      <td>2014-10-06:13:58:15</td>\n",
       "      <td>b2b3651fc99445bcb1703c73f98d25454527ba2a</td>\n",
       "      <td>2014-10-06:13:45:31</td>\n",
       "      <td>2017-10-29_02:29:00</td>\n",
       "      <td>NaN</td>\n",
       "      <td>CVE-2006-5331</td>\n",
       "      <td>../kjd-tmp/output.8-15/out1/CVE-2006-5331/resu...</td>\n",
       "      <td>2014-10-06 13:58:15</td>\n",
       "      <td>2014-10-06 13:45:31</td>\n",
       "      <td>2017-10-29 02:29:00</td>\n",
       "    </tr>\n",
       "  </tbody>\n",
       "</table>\n",
       "</div>"
      ],
      "text/plain": [
       "               time_diff                                            project  \\\n",
       "0  -17 years and 43 days                         broftkd_linux-history-repo   \n",
       "1  -10 years and 91 days  git.kernel.org_pub_scm_linux_kernel_git_ralf_l...   \n",
       "2  -11 years and 04 days                illacceptanything_illacceptanything   \n",
       "3  -11 years and 04 days                          Jackeagle_kernel_msm-3.18   \n",
       "4   -3 years and 06 days                                        jikk_kernel   \n",
       "\n",
       "                     first good blob commit first good commit time  \\\n",
       "0  025cc935ee23e9eb632f8b964811907d730841a7    2000-05-23:20:15:00   \n",
       "1  3de5789e2efe2906867921a12f376dd645389561    2006-12-01:17:57:34   \n",
       "2  6c4841c2b6c32a134f9f36e5e08857138cc12b10    2006-10-16:01:53:30   \n",
       "3  09893fc4f22f2db953dbfb5149ea437781cabca0    2006-10-16:01:53:30   \n",
       "4  68ccdc7062ba923d2975134cfa9c68a22aab3331    2014-10-06:13:58:15   \n",
       "\n",
       "                      first bad blob commit first bad commit time  \\\n",
       "0  03378c0fd8095db80b02d351f2ddfc01ff547261   2000-05-23:20:15:00   \n",
       "1  1bdaf50ba1e9a7c9991e3fdb92c3fca63b776178   2006-01-14:18:05:22   \n",
       "2  14cf11af6cf608eb8c23e989ddb17a715ddce109   2005-09-26:02:04:21   \n",
       "3  14cf11af6cf608eb8c23e989ddb17a715ddce109   2005-09-26:02:04:21   \n",
       "4  b2b3651fc99445bcb1703c73f98d25454527ba2a   2014-10-06:13:45:31   \n",
       "\n",
       "  cve publication date           num commits            CVE  \\\n",
       "0  2017-10-29_02:29:00                179968  CVE-2006-5331   \n",
       "1  2017-10-29_02:29:00  unknown (git.kernel)  CVE-2006-5331   \n",
       "2  2017-10-29_02:29:00                140501  CVE-2006-5331   \n",
       "3  2017-10-29_02:29:00                499042  CVE-2006-5331   \n",
       "4  2017-10-29_02:29:00                   NaN  CVE-2006-5331   \n",
       "\n",
       "                                           from_file            fix_time  \\\n",
       "0  ../kjd-tmp/output.8-15/out1/CVE-2006-5331/resu... 2000-05-23 20:15:00   \n",
       "1  ../kjd-tmp/output.8-15/out1/CVE-2006-5331/resu... 2006-12-01 17:57:34   \n",
       "2  ../kjd-tmp/output.8-15/out1/CVE-2006-5331/resu... 2006-10-16 01:53:30   \n",
       "3  ../kjd-tmp/output.8-15/out1/CVE-2006-5331/resu... 2006-10-16 01:53:30   \n",
       "4  ../kjd-tmp/output.8-15/out1/CVE-2006-5331/resu... 2014-10-06 13:58:15   \n",
       "\n",
       "           intro_time            cve_time  \n",
       "0 2000-05-23 20:15:00 2017-10-29 02:29:00  \n",
       "1 2006-01-14 18:05:22 2017-10-29 02:29:00  \n",
       "2 2005-09-26 02:04:21 2017-10-29 02:29:00  \n",
       "3 2005-09-26 02:04:21 2017-10-29 02:29:00  \n",
       "4 2014-10-06 13:45:31 2017-10-29 02:29:00  "
      ]
     },
     "execution_count": 8,
     "metadata": {},
     "output_type": "execute_result"
    }
   ],
   "source": [
    "df_fixed.head()"
   ]
  },
  {
   "cell_type": "markdown",
   "id": "f6c3140c",
   "metadata": {},
   "source": [
    "# RQs\n",
    "\n",
    "* RQ1: How prevalent are cloned files with vulnerabilities?\n",
    "* RQ2: What percentage of cloned vulnerabilities are fixed?\n",
    "* RQ3: How long does it take to fix a cloned vulnerability?\n",
    "* RQ4: What are the characteristics of projects that have cloned vulnerabilities? Popularity, etc.\n",
    "* RQ5: What are the characteristics of projects that fix cloned vulnerabilities?"
   ]
  },
  {
   "cell_type": "markdown",
   "id": "f9b834b9",
   "metadata": {},
   "source": [
    " ## RQ1 How prevalent are cloned files with vulnerabilities?\n",
    " \n",
    " * how many vulnerabilities did we look at in total? = number of vulnerabilities in filtered CVEFixes dataset\n",
    " * how many vulnerabilities have been cloned to other projects? To how many other projects in total? \n",
    " * should we compare this to the total number of projects? Is there such a number? "
   ]
  },
  {
   "cell_type": "code",
   "execution_count": 47,
   "id": "4172a6cc",
   "metadata": {},
   "outputs": [
    {
     "data": {
      "text/plain": [
       "7243"
      ]
     },
     "execution_count": 47,
     "metadata": {},
     "output_type": "execute_result"
    }
   ],
   "source": [
    "all_projects = pd.concat([df_fixed['project'], df_notfixed['project'], df_unknown['project']])\n",
    "\n",
    "all_projects.nunique()"
   ]
  },
  {
   "cell_type": "code",
   "execution_count": 43,
   "id": "ad8aaa8b",
   "metadata": {},
   "outputs": [
    {
     "data": {
      "text/plain": [
       "88"
      ]
     },
     "execution_count": 43,
     "metadata": {},
     "output_type": "execute_result"
    }
   ],
   "source": [
    "all_vulns = pd.concat([df_fixed['CVE'], df_notfixed['CVE'], df_unknown['CVE']])\n",
    "\n",
    "all_vulns.nunique()"
   ]
  },
  {
   "cell_type": "code",
   "execution_count": 44,
   "id": "a2ab3d74",
   "metadata": {},
   "outputs": [
    {
     "data": {
      "text/plain": [
       "50"
      ]
     },
     "execution_count": 44,
     "metadata": {},
     "output_type": "execute_result"
    }
   ],
   "source": [
    "df_fixed['CVE'].nunique()"
   ]
  },
  {
   "cell_type": "code",
   "execution_count": 45,
   "id": "0e611c2a",
   "metadata": {},
   "outputs": [
    {
     "data": {
      "text/plain": [
       "82"
      ]
     },
     "execution_count": 45,
     "metadata": {},
     "output_type": "execute_result"
    }
   ],
   "source": [
    "df_notfixed['CVE'].nunique()"
   ]
  },
  {
   "cell_type": "code",
   "execution_count": 46,
   "id": "a0da8ed4",
   "metadata": {},
   "outputs": [
    {
     "data": {
      "text/plain": [
       "59"
      ]
     },
     "execution_count": 46,
     "metadata": {},
     "output_type": "execute_result"
    }
   ],
   "source": [
    "df_unknown['CVE'].nunique()"
   ]
  },
  {
   "cell_type": "markdown",
   "id": "a7dcdee2",
   "metadata": {},
   "source": [
    "In total (currently) 88 vulnerabilities were analysed, these 88 vulnerabilities were cloned into 7243 projects. For 82 of the 88 vulnerabilities there was at least 1 project that cloned the vulnerability but did not fix it. For 50 vulnerabilities at least 1 project fixed this cloned vulnerability. "
   ]
  },
  {
   "cell_type": "markdown",
   "id": "a3abc022",
   "metadata": {},
   "source": [
    "## RQ2: What percentage of cloned vulnerabilities are fixed?\n",
    "\n",
    "* number of cloned vulnerabilities that are fixed / number of cloned vulnerabilities "
   ]
  },
  {
   "cell_type": "code",
   "execution_count": 34,
   "id": "7a17148a",
   "metadata": {},
   "outputs": [
    {
     "data": {
      "text/plain": [
       "506"
      ]
     },
     "execution_count": 34,
     "metadata": {},
     "output_type": "execute_result"
    }
   ],
   "source": [
    "df_fixed['project'].count()"
   ]
  },
  {
   "cell_type": "code",
   "execution_count": 35,
   "id": "f2ad8efe",
   "metadata": {},
   "outputs": [
    {
     "data": {
      "text/plain": [
       "15286"
      ]
     },
     "execution_count": 35,
     "metadata": {},
     "output_type": "execute_result"
    }
   ],
   "source": [
    "df_notfixed['project'].count()"
   ]
  },
  {
   "cell_type": "code",
   "execution_count": 36,
   "id": "b20cb8cd",
   "metadata": {},
   "outputs": [
    {
     "data": {
      "text/plain": [
       "945"
      ]
     },
     "execution_count": 36,
     "metadata": {},
     "output_type": "execute_result"
    }
   ],
   "source": [
    "df_unknown['project'].count()"
   ]
  },
  {
   "cell_type": "code",
   "execution_count": 37,
   "id": "8bc47efb",
   "metadata": {},
   "outputs": [
    {
     "data": {
      "text/plain": [
       "0.03023241919101392"
      ]
     },
     "execution_count": 37,
     "metadata": {},
     "output_type": "execute_result"
    }
   ],
   "source": [
    "df_fixed['project'].count() / (df_fixed['project'].count() + df_notfixed['project'].count() + df_unknown['project'].count())"
   ]
  },
  {
   "cell_type": "code",
   "execution_count": 48,
   "id": "5939822c",
   "metadata": {},
   "outputs": [
    {
     "data": {
      "text/plain": [
       "0.913305849315887"
      ]
     },
     "execution_count": 48,
     "metadata": {},
     "output_type": "execute_result"
    }
   ],
   "source": [
    "df_notfixed['project'].count() / (df_fixed['project'].count() + df_notfixed['project'].count() + df_unknown['project'].count())"
   ]
  },
  {
   "cell_type": "markdown",
   "id": "529b691d",
   "metadata": {},
   "source": [
    "__Answer__: only 3% of cloned vulnerabilities are fixed!! Over 90% of the cloned vulnerabilities are still present in the projects. "
   ]
  },
  {
   "cell_type": "markdown",
   "id": "0cbc4dd3",
   "metadata": {},
   "source": [
    "It would be good to have a possibility to filter out more toy projects. "
   ]
  },
  {
   "cell_type": "markdown",
   "id": "8997ec83",
   "metadata": {},
   "source": [
    "## RQ3: How long does it take to fix a cloned vulnerability?"
   ]
  },
  {
   "cell_type": "code",
   "execution_count": 58,
   "id": "dde77d69",
   "metadata": {},
   "outputs": [
    {
     "data": {
      "text/plain": [
       "{'bodies': [<matplotlib.collections.PolyCollection at 0x139c3c790>],\n",
       " 'cmaxes': <matplotlib.collections.LineCollection at 0x11b4443d0>,\n",
       " 'cmins': <matplotlib.collections.LineCollection at 0x139c3cd60>,\n",
       " 'cbars': <matplotlib.collections.LineCollection at 0x139c3d0c0>}"
      ]
     },
     "execution_count": 58,
     "metadata": {},
     "output_type": "execute_result"
    },
    {
     "data": {
      "image/png": "[encoded data removed]",
      "text/plain": [
       "<Figure size 432x288 with 1 Axes>"
      ]
     },
     "metadata": {
      "needs_background": "light"
     },
     "output_type": "display_data"
    }
   ],
   "source": [
    "import matplotlib.pyplot as plt\n",
    "import numpy as np\n",
    "\n",
    "plt.violinplot(np.asarray(df_fixed[~np.isnan(df_fixed['diff_fix_intro'])]['diff_fix_intro']))"
   ]
  },
  {
   "cell_type": "code",
   "execution_count": 60,
   "id": "4e0bd5a8",
   "metadata": {},
   "outputs": [
    {
     "data": {
      "text/plain": [
       "count     502.000000\n",
       "mean      532.111554\n",
       "std      1083.947185\n",
       "min      -493.000000\n",
       "25%         0.000000\n",
       "50%         7.500000\n",
       "75%       506.000000\n",
       "max      7784.000000\n",
       "Name: diff_fix_intro, dtype: float64"
      ]
     },
     "execution_count": 60,
     "metadata": {},
     "output_type": "execute_result"
    }
   ],
   "source": [
    "df_fixed['diff_fix_intro'].describe()"
   ]
  },
  {
   "cell_type": "code",
   "execution_count": 64,
   "id": "8c655858",
   "metadata": {},
   "outputs": [
    {
     "data": {
      "text/plain": [
       "count     16.000000\n",
       "mean     -63.500000\n",
       "std      133.132015\n",
       "min     -493.000000\n",
       "25%      -30.000000\n",
       "50%      -17.000000\n",
       "75%       -2.000000\n",
       "max       -1.000000\n",
       "Name: diff_fix_intro, dtype: float64"
      ]
     },
     "execution_count": 64,
     "metadata": {},
     "output_type": "execute_result"
    }
   ],
   "source": [
    "df_fixed[df_fixed['diff_fix_intro'] < 0]['diff_fix_intro'].describe()"
   ]
  },
  {
   "cell_type": "markdown",
   "id": "1f2cc200",
   "metadata": {},
   "source": [
    "__Answer__: 50% of the cloned vulnerabilities that are fixed are fixed within a week (approximately). 75% of cloned vulnerabilities are fixed within two years. \n",
    "\n",
    "16 of the cloned vulnerabilities are fixed before they were introduced. 50% of them less than 17 day"
   ]
  },
  {
   "cell_type": "markdown",
   "id": "113fb868",
   "metadata": {},
   "source": [
    "## RQ4: What are the characteristics of projects that have cloned vulnerabilities? Popularity, etc."
   ]
  },
  {
   "cell_type": "markdown",
   "id": "becd7d39",
   "metadata": {},
   "source": [
    "## RQ5: What are the characteristics of projects that fix cloned vulnerabilities?"
   ]
  }
 ],
 "metadata": {
  "kernelspec": {
   "display_name": "Python 3 (ipykernel)",
   "language": "python",
   "name": "python3"
  },
  "language_info": {
   "codemirror_mode": {
    "name": "ipython",
    "version": 3
   },
   "file_extension": ".py",
   "mimetype": "text/x-python",
   "name": "python",
   "nbconvert_exporter": "python",
   "pygments_lexer": "ipython3",
   "version": "3.10.6"
  }
 },
 "nbformat": 4,
 "nbformat_minor": 5
}
